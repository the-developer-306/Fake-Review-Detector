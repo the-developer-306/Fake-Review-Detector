{
 "cells": [
  {
   "cell_type": "markdown",
   "id": "2f056f5c",
   "metadata": {
    "_cell_guid": "faae3a08-8719-433a-a9ab-f97be5264f77",
    "_uuid": "8299ed77-fcff-4af9-9036-b0fe0fc57b5c",
    "papermill": {
     "duration": 0.026089,
     "end_time": "2024-12-18T19:31:46.093704",
     "exception": false,
     "start_time": "2024-12-18T19:31:46.067615",
     "status": "completed"
    },
    "tags": []
   },
   "source": [
    "# Making Dataset"
   ]
  },
  {
   "cell_type": "markdown",
   "id": "6c703584",
   "metadata": {
    "_cell_guid": "ee1bd776-8a80-4638-a3cb-fc7b778e6258",
    "_uuid": "81215615-8c9c-4d17-8f18-1b247e2234b3",
    "papermill": {
     "duration": 0.022387,
     "end_time": "2024-12-18T19:31:46.139415",
     "exception": false,
     "start_time": "2024-12-18T19:31:46.117028",
     "status": "completed"
    },
    "tags": []
   },
   "source": [
    "## Importing libaries for Dataset creation"
   ]
  },
  {
   "cell_type": "code",
   "execution_count": 1,
   "id": "4d8273da",
   "metadata": {
    "_cell_guid": "e07813da-9c66-4e80-b749-c3229712872a",
    "_uuid": "331967ce-719a-459d-971a-3e9740b20a94",
    "collapsed": false,
    "execution": {
     "iopub.execute_input": "2024-12-18T19:31:46.187373Z",
     "iopub.status.busy": "2024-12-18T19:31:46.186521Z",
     "iopub.status.idle": "2024-12-18T19:31:47.119173Z",
     "shell.execute_reply": "2024-12-18T19:31:47.117954Z"
    },
    "jupyter": {
     "outputs_hidden": false
    },
    "papermill": {
     "duration": 0.959528,
     "end_time": "2024-12-18T19:31:47.121882",
     "exception": false,
     "start_time": "2024-12-18T19:31:46.162354",
     "status": "completed"
    },
    "tags": []
   },
   "outputs": [],
   "source": [
    "import json\n",
    "import pandas as pd"
   ]
  },
  {
   "cell_type": "markdown",
   "id": "cc684fe5",
   "metadata": {
    "_cell_guid": "58ef2291-6cd2-4118-9e8c-ba21abe46926",
    "_uuid": "f179a15e-8b48-41f0-afdb-e7b6577dca2c",
    "papermill": {
     "duration": 0.022287,
     "end_time": "2024-12-18T19:31:47.167758",
     "exception": false,
     "start_time": "2024-12-18T19:31:47.145471",
     "status": "completed"
    },
    "tags": []
   },
   "source": [
    "## Reading json file and converting it into pandas dataframe"
   ]
  },
  {
   "cell_type": "code",
   "execution_count": 2,
   "id": "5900f5cc",
   "metadata": {
    "_cell_guid": "52acedd6-2e54-43eb-a9c2-7d62d83f45f4",
    "_uuid": "e29bb053-5cba-4220-8408-04741449c90d",
    "collapsed": false,
    "execution": {
     "iopub.execute_input": "2024-12-18T19:31:47.215203Z",
     "iopub.status.busy": "2024-12-18T19:31:47.214678Z",
     "iopub.status.idle": "2024-12-18T19:32:40.656965Z",
     "shell.execute_reply": "2024-12-18T19:32:40.655801Z"
    },
    "jupyter": {
     "outputs_hidden": false
    },
    "papermill": {
     "duration": 53.469077,
     "end_time": "2024-12-18T19:32:40.659540",
     "exception": false,
     "start_time": "2024-12-18T19:31:47.190463",
     "status": "completed"
    },
    "tags": []
   },
   "outputs": [],
   "source": [
    "def make_dataset(dataset_path):\n",
    "    od = pd.read_json(dataset_path, lines = True)\n",
    "    return od\n",
    "\n",
    "dataset_path = '/kaggle/input/amazon-product-review-spam-and-non-spam/Toys_and_Games/Toys_and_Games.json'\n",
    "original_dataframe = make_dataset(dataset_path)"
   ]
  },
  {
   "cell_type": "markdown",
   "id": "0f58cff5",
   "metadata": {
    "_cell_guid": "9a74a74a-1cd4-4401-9128-1bc516bec5c0",
    "_uuid": "306fbf7d-3bc7-4f69-bfa8-80abd3de3a16",
    "papermill": {
     "duration": 0.021936,
     "end_time": "2024-12-18T19:32:40.704224",
     "exception": false,
     "start_time": "2024-12-18T19:32:40.682288",
     "status": "completed"
    },
    "tags": []
   },
   "source": [
    "# Exploratory Data Analysis (EDA) Part I"
   ]
  },
  {
   "cell_type": "markdown",
   "id": "4e7a9c59",
   "metadata": {
    "_cell_guid": "cbb08e2c-1b8a-4468-86cb-db6af97b8d56",
    "_uuid": "5c707ea1-29fb-45cb-88a3-a54eb06fa295",
    "papermill": {
     "duration": 0.022361,
     "end_time": "2024-12-18T19:32:40.748714",
     "exception": false,
     "start_time": "2024-12-18T19:32:40.726353",
     "status": "completed"
    },
    "tags": []
   },
   "source": [
    "## Target variable(Label) Distribution Analysis"
   ]
  },
  {
   "cell_type": "code",
   "execution_count": 3,
   "id": "eb123544",
   "metadata": {
    "_cell_guid": "99bc6a86-8e17-4261-8262-5bbc05744306",
    "_uuid": "6bc08928-5e6b-4928-81cc-a041a266727f",
    "collapsed": false,
    "execution": {
     "iopub.execute_input": "2024-12-18T19:32:40.795909Z",
     "iopub.status.busy": "2024-12-18T19:32:40.795529Z",
     "iopub.status.idle": "2024-12-18T19:32:40.821968Z",
     "shell.execute_reply": "2024-12-18T19:32:40.820638Z"
    },
    "jupyter": {
     "outputs_hidden": false
    },
    "papermill": {
     "duration": 0.053142,
     "end_time": "2024-12-18T19:32:40.824475",
     "exception": false,
     "start_time": "2024-12-18T19:32:40.771333",
     "status": "completed"
    },
    "tags": []
   },
   "outputs": [
    {
     "data": {
      "text/plain": [
       "class\n",
       "1    1662754\n",
       "0     334386\n",
       "Name: count, dtype: int64"
      ]
     },
     "execution_count": 3,
     "metadata": {},
     "output_type": "execute_result"
    }
   ],
   "source": [
    "original_dataframe['class'].value_counts()"
   ]
  },
  {
   "cell_type": "code",
   "execution_count": 4,
   "id": "a6698534",
   "metadata": {
    "_cell_guid": "6fe909ff-d4ef-450d-9b04-abc8cc485aac",
    "_uuid": "2727d4ac-b191-43db-984b-53712b909b8f",
    "collapsed": false,
    "execution": {
     "iopub.execute_input": "2024-12-18T19:32:40.872166Z",
     "iopub.status.busy": "2024-12-18T19:32:40.871776Z",
     "iopub.status.idle": "2024-12-18T19:32:42.917643Z",
     "shell.execute_reply": "2024-12-18T19:32:42.916494Z"
    },
    "jupyter": {
     "outputs_hidden": false
    },
    "papermill": {
     "duration": 2.072179,
     "end_time": "2024-12-18T19:32:42.920007",
     "exception": false,
     "start_time": "2024-12-18T19:32:40.847828",
     "status": "completed"
    },
    "tags": []
   },
   "outputs": [
    {
     "data": {
      "image/png": "[encoded data removed]",
      "text/plain": [
       "<Figure size 640x480 with 1 Axes>"
      ]
     },
     "metadata": {},
     "output_type": "display_data"
    }
   ],
   "source": [
    "import matplotlib.pyplot as plt\n",
    "import seaborn as sns\n",
    "\n",
    "sns.countplot(x = 'class', data = original_dataframe)\n",
    "plt.title('Distribution of Fake vs Genuine Reviews')\n",
    "plt.show()"
   ]
  },
  {
   "cell_type": "markdown",
   "id": "f4833938",
   "metadata": {
    "_cell_guid": "1ecfdcb7-2589-4c80-90af-ac1b637b3087",
    "_uuid": "4394faad-8000-45b9-9299-25dab345a0c3",
    "papermill": {
     "duration": 0.022792,
     "end_time": "2024-12-18T19:32:42.965678",
     "exception": false,
     "start_time": "2024-12-18T19:32:42.942886",
     "status": "completed"
    },
    "tags": []
   },
   "source": [
    "**Thus, we see that te ratio of genuine : fake reviews is 1 : 5 (approx.)**"
   ]
  },
  {
   "cell_type": "markdown",
   "id": "6defb054",
   "metadata": {
    "_cell_guid": "2eaa28c4-c1c4-447b-b84a-657a25627b47",
    "_uuid": "10dcf9a3-0ef2-4b9c-aca9-1b41b454b632",
    "papermill": {
     "duration": 0.023032,
     "end_time": "2024-12-18T19:32:43.011538",
     "exception": false,
     "start_time": "2024-12-18T19:32:42.988506",
     "status": "completed"
    },
    "tags": []
   },
   "source": [
    "## Review Length Analysis"
   ]
  },
  {
   "cell_type": "code",
   "execution_count": 5,
   "id": "c76d5773",
   "metadata": {
    "_cell_guid": "a42e7f1a-9852-48e2-9138-975e3af5a436",
    "_uuid": "987046b6-6e7b-4b43-8c6d-004432ada571",
    "collapsed": false,
    "execution": {
     "iopub.execute_input": "2024-12-18T19:32:43.059347Z",
     "iopub.status.busy": "2024-12-18T19:32:43.058285Z",
     "iopub.status.idle": "2024-12-18T19:32:43.895695Z",
     "shell.execute_reply": "2024-12-18T19:32:43.894490Z"
    },
    "jupyter": {
     "outputs_hidden": false
    },
    "papermill": {
     "duration": 0.863924,
     "end_time": "2024-12-18T19:32:43.898228",
     "exception": false,
     "start_time": "2024-12-18T19:32:43.034304",
     "status": "completed"
    },
    "tags": []
   },
   "outputs": [
    {
     "data": {
      "text/html": [
       "<div>\n",
       "<style scoped>\n",
       "    .dataframe tbody tr th:only-of-type {\n",
       "        vertical-align: middle;\n",
       "    }\n",
       "\n",
       "    .dataframe tbody tr th {\n",
       "        vertical-align: top;\n",
       "    }\n",
       "\n",
       "    .dataframe thead th {\n",
       "        text-align: right;\n",
       "    }\n",
       "</style>\n",
       "<table border=\"1\" class=\"dataframe\">\n",
       "  <thead>\n",
       "    <tr style=\"text-align: right;\">\n",
       "      <th></th>\n",
       "      <th>_id</th>\n",
       "      <th>reviewerID</th>\n",
       "      <th>asin</th>\n",
       "      <th>reviewerName</th>\n",
       "      <th>helpful</th>\n",
       "      <th>reviewText</th>\n",
       "      <th>overall</th>\n",
       "      <th>summary</th>\n",
       "      <th>unixReviewTime</th>\n",
       "      <th>reviewTime</th>\n",
       "      <th>category</th>\n",
       "      <th>class</th>\n",
       "      <th>reviewLength</th>\n",
       "    </tr>\n",
       "  </thead>\n",
       "  <tbody>\n",
       "    <tr>\n",
       "      <th>0</th>\n",
       "      <td>{'$oid': '5a13282b741a2384e879a620'}</td>\n",
       "      <td>A3C9CSW3TJITGT</td>\n",
       "      <td>0005069491</td>\n",
       "      <td>Renee</td>\n",
       "      <td>[0, 0]</td>\n",
       "      <td>I love these felt nursery rhyme characters and...</td>\n",
       "      <td>4</td>\n",
       "      <td>Charming characters but busy work required</td>\n",
       "      <td>1377561600</td>\n",
       "      <td>08 27, 2013</td>\n",
       "      <td>Toys_and_Games</td>\n",
       "      <td>1</td>\n",
       "      <td>653</td>\n",
       "    </tr>\n",
       "    <tr>\n",
       "      <th>1</th>\n",
       "      <td>{'$oid': '5a13282b741a2384e879a621'}</td>\n",
       "      <td>A31POTIYCKSZ9G</td>\n",
       "      <td>0076561046</td>\n",
       "      <td>So CA Teacher</td>\n",
       "      <td>[0, 0]</td>\n",
       "      <td>I see no directions for its use. Therefore I h...</td>\n",
       "      <td>3</td>\n",
       "      <td>No directions for use...</td>\n",
       "      <td>1404864000</td>\n",
       "      <td>07 9, 2014</td>\n",
       "      <td>Toys_and_Games</td>\n",
       "      <td>0</td>\n",
       "      <td>86</td>\n",
       "    </tr>\n",
       "    <tr>\n",
       "      <th>2</th>\n",
       "      <td>{'$oid': '5a13282b741a2384e879a622'}</td>\n",
       "      <td>A2GGHHME9B6W4O</td>\n",
       "      <td>0131358936</td>\n",
       "      <td>Dalilah G.</td>\n",
       "      <td>[0, 0]</td>\n",
       "      <td>This is a great tool for any teacher using the...</td>\n",
       "      <td>5</td>\n",
       "      <td>Great CD-ROM</td>\n",
       "      <td>1382400000</td>\n",
       "      <td>10 22, 2013</td>\n",
       "      <td>Toys_and_Games</td>\n",
       "      <td>1</td>\n",
       "      <td>171</td>\n",
       "    </tr>\n",
       "    <tr>\n",
       "      <th>3</th>\n",
       "      <td>{'$oid': '5a13282b741a2384e879a61f'}</td>\n",
       "      <td>AMEVO2LY6VEJA</td>\n",
       "      <td>0000191639</td>\n",
       "      <td>Nicole Soeder</td>\n",
       "      <td>[0, 0]</td>\n",
       "      <td>Great product, thank you! Our son loved the pu...</td>\n",
       "      <td>5</td>\n",
       "      <td>Puzzles</td>\n",
       "      <td>1388016000</td>\n",
       "      <td>12 26, 2013</td>\n",
       "      <td>Toys_and_Games</td>\n",
       "      <td>1</td>\n",
       "      <td>125</td>\n",
       "    </tr>\n",
       "    <tr>\n",
       "      <th>4</th>\n",
       "      <td>{'$oid': '5a13282b741a2384e879a623'}</td>\n",
       "      <td>A1FSLDH43ORWZP</td>\n",
       "      <td>0133642984</td>\n",
       "      <td>Dayna English</td>\n",
       "      <td>[0, 0]</td>\n",
       "      <td>Although not as streamlined as the Algebra I m...</td>\n",
       "      <td>5</td>\n",
       "      <td>Algebra II -- presentation materials</td>\n",
       "      <td>1374278400</td>\n",
       "      <td>07 20, 2013</td>\n",
       "      <td>Toys_and_Games</td>\n",
       "      <td>1</td>\n",
       "      <td>160</td>\n",
       "    </tr>\n",
       "  </tbody>\n",
       "</table>\n",
       "</div>"
      ],
      "text/plain": [
       "                                    _id      reviewerID        asin  \\\n",
       "0  {'$oid': '5a13282b741a2384e879a620'}  A3C9CSW3TJITGT  0005069491   \n",
       "1  {'$oid': '5a13282b741a2384e879a621'}  A31POTIYCKSZ9G  0076561046   \n",
       "2  {'$oid': '5a13282b741a2384e879a622'}  A2GGHHME9B6W4O  0131358936   \n",
       "3  {'$oid': '5a13282b741a2384e879a61f'}   AMEVO2LY6VEJA  0000191639   \n",
       "4  {'$oid': '5a13282b741a2384e879a623'}  A1FSLDH43ORWZP  0133642984   \n",
       "\n",
       "    reviewerName helpful                                         reviewText  \\\n",
       "0          Renee  [0, 0]  I love these felt nursery rhyme characters and...   \n",
       "1  So CA Teacher  [0, 0]  I see no directions for its use. Therefore I h...   \n",
       "2     Dalilah G.  [0, 0]  This is a great tool for any teacher using the...   \n",
       "3  Nicole Soeder  [0, 0]  Great product, thank you! Our son loved the pu...   \n",
       "4  Dayna English  [0, 0]  Although not as streamlined as the Algebra I m...   \n",
       "\n",
       "   overall                                     summary  unixReviewTime  \\\n",
       "0        4  Charming characters but busy work required      1377561600   \n",
       "1        3                    No directions for use...      1404864000   \n",
       "2        5                                Great CD-ROM      1382400000   \n",
       "3        5                                     Puzzles      1388016000   \n",
       "4        5        Algebra II -- presentation materials      1374278400   \n",
       "\n",
       "    reviewTime        category  class  reviewLength  \n",
       "0  08 27, 2013  Toys_and_Games      1           653  \n",
       "1   07 9, 2014  Toys_and_Games      0            86  \n",
       "2  10 22, 2013  Toys_and_Games      1           171  \n",
       "3  12 26, 2013  Toys_and_Games      1           125  \n",
       "4  07 20, 2013  Toys_and_Games      1           160  "
      ]
     },
     "execution_count": 5,
     "metadata": {},
     "output_type": "execute_result"
    }
   ],
   "source": [
    "# Creating a new column 'review_length' an easier understanding of 'review_text'\n",
    "original_dataframe['reviewLength'] = original_dataframe['reviewText'].apply(len)\n",
    "original_dataframe.head()"
   ]
  },
  {
   "cell_type": "code",
   "execution_count": 6,
   "id": "8f6e8827",
   "metadata": {
    "_cell_guid": "052f305b-7649-4859-a7ed-0940015a88ba",
    "_uuid": "bec862d8-88f4-405c-8e03-9ec7a6ced5d2",
    "collapsed": false,
    "execution": {
     "iopub.execute_input": "2024-12-18T19:32:43.998010Z",
     "iopub.status.busy": "2024-12-18T19:32:43.997657Z",
     "iopub.status.idle": "2024-12-18T19:32:47.888861Z",
     "shell.execute_reply": "2024-12-18T19:32:47.887573Z"
    },
    "jupyter": {
     "outputs_hidden": false
    },
    "papermill": {
     "duration": 3.918238,
     "end_time": "2024-12-18T19:32:47.891409",
     "exception": false,
     "start_time": "2024-12-18T19:32:43.973171",
     "status": "completed"
    },
    "tags": []
   },
   "outputs": [
    {
     "name": "stderr",
     "output_type": "stream",
     "text": [
      "/opt/conda/lib/python3.10/site-packages/seaborn/_oldcore.py:1119: FutureWarning: use_inf_as_na option is deprecated and will be removed in a future version. Convert inf values to NaN before operating instead.\n",
      "  with pd.option_context('mode.use_inf_as_na', True):\n",
      "/opt/conda/lib/python3.10/site-packages/seaborn/_oldcore.py:1075: FutureWarning: When grouping with a length-1 list-like, you will need to pass a length-1 tuple to get_group in a future version of pandas. Pass `(name,)` instead of `name` to silence this warning.\n",
      "  data_subset = grouped_data.get_group(pd_key)\n",
      "/opt/conda/lib/python3.10/site-packages/seaborn/_oldcore.py:1075: FutureWarning: When grouping with a length-1 list-like, you will need to pass a length-1 tuple to get_group in a future version of pandas. Pass `(name,)` instead of `name` to silence this warning.\n",
      "  data_subset = grouped_data.get_group(pd_key)\n",
      "/opt/conda/lib/python3.10/site-packages/seaborn/_oldcore.py:1075: FutureWarning: When grouping with a length-1 list-like, you will need to pass a length-1 tuple to get_group in a future version of pandas. Pass `(name,)` instead of `name` to silence this warning.\n",
      "  data_subset = grouped_data.get_group(pd_key)\n"
     ]
    },
    {
     "data": {
      "image/png": "[encoded data removed]",
      "text/plain": [
       "<Figure size 640x480 with 1 Axes>"
      ]
     },
     "metadata": {},
     "output_type": "display_data"
    }
   ],
   "source": [
    "sns.histplot(data = original_dataframe, x = 'reviewLength', hue = 'class', multiple = 'layer', log_scale = True)\n",
    "plt.title('Review Length Distribution by Class')\n",
    "plt.show()"
   ]
  },
  {
   "cell_type": "markdown",
   "id": "38a3fb86",
   "metadata": {
    "_cell_guid": "b706904e-7d5c-4df3-a1c0-4be666aa2e7c",
    "_uuid": "74bb770b-f6cb-4ad9-9e13-3c1d4bd4c51a",
    "papermill": {
     "duration": 0.023864,
     "end_time": "2024-12-18T19:32:47.940372",
     "exception": false,
     "start_time": "2024-12-18T19:32:47.916508",
     "status": "completed"
    },
    "tags": []
   },
   "source": [
    "\n",
    "**Thus, review length analysis suggests that shorter length reviews are more likely classified as 0 (non-spam) while longer ones as 1 (spam). More precisely, the histplot shows that the reviews with length in the range of 1 to 100 are classified as 0 (non-spam) and the ones in range of 100 to 1000 are labelled as 1 (spam). Also, we notice a long tail at the right of the histplot for both classes. This suggests that both have only few long length reviews.**\n",
    "\n",
    "**Summary: Class 1 i.e. spam, is more likely to be concentrated around long length reviews. While, class 0 is more likely to be concentrated around short length reviews.**"
   ]
  },
  {
   "cell_type": "markdown",
   "id": "742cbe29",
   "metadata": {
    "_cell_guid": "7e034f7a-2926-4735-ad60-d54f64cb6329",
    "_uuid": "f12a0c93-6050-4eb2-824f-6e9ebb0726e0",
    "papermill": {
     "duration": 0.024083,
     "end_time": "2024-12-18T19:32:47.988701",
     "exception": false,
     "start_time": "2024-12-18T19:32:47.964618",
     "status": "completed"
    },
    "tags": []
   },
   "source": [
    "## Overall Rating Analysis"
   ]
  },
  {
   "cell_type": "code",
   "execution_count": 7,
   "id": "7b73b6e2",
   "metadata": {
    "_cell_guid": "b5e35ebc-1393-4576-8326-f5c57b16775a",
    "_uuid": "f4b1bd1e-c25c-4c08-bea6-d1af27bbc90c",
    "collapsed": false,
    "execution": {
     "iopub.execute_input": "2024-12-18T19:32:48.040952Z",
     "iopub.status.busy": "2024-12-18T19:32:48.039996Z",
     "iopub.status.idle": "2024-12-18T19:32:48.066309Z",
     "shell.execute_reply": "2024-12-18T19:32:48.065196Z"
    },
    "jupyter": {
     "outputs_hidden": false
    },
    "papermill": {
     "duration": 0.054099,
     "end_time": "2024-12-18T19:32:48.068413",
     "exception": false,
     "start_time": "2024-12-18T19:32:48.014314",
     "status": "completed"
    },
    "tags": []
   },
   "outputs": [
    {
     "data": {
      "text/plain": [
       "overall\n",
       "5    1275445\n",
       "4     387309\n",
       "3     129098\n",
       "1     128156\n",
       "2      77132\n",
       "Name: count, dtype: int64"
      ]
     },
     "execution_count": 7,
     "metadata": {},
     "output_type": "execute_result"
    }
   ],
   "source": [
    "original_dataframe['overall'].value_counts()"
   ]
  },
  {
   "cell_type": "code",
   "execution_count": 8,
   "id": "1d115152",
   "metadata": {
    "_cell_guid": "d99ff3e3-1836-4c2d-b444-43a9c02f503e",
    "_uuid": "c383eaad-97ed-42f2-abe2-026057895e6d",
    "collapsed": false,
    "execution": {
     "iopub.execute_input": "2024-12-18T19:32:48.119340Z",
     "iopub.status.busy": "2024-12-18T19:32:48.118960Z",
     "iopub.status.idle": "2024-12-18T19:32:48.736179Z",
     "shell.execute_reply": "2024-12-18T19:32:48.734938Z"
    },
    "jupyter": {
     "outputs_hidden": false
    },
    "papermill": {
     "duration": 0.645415,
     "end_time": "2024-12-18T19:32:48.738516",
     "exception": false,
     "start_time": "2024-12-18T19:32:48.093101",
     "status": "completed"
    },
    "tags": []
   },
   "outputs": [
    {
     "data": {
      "image/png": "[encoded data removed]",
      "text/plain": [
       "<Figure size 640x480 with 1 Axes>"
      ]
     },
     "metadata": {},
     "output_type": "display_data"
    }
   ],
   "source": [
    "sns.countplot(data = original_dataframe, x = 'overall', hue = 'class')\n",
    "plt.title('Overall Rating Distribution by Class')\n",
    "plt.show()"
   ]
  },
  {
   "cell_type": "markdown",
   "id": "88eb5413",
   "metadata": {
    "_cell_guid": "59cb1413-d271-4ad6-a0c2-936205d8e6e3",
    "_uuid": "5bc72abe-a466-4956-ad11-98b3cb207923",
    "papermill": {
     "duration": 0.024225,
     "end_time": "2024-12-18T19:32:48.787255",
     "exception": false,
     "start_time": "2024-12-18T19:32:48.763030",
     "status": "completed"
    },
    "tags": []
   },
   "source": [
    "**Thus, we can clearly see that lower rated reviews i.e. in the rating range of 1 to 3 are most likely to be non-spam. While, higher rated ones, precisely rated as 3 or 4 are most likely to be spam.**"
   ]
  },
  {
   "cell_type": "markdown",
   "id": "ff2a53b1",
   "metadata": {
    "_cell_guid": "18dd5284-ca26-4ecf-bda7-28173f4fc272",
    "_uuid": "27cd34ff-5ba3-4384-b031-d268ef740e7b",
    "papermill": {
     "duration": 0.024692,
     "end_time": "2024-12-18T19:32:48.836507",
     "exception": false,
     "start_time": "2024-12-18T19:32:48.811815",
     "status": "completed"
    },
    "tags": []
   },
   "source": [
    "## Helpful Votes Analysis"
   ]
  },
  {
   "cell_type": "code",
   "execution_count": 9,
   "id": "28fdd965",
   "metadata": {
    "_cell_guid": "ad357c32-01d3-4655-bcd1-afbd2c251148",
    "_uuid": "94ea2d2d-e546-4e26-8f4f-3b46b2f52b68",
    "collapsed": false,
    "execution": {
     "iopub.execute_input": "2024-12-18T19:32:48.888152Z",
     "iopub.status.busy": "2024-12-18T19:32:48.887683Z",
     "iopub.status.idle": "2024-12-18T19:32:49.908751Z",
     "shell.execute_reply": "2024-12-18T19:32:49.907591Z"
    },
    "jupyter": {
     "outputs_hidden": false
    },
    "papermill": {
     "duration": 1.050068,
     "end_time": "2024-12-18T19:32:49.911292",
     "exception": false,
     "start_time": "2024-12-18T19:32:48.861224",
     "status": "completed"
    },
    "tags": []
   },
   "outputs": [],
   "source": [
    "# making a new column which represents the ratio of helpful votes to total votes for a particular review.\n",
    "original_dataframe['helpfulRatio'] = original_dataframe['helpful'].apply(lambda x: x[0] / x[1] if x[1] != 0 else 0)"
   ]
  },
  {
   "cell_type": "code",
   "execution_count": 10,
   "id": "b771575b",
   "metadata": {
    "_cell_guid": "0bb7a777-5941-452b-80c6-ba4d5baf70f4",
    "_uuid": "b5946ef1-235b-4213-8f6f-b48f09f248da",
    "collapsed": false,
    "execution": {
     "iopub.execute_input": "2024-12-18T19:32:49.972331Z",
     "iopub.status.busy": "2024-12-18T19:32:49.971891Z",
     "iopub.status.idle": "2024-12-18T19:32:49.993713Z",
     "shell.execute_reply": "2024-12-18T19:32:49.992685Z"
    },
    "jupyter": {
     "outputs_hidden": false
    },
    "papermill": {
     "duration": 0.055702,
     "end_time": "2024-12-18T19:32:49.996382",
     "exception": false,
     "start_time": "2024-12-18T19:32:49.940680",
     "status": "completed"
    },
    "tags": []
   },
   "outputs": [
    {
     "data": {
      "text/html": [
       "<div>\n",
       "<style scoped>\n",
       "    .dataframe tbody tr th:only-of-type {\n",
       "        vertical-align: middle;\n",
       "    }\n",
       "\n",
       "    .dataframe tbody tr th {\n",
       "        vertical-align: top;\n",
       "    }\n",
       "\n",
       "    .dataframe thead th {\n",
       "        text-align: right;\n",
       "    }\n",
       "</style>\n",
       "<table border=\"1\" class=\"dataframe\">\n",
       "  <thead>\n",
       "    <tr style=\"text-align: right;\">\n",
       "      <th></th>\n",
       "      <th>_id</th>\n",
       "      <th>reviewerID</th>\n",
       "      <th>asin</th>\n",
       "      <th>reviewerName</th>\n",
       "      <th>helpful</th>\n",
       "      <th>reviewText</th>\n",
       "      <th>overall</th>\n",
       "      <th>summary</th>\n",
       "      <th>unixReviewTime</th>\n",
       "      <th>reviewTime</th>\n",
       "      <th>category</th>\n",
       "      <th>class</th>\n",
       "      <th>reviewLength</th>\n",
       "      <th>helpfulRatio</th>\n",
       "    </tr>\n",
       "  </thead>\n",
       "  <tbody>\n",
       "    <tr>\n",
       "      <th>0</th>\n",
       "      <td>{'$oid': '5a13282b741a2384e879a620'}</td>\n",
       "      <td>A3C9CSW3TJITGT</td>\n",
       "      <td>0005069491</td>\n",
       "      <td>Renee</td>\n",
       "      <td>[0, 0]</td>\n",
       "      <td>I love these felt nursery rhyme characters and...</td>\n",
       "      <td>4</td>\n",
       "      <td>Charming characters but busy work required</td>\n",
       "      <td>1377561600</td>\n",
       "      <td>08 27, 2013</td>\n",
       "      <td>Toys_and_Games</td>\n",
       "      <td>1</td>\n",
       "      <td>653</td>\n",
       "      <td>0.0</td>\n",
       "    </tr>\n",
       "    <tr>\n",
       "      <th>1</th>\n",
       "      <td>{'$oid': '5a13282b741a2384e879a621'}</td>\n",
       "      <td>A31POTIYCKSZ9G</td>\n",
       "      <td>0076561046</td>\n",
       "      <td>So CA Teacher</td>\n",
       "      <td>[0, 0]</td>\n",
       "      <td>I see no directions for its use. Therefore I h...</td>\n",
       "      <td>3</td>\n",
       "      <td>No directions for use...</td>\n",
       "      <td>1404864000</td>\n",
       "      <td>07 9, 2014</td>\n",
       "      <td>Toys_and_Games</td>\n",
       "      <td>0</td>\n",
       "      <td>86</td>\n",
       "      <td>0.0</td>\n",
       "    </tr>\n",
       "    <tr>\n",
       "      <th>2</th>\n",
       "      <td>{'$oid': '5a13282b741a2384e879a622'}</td>\n",
       "      <td>A2GGHHME9B6W4O</td>\n",
       "      <td>0131358936</td>\n",
       "      <td>Dalilah G.</td>\n",
       "      <td>[0, 0]</td>\n",
       "      <td>This is a great tool for any teacher using the...</td>\n",
       "      <td>5</td>\n",
       "      <td>Great CD-ROM</td>\n",
       "      <td>1382400000</td>\n",
       "      <td>10 22, 2013</td>\n",
       "      <td>Toys_and_Games</td>\n",
       "      <td>1</td>\n",
       "      <td>171</td>\n",
       "      <td>0.0</td>\n",
       "    </tr>\n",
       "    <tr>\n",
       "      <th>3</th>\n",
       "      <td>{'$oid': '5a13282b741a2384e879a61f'}</td>\n",
       "      <td>AMEVO2LY6VEJA</td>\n",
       "      <td>0000191639</td>\n",
       "      <td>Nicole Soeder</td>\n",
       "      <td>[0, 0]</td>\n",
       "      <td>Great product, thank you! Our son loved the pu...</td>\n",
       "      <td>5</td>\n",
       "      <td>Puzzles</td>\n",
       "      <td>1388016000</td>\n",
       "      <td>12 26, 2013</td>\n",
       "      <td>Toys_and_Games</td>\n",
       "      <td>1</td>\n",
       "      <td>125</td>\n",
       "      <td>0.0</td>\n",
       "    </tr>\n",
       "    <tr>\n",
       "      <th>4</th>\n",
       "      <td>{'$oid': '5a13282b741a2384e879a623'}</td>\n",
       "      <td>A1FSLDH43ORWZP</td>\n",
       "      <td>0133642984</td>\n",
       "      <td>Dayna English</td>\n",
       "      <td>[0, 0]</td>\n",
       "      <td>Although not as streamlined as the Algebra I m...</td>\n",
       "      <td>5</td>\n",
       "      <td>Algebra II -- presentation materials</td>\n",
       "      <td>1374278400</td>\n",
       "      <td>07 20, 2013</td>\n",
       "      <td>Toys_and_Games</td>\n",
       "      <td>1</td>\n",
       "      <td>160</td>\n",
       "      <td>0.0</td>\n",
       "    </tr>\n",
       "  </tbody>\n",
       "</table>\n",
       "</div>"
      ],
      "text/plain": [
       "                                    _id      reviewerID        asin  \\\n",
       "0  {'$oid': '5a13282b741a2384e879a620'}  A3C9CSW3TJITGT  0005069491   \n",
       "1  {'$oid': '5a13282b741a2384e879a621'}  A31POTIYCKSZ9G  0076561046   \n",
       "2  {'$oid': '5a13282b741a2384e879a622'}  A2GGHHME9B6W4O  0131358936   \n",
       "3  {'$oid': '5a13282b741a2384e879a61f'}   AMEVO2LY6VEJA  0000191639   \n",
       "4  {'$oid': '5a13282b741a2384e879a623'}  A1FSLDH43ORWZP  0133642984   \n",
       "\n",
       "    reviewerName helpful                                         reviewText  \\\n",
       "0          Renee  [0, 0]  I love these felt nursery rhyme characters and...   \n",
       "1  So CA Teacher  [0, 0]  I see no directions for its use. Therefore I h...   \n",
       "2     Dalilah G.  [0, 0]  This is a great tool for any teacher using the...   \n",
       "3  Nicole Soeder  [0, 0]  Great product, thank you! Our son loved the pu...   \n",
       "4  Dayna English  [0, 0]  Although not as streamlined as the Algebra I m...   \n",
       "\n",
       "   overall                                     summary  unixReviewTime  \\\n",
       "0        4  Charming characters but busy work required      1377561600   \n",
       "1        3                    No directions for use...      1404864000   \n",
       "2        5                                Great CD-ROM      1382400000   \n",
       "3        5                                     Puzzles      1388016000   \n",
       "4        5        Algebra II -- presentation materials      1374278400   \n",
       "\n",
       "    reviewTime        category  class  reviewLength  helpfulRatio  \n",
       "0  08 27, 2013  Toys_and_Games      1           653           0.0  \n",
       "1   07 9, 2014  Toys_and_Games      0            86           0.0  \n",
       "2  10 22, 2013  Toys_and_Games      1           171           0.0  \n",
       "3  12 26, 2013  Toys_and_Games      1           125           0.0  \n",
       "4  07 20, 2013  Toys_and_Games      1           160           0.0  "
      ]
     },
     "execution_count": 10,
     "metadata": {},
     "output_type": "execute_result"
    }
   ],
   "source": [
    "original_dataframe.head()"
   ]
  },
  {
   "cell_type": "code",
   "execution_count": 11,
   "id": "bd477483",
   "metadata": {
    "_cell_guid": "1c4d279a-91c7-4b44-9ae1-bc121acb37a6",
    "_uuid": "729f02ca-c06a-4d31-b310-06ad532a5710",
    "collapsed": false,
    "execution": {
     "iopub.execute_input": "2024-12-18T19:32:50.067081Z",
     "iopub.status.busy": "2024-12-18T19:32:50.066707Z",
     "iopub.status.idle": "2024-12-18T19:32:51.588744Z",
     "shell.execute_reply": "2024-12-18T19:32:51.587682Z"
    },
    "jupyter": {
     "outputs_hidden": false
    },
    "papermill": {
     "duration": 1.564743,
     "end_time": "2024-12-18T19:32:51.590852",
     "exception": false,
     "start_time": "2024-12-18T19:32:50.026109",
     "status": "completed"
    },
    "tags": []
   },
   "outputs": [
    {
     "name": "stderr",
     "output_type": "stream",
     "text": [
      "/opt/conda/lib/python3.10/site-packages/seaborn/_oldcore.py:1119: FutureWarning: use_inf_as_na option is deprecated and will be removed in a future version. Convert inf values to NaN before operating instead.\n",
      "  with pd.option_context('mode.use_inf_as_na', True):\n",
      "/opt/conda/lib/python3.10/site-packages/seaborn/_oldcore.py:1075: FutureWarning: When grouping with a length-1 list-like, you will need to pass a length-1 tuple to get_group in a future version of pandas. Pass `(name,)` instead of `name` to silence this warning.\n",
      "  data_subset = grouped_data.get_group(pd_key)\n",
      "/opt/conda/lib/python3.10/site-packages/seaborn/_oldcore.py:1075: FutureWarning: When grouping with a length-1 list-like, you will need to pass a length-1 tuple to get_group in a future version of pandas. Pass `(name,)` instead of `name` to silence this warning.\n",
      "  data_subset = grouped_data.get_group(pd_key)\n"
     ]
    },
    {
     "data": {
      "image/png": "[encoded data removed]",
      "text/plain": [
       "<Figure size 640x480 with 1 Axes>"
      ]
     },
     "metadata": {},
     "output_type": "display_data"
    }
   ],
   "source": [
    "sns.histplot(data = original_dataframe, x = 'helpfulRatio', hue = 'class', multiple = 'layer', bins = 50)\n",
    "plt.title('Helpful Votes Ratio Distribution by Class')\n",
    "plt.show()"
   ]
  },
  {
   "cell_type": "markdown",
   "id": "fe8a511d",
   "metadata": {
    "_cell_guid": "7392d062-c3cf-421b-a3ad-49a809a95745",
    "_uuid": "8760b444-eb4c-4dce-b9f3-dcded0bab2af",
    "papermill": {
     "duration": 0.031737,
     "end_time": "2024-12-18T19:32:51.654627",
     "exception": false,
     "start_time": "2024-12-18T19:32:51.622890",
     "status": "completed"
    },
    "tags": []
   },
   "source": [
    "****Inferences from the graph:****\n",
    "* ****Most instances of 'helpful_ratio' are 0.****\n",
    "* ****The second most number of 'helpful_ratio' instances have a value of 1.****\n",
    "* ****The number of non-spam reviews having 'helpful_ratio' = 0 is more than twice the number of non-spam reviews having****           ****the 'helpful_ratio' value as 1.****\n",
    "* ****The number of spam reviews having 'helpful_ratio' = 0 is more than twice the number of spam reviews having the****              ****'helpful_ratio' value as 1.****"
   ]
  },
  {
   "cell_type": "markdown",
   "id": "7bf6a964",
   "metadata": {
    "_cell_guid": "6af2a3d2-dbb5-45ac-88a3-c3c48474a4a1",
    "_uuid": "847cfa58-accb-4fa3-a871-831d3d449635",
    "papermill": {
     "duration": 0.030751,
     "end_time": "2024-12-18T19:32:51.716597",
     "exception": false,
     "start_time": "2024-12-18T19:32:51.685846",
     "status": "completed"
    },
    "tags": []
   },
   "source": [
    "# Feature Engineering & Data Cleaning"
   ]
  },
  {
   "cell_type": "markdown",
   "id": "1a5fa446",
   "metadata": {
    "_cell_guid": "1aeb2d55-d4e5-4012-b3d5-08c58d8eca43",
    "_uuid": "0d1bd2da-7086-4a9d-ac69-6597fcc98d1a",
    "papermill": {
     "duration": 0.031194,
     "end_time": "2024-12-18T19:32:51.779207",
     "exception": false,
     "start_time": "2024-12-18T19:32:51.748013",
     "status": "completed"
    },
    "tags": []
   },
   "source": [
    "## Dropping out unnecessary and redundant columns"
   ]
  },
  {
   "cell_type": "code",
   "execution_count": 12,
   "id": "cc7e34c9",
   "metadata": {
    "_cell_guid": "d845295e-7a23-4ef6-80bc-0c55233e4a56",
    "_uuid": "fa24483e-de6a-4d19-b274-0f1165e7c91d",
    "collapsed": false,
    "execution": {
     "iopub.execute_input": "2024-12-18T19:32:51.841973Z",
     "iopub.status.busy": "2024-12-18T19:32:51.841594Z",
     "iopub.status.idle": "2024-12-18T19:32:52.124002Z",
     "shell.execute_reply": "2024-12-18T19:32:52.122796Z"
    },
    "jupyter": {
     "outputs_hidden": false
    },
    "papermill": {
     "duration": 0.315078,
     "end_time": "2024-12-18T19:32:52.126933",
     "exception": false,
     "start_time": "2024-12-18T19:32:51.811855",
     "status": "completed"
    },
    "tags": []
   },
   "outputs": [],
   "source": [
    "columns_to_drop = ['_id', 'reviewerID', 'reviewerName', 'summary', 'reviewTime']\n",
    "original_dataframe.drop(columns=columns_to_drop, inplace=True)"
   ]
  },
  {
   "cell_type": "markdown",
   "id": "4491c547",
   "metadata": {
    "_cell_guid": "c4ba1c69-92c1-4e23-8a45-f5dd741aa299",
    "_uuid": "4062b2e1-03af-4bae-850e-63c05713fa7a",
    "papermill": {
     "duration": 0.026196,
     "end_time": "2024-12-18T19:32:52.178741",
     "exception": false,
     "start_time": "2024-12-18T19:32:52.152545",
     "status": "completed"
    },
    "tags": []
   },
   "source": [
    "****Note - The 'reviewer_id' attribute is dropped for of now for the sake of simplicity. But it may be helpful to determine the behaviour of a reviewer in dropping reviews. That is, history of a reviewer will suggest a trend in the rating, review length and class given by the reviewer.****"
   ]
  },
  {
   "cell_type": "code",
   "execution_count": 13,
   "id": "d18c418a",
   "metadata": {
    "_cell_guid": "71f3c310-3026-4706-9f0d-0f88fe8b65f5",
    "_uuid": "f9f38a1f-5609-4710-bf23-01fd3b7a823c",
    "collapsed": false,
    "execution": {
     "iopub.execute_input": "2024-12-18T19:32:52.234205Z",
     "iopub.status.busy": "2024-12-18T19:32:52.233806Z",
     "iopub.status.idle": "2024-12-18T19:32:52.252330Z",
     "shell.execute_reply": "2024-12-18T19:32:52.251212Z"
    },
    "jupyter": {
     "outputs_hidden": false
    },
    "papermill": {
     "duration": 0.050661,
     "end_time": "2024-12-18T19:32:52.255931",
     "exception": false,
     "start_time": "2024-12-18T19:32:52.205270",
     "status": "completed"
    },
    "tags": []
   },
   "outputs": [
    {
     "data": {
      "text/html": [
       "<div>\n",
       "<style scoped>\n",
       "    .dataframe tbody tr th:only-of-type {\n",
       "        vertical-align: middle;\n",
       "    }\n",
       "\n",
       "    .dataframe tbody tr th {\n",
       "        vertical-align: top;\n",
       "    }\n",
       "\n",
       "    .dataframe thead th {\n",
       "        text-align: right;\n",
       "    }\n",
       "</style>\n",
       "<table border=\"1\" class=\"dataframe\">\n",
       "  <thead>\n",
       "    <tr style=\"text-align: right;\">\n",
       "      <th></th>\n",
       "      <th>asin</th>\n",
       "      <th>helpful</th>\n",
       "      <th>reviewText</th>\n",
       "      <th>overall</th>\n",
       "      <th>unixReviewTime</th>\n",
       "      <th>category</th>\n",
       "      <th>class</th>\n",
       "      <th>reviewLength</th>\n",
       "      <th>helpfulRatio</th>\n",
       "    </tr>\n",
       "  </thead>\n",
       "  <tbody>\n",
       "    <tr>\n",
       "      <th>0</th>\n",
       "      <td>0005069491</td>\n",
       "      <td>[0, 0]</td>\n",
       "      <td>I love these felt nursery rhyme characters and...</td>\n",
       "      <td>4</td>\n",
       "      <td>1377561600</td>\n",
       "      <td>Toys_and_Games</td>\n",
       "      <td>1</td>\n",
       "      <td>653</td>\n",
       "      <td>0.0</td>\n",
       "    </tr>\n",
       "    <tr>\n",
       "      <th>1</th>\n",
       "      <td>0076561046</td>\n",
       "      <td>[0, 0]</td>\n",
       "      <td>I see no directions for its use. Therefore I h...</td>\n",
       "      <td>3</td>\n",
       "      <td>1404864000</td>\n",
       "      <td>Toys_and_Games</td>\n",
       "      <td>0</td>\n",
       "      <td>86</td>\n",
       "      <td>0.0</td>\n",
       "    </tr>\n",
       "    <tr>\n",
       "      <th>2</th>\n",
       "      <td>0131358936</td>\n",
       "      <td>[0, 0]</td>\n",
       "      <td>This is a great tool for any teacher using the...</td>\n",
       "      <td>5</td>\n",
       "      <td>1382400000</td>\n",
       "      <td>Toys_and_Games</td>\n",
       "      <td>1</td>\n",
       "      <td>171</td>\n",
       "      <td>0.0</td>\n",
       "    </tr>\n",
       "    <tr>\n",
       "      <th>3</th>\n",
       "      <td>0000191639</td>\n",
       "      <td>[0, 0]</td>\n",
       "      <td>Great product, thank you! Our son loved the pu...</td>\n",
       "      <td>5</td>\n",
       "      <td>1388016000</td>\n",
       "      <td>Toys_and_Games</td>\n",
       "      <td>1</td>\n",
       "      <td>125</td>\n",
       "      <td>0.0</td>\n",
       "    </tr>\n",
       "    <tr>\n",
       "      <th>4</th>\n",
       "      <td>0133642984</td>\n",
       "      <td>[0, 0]</td>\n",
       "      <td>Although not as streamlined as the Algebra I m...</td>\n",
       "      <td>5</td>\n",
       "      <td>1374278400</td>\n",
       "      <td>Toys_and_Games</td>\n",
       "      <td>1</td>\n",
       "      <td>160</td>\n",
       "      <td>0.0</td>\n",
       "    </tr>\n",
       "  </tbody>\n",
       "</table>\n",
       "</div>"
      ],
      "text/plain": [
       "         asin helpful                                         reviewText  \\\n",
       "0  0005069491  [0, 0]  I love these felt nursery rhyme characters and...   \n",
       "1  0076561046  [0, 0]  I see no directions for its use. Therefore I h...   \n",
       "2  0131358936  [0, 0]  This is a great tool for any teacher using the...   \n",
       "3  0000191639  [0, 0]  Great product, thank you! Our son loved the pu...   \n",
       "4  0133642984  [0, 0]  Although not as streamlined as the Algebra I m...   \n",
       "\n",
       "   overall  unixReviewTime        category  class  reviewLength  helpfulRatio  \n",
       "0        4      1377561600  Toys_and_Games      1           653           0.0  \n",
       "1        3      1404864000  Toys_and_Games      0            86           0.0  \n",
       "2        5      1382400000  Toys_and_Games      1           171           0.0  \n",
       "3        5      1388016000  Toys_and_Games      1           125           0.0  \n",
       "4        5      1374278400  Toys_and_Games      1           160           0.0  "
      ]
     },
     "execution_count": 13,
     "metadata": {},
     "output_type": "execute_result"
    }
   ],
   "source": [
    "original_dataframe.head()"
   ]
  },
  {
   "cell_type": "code",
   "execution_count": 14,
   "id": "fdd92261",
   "metadata": {
    "_cell_guid": "c0673c28-220a-49c3-aa27-cdb224432312",
    "_uuid": "f8ddbb50-0807-4870-b79f-84ffac03fac2",
    "collapsed": false,
    "execution": {
     "iopub.execute_input": "2024-12-18T19:32:52.320233Z",
     "iopub.status.busy": "2024-12-18T19:32:52.319790Z",
     "iopub.status.idle": "2024-12-18T19:32:52.336606Z",
     "shell.execute_reply": "2024-12-18T19:32:52.335394Z"
    },
    "jupyter": {
     "outputs_hidden": false
    },
    "papermill": {
     "duration": 0.050987,
     "end_time": "2024-12-18T19:32:52.339057",
     "exception": false,
     "start_time": "2024-12-18T19:32:52.288070",
     "status": "completed"
    },
    "tags": []
   },
   "outputs": [
    {
     "data": {
      "text/html": [
       "<div>\n",
       "<style scoped>\n",
       "    .dataframe tbody tr th:only-of-type {\n",
       "        vertical-align: middle;\n",
       "    }\n",
       "\n",
       "    .dataframe tbody tr th {\n",
       "        vertical-align: top;\n",
       "    }\n",
       "\n",
       "    .dataframe thead th {\n",
       "        text-align: right;\n",
       "    }\n",
       "</style>\n",
       "<table border=\"1\" class=\"dataframe\">\n",
       "  <thead>\n",
       "    <tr style=\"text-align: right;\">\n",
       "      <th></th>\n",
       "      <th>asin</th>\n",
       "      <th>helpful</th>\n",
       "      <th>reviewText</th>\n",
       "      <th>overall</th>\n",
       "      <th>unixReviewTime</th>\n",
       "      <th>category</th>\n",
       "      <th>class</th>\n",
       "      <th>reviewLength</th>\n",
       "      <th>helpfulRatio</th>\n",
       "    </tr>\n",
       "  </thead>\n",
       "  <tbody>\n",
       "    <tr>\n",
       "      <th>1997135</th>\n",
       "      <td>B00LRXEK4G</td>\n",
       "      <td>[2, 4]</td>\n",
       "      <td>Donny looks awesome in his wizard outfit. It r...</td>\n",
       "      <td>4</td>\n",
       "      <td>1405209600</td>\n",
       "      <td>Toys_and_Games</td>\n",
       "      <td>1</td>\n",
       "      <td>606</td>\n",
       "      <td>0.500000</td>\n",
       "    </tr>\n",
       "    <tr>\n",
       "      <th>1997136</th>\n",
       "      <td>B00LOYLHOE</td>\n",
       "      <td>[2, 3]</td>\n",
       "      <td>When I was a kid, I always heard, and sometime...</td>\n",
       "      <td>5</td>\n",
       "      <td>1405123200</td>\n",
       "      <td>Toys_and_Games</td>\n",
       "      <td>1</td>\n",
       "      <td>1242</td>\n",
       "      <td>0.666667</td>\n",
       "    </tr>\n",
       "    <tr>\n",
       "      <th>1997137</th>\n",
       "      <td>B00LXACM5W</td>\n",
       "      <td>[0, 0]</td>\n",
       "      <td>The kids had hours and hours of fun with this....</td>\n",
       "      <td>5</td>\n",
       "      <td>1405900800</td>\n",
       "      <td>Toys_and_Games</td>\n",
       "      <td>1</td>\n",
       "      <td>143</td>\n",
       "      <td>0.000000</td>\n",
       "    </tr>\n",
       "    <tr>\n",
       "      <th>1997138</th>\n",
       "      <td>B00LXACM5W</td>\n",
       "      <td>[0, 0]</td>\n",
       "      <td>this pack of water shooters and splash balls a...</td>\n",
       "      <td>5</td>\n",
       "      <td>1405814400</td>\n",
       "      <td>Toys_and_Games</td>\n",
       "      <td>1</td>\n",
       "      <td>264</td>\n",
       "      <td>0.000000</td>\n",
       "    </tr>\n",
       "    <tr>\n",
       "      <th>1997139</th>\n",
       "      <td>B00M0TTT5Q</td>\n",
       "      <td>[0, 0]</td>\n",
       "      <td>Awesome!!! These lights are SO BRIGHT!! Way be...</td>\n",
       "      <td>5</td>\n",
       "      <td>1405987200</td>\n",
       "      <td>Toys_and_Games</td>\n",
       "      <td>1</td>\n",
       "      <td>294</td>\n",
       "      <td>0.000000</td>\n",
       "    </tr>\n",
       "  </tbody>\n",
       "</table>\n",
       "</div>"
      ],
      "text/plain": [
       "               asin helpful  \\\n",
       "1997135  B00LRXEK4G  [2, 4]   \n",
       "1997136  B00LOYLHOE  [2, 3]   \n",
       "1997137  B00LXACM5W  [0, 0]   \n",
       "1997138  B00LXACM5W  [0, 0]   \n",
       "1997139  B00M0TTT5Q  [0, 0]   \n",
       "\n",
       "                                                reviewText  overall  \\\n",
       "1997135  Donny looks awesome in his wizard outfit. It r...        4   \n",
       "1997136  When I was a kid, I always heard, and sometime...        5   \n",
       "1997137  The kids had hours and hours of fun with this....        5   \n",
       "1997138  this pack of water shooters and splash balls a...        5   \n",
       "1997139  Awesome!!! These lights are SO BRIGHT!! Way be...        5   \n",
       "\n",
       "         unixReviewTime        category  class  reviewLength  helpfulRatio  \n",
       "1997135      1405209600  Toys_and_Games      1           606      0.500000  \n",
       "1997136      1405123200  Toys_and_Games      1          1242      0.666667  \n",
       "1997137      1405900800  Toys_and_Games      1           143      0.000000  \n",
       "1997138      1405814400  Toys_and_Games      1           264      0.000000  \n",
       "1997139      1405987200  Toys_and_Games      1           294      0.000000  "
      ]
     },
     "execution_count": 14,
     "metadata": {},
     "output_type": "execute_result"
    }
   ],
   "source": [
    "original_dataframe.tail()"
   ]
  },
  {
   "cell_type": "code",
   "execution_count": 15,
   "id": "747249d2",
   "metadata": {
    "_cell_guid": "3f8b280f-fddc-4524-a54d-4ede2f1cbbdd",
    "_uuid": "48e70f4c-9d1f-446b-b547-a5bf209d9eda",
    "collapsed": false,
    "execution": {
     "iopub.execute_input": "2024-12-18T19:32:52.393894Z",
     "iopub.status.busy": "2024-12-18T19:32:52.393516Z",
     "iopub.status.idle": "2024-12-18T19:32:52.410533Z",
     "shell.execute_reply": "2024-12-18T19:32:52.409415Z"
    },
    "jupyter": {
     "outputs_hidden": false
    },
    "papermill": {
     "duration": 0.046965,
     "end_time": "2024-12-18T19:32:52.412721",
     "exception": false,
     "start_time": "2024-12-18T19:32:52.365756",
     "status": "completed"
    },
    "tags": []
   },
   "outputs": [
    {
     "name": "stdout",
     "output_type": "stream",
     "text": [
      "<class 'pandas.core.frame.DataFrame'>\n",
      "RangeIndex: 1997140 entries, 0 to 1997139\n",
      "Data columns (total 9 columns):\n",
      " #   Column          Dtype  \n",
      "---  ------          -----  \n",
      " 0   asin            object \n",
      " 1   helpful         object \n",
      " 2   reviewText      object \n",
      " 3   overall         int64  \n",
      " 4   unixReviewTime  int64  \n",
      " 5   category        object \n",
      " 6   class           int64  \n",
      " 7   reviewLength    int64  \n",
      " 8   helpfulRatio    float64\n",
      "dtypes: float64(1), int64(4), object(4)\n",
      "memory usage: 137.1+ MB\n"
     ]
    }
   ],
   "source": [
    "original_dataframe.info()"
   ]
  },
  {
   "cell_type": "markdown",
   "id": "bf5e3a99",
   "metadata": {
    "_cell_guid": "4c8d3e9e-4adb-4ebf-bd78-bc479d92db6f",
    "_uuid": "1dca07c1-afb2-4366-ad51-5a9161d65f80",
    "papermill": {
     "duration": 0.029468,
     "end_time": "2024-12-18T19:32:52.472723",
     "exception": false,
     "start_time": "2024-12-18T19:32:52.443255",
     "status": "completed"
    },
    "tags": []
   },
   "source": [
    "## Creating new Features on the basis of EDA"
   ]
  },
  {
   "cell_type": "code",
   "execution_count": 16,
   "id": "bc6ac791",
   "metadata": {
    "_cell_guid": "b4344f9b-8d58-4da4-9aed-179209ddadea",
    "_uuid": "fad5c37b-712c-46f1-9745-49cb7fcd91e2",
    "collapsed": false,
    "execution": {
     "iopub.execute_input": "2024-12-18T19:32:52.534295Z",
     "iopub.status.busy": "2024-12-18T19:32:52.533691Z",
     "iopub.status.idle": "2024-12-18T19:33:27.156716Z",
     "shell.execute_reply": "2024-12-18T19:33:27.154763Z"
    },
    "jupyter": {
     "outputs_hidden": false
    },
    "papermill": {
     "duration": 34.661835,
     "end_time": "2024-12-18T19:33:27.164296",
     "exception": false,
     "start_time": "2024-12-18T19:32:52.502461",
     "status": "completed"
    },
    "tags": []
   },
   "outputs": [],
   "source": [
    "# review word count\n",
    "original_dataframe['wordCount'] = original_dataframe['reviewText'].apply(lambda x: len(x.split()))\n",
    "\n",
    "# avrage word length\n",
    "original_dataframe['avgWordLength'] = original_dataframe['reviewText'].apply(lambda x: sum(len(word) for word in x.split()) / len(x.split()))"
   ]
  },
  {
   "cell_type": "code",
   "execution_count": 17,
   "id": "97532801",
   "metadata": {
    "_cell_guid": "6c1514df-d627-4fac-9f74-a939c1f5cc0f",
    "_uuid": "fd8a96a3-197d-4acb-a689-e3c4a7389ff5",
    "collapsed": false,
    "execution": {
     "iopub.execute_input": "2024-12-18T19:33:27.232735Z",
     "iopub.status.busy": "2024-12-18T19:33:27.232204Z",
     "iopub.status.idle": "2024-12-18T19:33:27.256308Z",
     "shell.execute_reply": "2024-12-18T19:33:27.254964Z"
    },
    "jupyter": {
     "outputs_hidden": false
    },
    "papermill": {
     "duration": 0.056762,
     "end_time": "2024-12-18T19:33:27.259734",
     "exception": false,
     "start_time": "2024-12-18T19:33:27.202972",
     "status": "completed"
    },
    "tags": []
   },
   "outputs": [
    {
     "data": {
      "text/html": [
       "<div>\n",
       "<style scoped>\n",
       "    .dataframe tbody tr th:only-of-type {\n",
       "        vertical-align: middle;\n",
       "    }\n",
       "\n",
       "    .dataframe tbody tr th {\n",
       "        vertical-align: top;\n",
       "    }\n",
       "\n",
       "    .dataframe thead th {\n",
       "        text-align: right;\n",
       "    }\n",
       "</style>\n",
       "<table border=\"1\" class=\"dataframe\">\n",
       "  <thead>\n",
       "    <tr style=\"text-align: right;\">\n",
       "      <th></th>\n",
       "      <th>asin</th>\n",
       "      <th>helpful</th>\n",
       "      <th>reviewText</th>\n",
       "      <th>overall</th>\n",
       "      <th>unixReviewTime</th>\n",
       "      <th>category</th>\n",
       "      <th>class</th>\n",
       "      <th>reviewLength</th>\n",
       "      <th>helpfulRatio</th>\n",
       "      <th>wordCount</th>\n",
       "      <th>avgWordLength</th>\n",
       "    </tr>\n",
       "  </thead>\n",
       "  <tbody>\n",
       "    <tr>\n",
       "      <th>0</th>\n",
       "      <td>0005069491</td>\n",
       "      <td>[0, 0]</td>\n",
       "      <td>I love these felt nursery rhyme characters and...</td>\n",
       "      <td>4</td>\n",
       "      <td>1377561600</td>\n",
       "      <td>Toys_and_Games</td>\n",
       "      <td>1</td>\n",
       "      <td>653</td>\n",
       "      <td>0.0</td>\n",
       "      <td>117</td>\n",
       "      <td>4.538462</td>\n",
       "    </tr>\n",
       "    <tr>\n",
       "      <th>1</th>\n",
       "      <td>0076561046</td>\n",
       "      <td>[0, 0]</td>\n",
       "      <td>I see no directions for its use. Therefore I h...</td>\n",
       "      <td>3</td>\n",
       "      <td>1404864000</td>\n",
       "      <td>Toys_and_Games</td>\n",
       "      <td>0</td>\n",
       "      <td>86</td>\n",
       "      <td>0.0</td>\n",
       "      <td>16</td>\n",
       "      <td>4.437500</td>\n",
       "    </tr>\n",
       "    <tr>\n",
       "      <th>2</th>\n",
       "      <td>0131358936</td>\n",
       "      <td>[0, 0]</td>\n",
       "      <td>This is a great tool for any teacher using the...</td>\n",
       "      <td>5</td>\n",
       "      <td>1382400000</td>\n",
       "      <td>Toys_and_Games</td>\n",
       "      <td>1</td>\n",
       "      <td>171</td>\n",
       "      <td>0.0</td>\n",
       "      <td>30</td>\n",
       "      <td>4.733333</td>\n",
       "    </tr>\n",
       "    <tr>\n",
       "      <th>3</th>\n",
       "      <td>0000191639</td>\n",
       "      <td>[0, 0]</td>\n",
       "      <td>Great product, thank you! Our son loved the pu...</td>\n",
       "      <td>5</td>\n",
       "      <td>1388016000</td>\n",
       "      <td>Toys_and_Games</td>\n",
       "      <td>1</td>\n",
       "      <td>125</td>\n",
       "      <td>0.0</td>\n",
       "      <td>23</td>\n",
       "      <td>4.434783</td>\n",
       "    </tr>\n",
       "    <tr>\n",
       "      <th>4</th>\n",
       "      <td>0133642984</td>\n",
       "      <td>[0, 0]</td>\n",
       "      <td>Although not as streamlined as the Algebra I m...</td>\n",
       "      <td>5</td>\n",
       "      <td>1374278400</td>\n",
       "      <td>Toys_and_Games</td>\n",
       "      <td>1</td>\n",
       "      <td>160</td>\n",
       "      <td>0.0</td>\n",
       "      <td>25</td>\n",
       "      <td>5.440000</td>\n",
       "    </tr>\n",
       "  </tbody>\n",
       "</table>\n",
       "</div>"
      ],
      "text/plain": [
       "         asin helpful                                         reviewText  \\\n",
       "0  0005069491  [0, 0]  I love these felt nursery rhyme characters and...   \n",
       "1  0076561046  [0, 0]  I see no directions for its use. Therefore I h...   \n",
       "2  0131358936  [0, 0]  This is a great tool for any teacher using the...   \n",
       "3  0000191639  [0, 0]  Great product, thank you! Our son loved the pu...   \n",
       "4  0133642984  [0, 0]  Although not as streamlined as the Algebra I m...   \n",
       "\n",
       "   overall  unixReviewTime        category  class  reviewLength  helpfulRatio  \\\n",
       "0        4      1377561600  Toys_and_Games      1           653           0.0   \n",
       "1        3      1404864000  Toys_and_Games      0            86           0.0   \n",
       "2        5      1382400000  Toys_and_Games      1           171           0.0   \n",
       "3        5      1388016000  Toys_and_Games      1           125           0.0   \n",
       "4        5      1374278400  Toys_and_Games      1           160           0.0   \n",
       "\n",
       "   wordCount  avgWordLength  \n",
       "0        117       4.538462  \n",
       "1         16       4.437500  \n",
       "2         30       4.733333  \n",
       "3         23       4.434783  \n",
       "4         25       5.440000  "
      ]
     },
     "execution_count": 17,
     "metadata": {},
     "output_type": "execute_result"
    }
   ],
   "source": [
    "original_dataframe.head()"
   ]
  },
  {
   "cell_type": "markdown",
   "id": "77eb0297",
   "metadata": {
    "_cell_guid": "42b058f6-43f3-4011-88a7-03b72639e82f",
    "_uuid": "914ff551-65d4-4399-b5e3-f1ae81cb6fa8",
    "papermill": {
     "duration": 0.028642,
     "end_time": "2024-12-18T19:33:27.321922",
     "exception": false,
     "start_time": "2024-12-18T19:33:27.293280",
     "status": "completed"
    },
    "tags": []
   },
   "source": [
    "## Sentiment Analysis"
   ]
  },
  {
   "cell_type": "markdown",
   "id": "8c552a96",
   "metadata": {
    "_cell_guid": "3d142dab-443d-4046-8335-7bff96e0c7bf",
    "_uuid": "be783511-cef9-4a48-bf79-607d08e248f5",
    "papermill": {
     "duration": 0.027614,
     "end_time": "2024-12-18T19:33:27.375978",
     "exception": false,
     "start_time": "2024-12-18T19:33:27.348364",
     "status": "completed"
    },
    "tags": []
   },
   "source": [
    "**Here, I am using VADER(Valence Aware Dictionary and sEntiment Reasoner). This is because it is specifically tuned to sentiments expressed in social media text.**\n",
    "\n",
    "**Brief discription, After analysis it provides with four values:**\n",
    "\n",
    "1. **'neg' - ranging from 0-1. Gives measure of sentiment being negative.**\n",
    "2. **'neu' - ranging from 0-1. Gives measure of sentiment being neutral.**\n",
    "3. **'pos' - ranging from 0-1. Gives measure of sentiment being positive.**\n",
    "4. **'compound' - ranging from 0-1. Cumulative variable. Combines above three. >=0.5 means positive, <=-0.5 means negative, ranging between means neutral text.**"
   ]
  },
  {
   "cell_type": "code",
   "execution_count": 18,
   "id": "74e26acd",
   "metadata": {
    "execution": {
     "iopub.execute_input": "2024-12-18T19:33:27.431172Z",
     "iopub.status.busy": "2024-12-18T19:33:27.430088Z",
     "iopub.status.idle": "2024-12-18T19:33:39.177944Z",
     "shell.execute_reply": "2024-12-18T19:33:39.176575Z"
    },
    "papermill": {
     "duration": 11.779002,
     "end_time": "2024-12-18T19:33:39.181420",
     "exception": false,
     "start_time": "2024-12-18T19:33:27.402418",
     "status": "completed"
    },
    "tags": []
   },
   "outputs": [
    {
     "name": "stdout",
     "output_type": "stream",
     "text": [
      "Looking in links: /kaggle/input/pm-67260820-at-12-18-2024-19-31-06/\r\n",
      "Requirement already satisfied: vaderSentiment in /opt/conda/lib/python3.10/site-packages (3.3.2)\r\n",
      "Requirement already satisfied: requests in /opt/conda/lib/python3.10/site-packages (from vaderSentiment) (2.32.3)\r\n",
      "Requirement already satisfied: charset-normalizer<4,>=2 in /opt/conda/lib/python3.10/site-packages (from requests->vaderSentiment) (3.3.2)\r\n",
      "Requirement already satisfied: idna<4,>=2.5 in /opt/conda/lib/python3.10/site-packages (from requests->vaderSentiment) (3.7)\r\n",
      "Requirement already satisfied: urllib3<3,>=1.21.1 in /opt/conda/lib/python3.10/site-packages (from requests->vaderSentiment) (1.26.18)\r\n",
      "Requirement already satisfied: certifi>=2017.4.17 in /opt/conda/lib/python3.10/site-packages (from requests->vaderSentiment) (2024.6.2)\r\n"
     ]
    }
   ],
   "source": [
    "!pip install vaderSentiment"
   ]
  },
  {
   "cell_type": "code",
   "execution_count": 19,
   "id": "5dc807a5",
   "metadata": {
    "execution": {
     "iopub.execute_input": "2024-12-18T19:33:39.237089Z",
     "iopub.status.busy": "2024-12-18T19:33:39.236039Z",
     "iopub.status.idle": "2024-12-18T19:33:40.179666Z",
     "shell.execute_reply": "2024-12-18T19:33:40.178201Z"
    },
    "papermill": {
     "duration": 0.974672,
     "end_time": "2024-12-18T19:33:40.182285",
     "exception": false,
     "start_time": "2024-12-18T19:33:39.207613",
     "status": "completed"
    },
    "tags": []
   },
   "outputs": [],
   "source": [
    "# Slicing out a part of dataframe for building purpose. \n",
    "# Precisely now we will continue with first 1 lac instances.\n",
    "# here .copy() function is used show that we get a deep copy of the sliced dataframe for various operations.\n",
    "\n",
    "# original_dataframe_part = original_dataframe.iloc[:200 , : ].copy()\n",
    "original_dataframe_part = original_dataframe.sample(n=160000, random_state=42).copy()"
   ]
  },
  {
   "cell_type": "code",
   "execution_count": 20,
   "id": "a2f2468a",
   "metadata": {
    "_cell_guid": "8b7cfb8e-d765-4345-b8b8-c051123300db",
    "_uuid": "88679c78-4a74-43bb-99ea-2db747a83747",
    "collapsed": false,
    "execution": {
     "iopub.execute_input": "2024-12-18T19:33:40.247008Z",
     "iopub.status.busy": "2024-12-18T19:33:40.246605Z",
     "iopub.status.idle": "2024-12-18T19:35:33.903988Z",
     "shell.execute_reply": "2024-12-18T19:35:33.902688Z"
    },
    "jupyter": {
     "outputs_hidden": false
    },
    "papermill": {
     "duration": 113.691963,
     "end_time": "2024-12-18T19:35:33.906616",
     "exception": false,
     "start_time": "2024-12-18T19:33:40.214653",
     "status": "completed"
    },
    "tags": []
   },
   "outputs": [],
   "source": [
    "from vaderSentiment.vaderSentiment import SentimentIntensityAnalyzer as SIA\n",
    "\n",
    "analyzer = SIA()\n",
    "\n",
    "def analyze_sentiment_vader(review):\n",
    "    sentiment = analyzer.polarity_scores(review)\n",
    "    return sentiment['compound']\n",
    "\n",
    "original_dataframe_part['sentiment'] = original_dataframe_part['reviewText'].apply(analyze_sentiment_vader)"
   ]
  },
  {
   "cell_type": "code",
   "execution_count": 21,
   "id": "12b70f61",
   "metadata": {
    "_cell_guid": "414390c9-ee58-400b-b668-097c34eeecb5",
    "_uuid": "151eda82-af90-4296-9e7e-9afbcd4b2f4b",
    "collapsed": false,
    "execution": {
     "iopub.execute_input": "2024-12-18T19:35:33.961722Z",
     "iopub.status.busy": "2024-12-18T19:35:33.961342Z",
     "iopub.status.idle": "2024-12-18T19:35:33.984739Z",
     "shell.execute_reply": "2024-12-18T19:35:33.983499Z"
    },
    "jupyter": {
     "outputs_hidden": false
    },
    "papermill": {
     "duration": 0.052828,
     "end_time": "2024-12-18T19:35:33.986908",
     "exception": false,
     "start_time": "2024-12-18T19:35:33.934080",
     "status": "completed"
    },
    "tags": []
   },
   "outputs": [
    {
     "data": {
      "text/html": [
       "<div>\n",
       "<style scoped>\n",
       "    .dataframe tbody tr th:only-of-type {\n",
       "        vertical-align: middle;\n",
       "    }\n",
       "\n",
       "    .dataframe tbody tr th {\n",
       "        vertical-align: top;\n",
       "    }\n",
       "\n",
       "    .dataframe thead th {\n",
       "        text-align: right;\n",
       "    }\n",
       "</style>\n",
       "<table border=\"1\" class=\"dataframe\">\n",
       "  <thead>\n",
       "    <tr style=\"text-align: right;\">\n",
       "      <th></th>\n",
       "      <th>asin</th>\n",
       "      <th>helpful</th>\n",
       "      <th>reviewText</th>\n",
       "      <th>overall</th>\n",
       "      <th>unixReviewTime</th>\n",
       "      <th>category</th>\n",
       "      <th>class</th>\n",
       "      <th>reviewLength</th>\n",
       "      <th>helpfulRatio</th>\n",
       "      <th>wordCount</th>\n",
       "      <th>avgWordLength</th>\n",
       "      <th>sentiment</th>\n",
       "    </tr>\n",
       "  </thead>\n",
       "  <tbody>\n",
       "    <tr>\n",
       "      <th>845681</th>\n",
       "      <td>B002BIRM2S</td>\n",
       "      <td>[2, 2]</td>\n",
       "      <td>I really can't believe that others have rated ...</td>\n",
       "      <td>2</td>\n",
       "      <td>1388361600</td>\n",
       "      <td>Toys_and_Games</td>\n",
       "      <td>0</td>\n",
       "      <td>1010</td>\n",
       "      <td>1.0</td>\n",
       "      <td>204</td>\n",
       "      <td>3.955882</td>\n",
       "      <td>0.4320</td>\n",
       "    </tr>\n",
       "    <tr>\n",
       "      <th>1107550</th>\n",
       "      <td>B003YZ97TS</td>\n",
       "      <td>[0, 0]</td>\n",
       "      <td>3 Yr old who breaks everything he comes into c...</td>\n",
       "      <td>5</td>\n",
       "      <td>1357516800</td>\n",
       "      <td>Toys_and_Games</td>\n",
       "      <td>1</td>\n",
       "      <td>306</td>\n",
       "      <td>0.0</td>\n",
       "      <td>56</td>\n",
       "      <td>4.410714</td>\n",
       "      <td>0.9774</td>\n",
       "    </tr>\n",
       "    <tr>\n",
       "      <th>672632</th>\n",
       "      <td>B0019IF0BG</td>\n",
       "      <td>[0, 0]</td>\n",
       "      <td>got these cups for my sons 4th birthday party ...</td>\n",
       "      <td>4</td>\n",
       "      <td>1360540800</td>\n",
       "      <td>Toys_and_Games</td>\n",
       "      <td>1</td>\n",
       "      <td>222</td>\n",
       "      <td>0.0</td>\n",
       "      <td>42</td>\n",
       "      <td>4.309524</td>\n",
       "      <td>0.9399</td>\n",
       "    </tr>\n",
       "    <tr>\n",
       "      <th>1422772</th>\n",
       "      <td>B005V4IIRW</td>\n",
       "      <td>[0, 0]</td>\n",
       "      <td>It's REALLY small. The picture makes it look b...</td>\n",
       "      <td>3</td>\n",
       "      <td>1386633600</td>\n",
       "      <td>Toys_and_Games</td>\n",
       "      <td>0</td>\n",
       "      <td>120</td>\n",
       "      <td>0.0</td>\n",
       "      <td>23</td>\n",
       "      <td>4.260870</td>\n",
       "      <td>0.8819</td>\n",
       "    </tr>\n",
       "    <tr>\n",
       "      <th>763641</th>\n",
       "      <td>B001Q0VECQ</td>\n",
       "      <td>[0, 0]</td>\n",
       "      <td>This little dragon was absolutely perfect for ...</td>\n",
       "      <td>5</td>\n",
       "      <td>1385942400</td>\n",
       "      <td>Toys_and_Games</td>\n",
       "      <td>1</td>\n",
       "      <td>184</td>\n",
       "      <td>0.0</td>\n",
       "      <td>31</td>\n",
       "      <td>4.903226</td>\n",
       "      <td>0.8122</td>\n",
       "    </tr>\n",
       "    <tr>\n",
       "      <th>...</th>\n",
       "      <td>...</td>\n",
       "      <td>...</td>\n",
       "      <td>...</td>\n",
       "      <td>...</td>\n",
       "      <td>...</td>\n",
       "      <td>...</td>\n",
       "      <td>...</td>\n",
       "      <td>...</td>\n",
       "      <td>...</td>\n",
       "      <td>...</td>\n",
       "      <td>...</td>\n",
       "      <td>...</td>\n",
       "    </tr>\n",
       "    <tr>\n",
       "      <th>1281018</th>\n",
       "      <td>B004S9GUE4</td>\n",
       "      <td>[1, 1]</td>\n",
       "      <td>Well thought game. Beautiful pictures. Age ran...</td>\n",
       "      <td>5</td>\n",
       "      <td>1389052800</td>\n",
       "      <td>Toys_and_Games</td>\n",
       "      <td>1</td>\n",
       "      <td>138</td>\n",
       "      <td>1.0</td>\n",
       "      <td>24</td>\n",
       "      <td>4.791667</td>\n",
       "      <td>0.9229</td>\n",
       "    </tr>\n",
       "    <tr>\n",
       "      <th>1888772</th>\n",
       "      <td>B00DHFOQHI</td>\n",
       "      <td>[1, 2]</td>\n",
       "      <td>I bought this for one my nephew.  I had never ...</td>\n",
       "      <td>4</td>\n",
       "      <td>1390694400</td>\n",
       "      <td>Toys_and_Games</td>\n",
       "      <td>1</td>\n",
       "      <td>151</td>\n",
       "      <td>0.5</td>\n",
       "      <td>28</td>\n",
       "      <td>4.357143</td>\n",
       "      <td>0.8302</td>\n",
       "    </tr>\n",
       "    <tr>\n",
       "      <th>410014</th>\n",
       "      <td>B000HV0EJ4</td>\n",
       "      <td>[0, 0]</td>\n",
       "      <td>The idea is cute, to make a personilized umbre...</td>\n",
       "      <td>5</td>\n",
       "      <td>1324080000</td>\n",
       "      <td>Toys_and_Games</td>\n",
       "      <td>1</td>\n",
       "      <td>169</td>\n",
       "      <td>0.0</td>\n",
       "      <td>28</td>\n",
       "      <td>5.071429</td>\n",
       "      <td>0.8718</td>\n",
       "    </tr>\n",
       "    <tr>\n",
       "      <th>259121</th>\n",
       "      <td>B0007WX04O</td>\n",
       "      <td>[0, 0]</td>\n",
       "      <td>For children it is very interesting toy to pla...</td>\n",
       "      <td>5</td>\n",
       "      <td>1225411200</td>\n",
       "      <td>Toys_and_Games</td>\n",
       "      <td>1</td>\n",
       "      <td>141</td>\n",
       "      <td>0.0</td>\n",
       "      <td>28</td>\n",
       "      <td>4.071429</td>\n",
       "      <td>0.8977</td>\n",
       "    </tr>\n",
       "    <tr>\n",
       "      <th>615933</th>\n",
       "      <td>B0013VA834</td>\n",
       "      <td>[0, 0]</td>\n",
       "      <td>PAY BACK!!!!!Used some to make turd sandwiches...</td>\n",
       "      <td>5</td>\n",
       "      <td>1348185600</td>\n",
       "      <td>Toys_and_Games</td>\n",
       "      <td>1</td>\n",
       "      <td>668</td>\n",
       "      <td>0.0</td>\n",
       "      <td>122</td>\n",
       "      <td>4.483607</td>\n",
       "      <td>0.8931</td>\n",
       "    </tr>\n",
       "  </tbody>\n",
       "</table>\n",
       "<p>160000 rows × 12 columns</p>\n",
       "</div>"
      ],
      "text/plain": [
       "               asin helpful  \\\n",
       "845681   B002BIRM2S  [2, 2]   \n",
       "1107550  B003YZ97TS  [0, 0]   \n",
       "672632   B0019IF0BG  [0, 0]   \n",
       "1422772  B005V4IIRW  [0, 0]   \n",
       "763641   B001Q0VECQ  [0, 0]   \n",
       "...             ...     ...   \n",
       "1281018  B004S9GUE4  [1, 1]   \n",
       "1888772  B00DHFOQHI  [1, 2]   \n",
       "410014   B000HV0EJ4  [0, 0]   \n",
       "259121   B0007WX04O  [0, 0]   \n",
       "615933   B0013VA834  [0, 0]   \n",
       "\n",
       "                                                reviewText  overall  \\\n",
       "845681   I really can't believe that others have rated ...        2   \n",
       "1107550  3 Yr old who breaks everything he comes into c...        5   \n",
       "672632   got these cups for my sons 4th birthday party ...        4   \n",
       "1422772  It's REALLY small. The picture makes it look b...        3   \n",
       "763641   This little dragon was absolutely perfect for ...        5   \n",
       "...                                                    ...      ...   \n",
       "1281018  Well thought game. Beautiful pictures. Age ran...        5   \n",
       "1888772  I bought this for one my nephew.  I had never ...        4   \n",
       "410014   The idea is cute, to make a personilized umbre...        5   \n",
       "259121   For children it is very interesting toy to pla...        5   \n",
       "615933   PAY BACK!!!!!Used some to make turd sandwiches...        5   \n",
       "\n",
       "         unixReviewTime        category  class  reviewLength  helpfulRatio  \\\n",
       "845681       1388361600  Toys_and_Games      0          1010           1.0   \n",
       "1107550      1357516800  Toys_and_Games      1           306           0.0   \n",
       "672632       1360540800  Toys_and_Games      1           222           0.0   \n",
       "1422772      1386633600  Toys_and_Games      0           120           0.0   \n",
       "763641       1385942400  Toys_and_Games      1           184           0.0   \n",
       "...                 ...             ...    ...           ...           ...   \n",
       "1281018      1389052800  Toys_and_Games      1           138           1.0   \n",
       "1888772      1390694400  Toys_and_Games      1           151           0.5   \n",
       "410014       1324080000  Toys_and_Games      1           169           0.0   \n",
       "259121       1225411200  Toys_and_Games      1           141           0.0   \n",
       "615933       1348185600  Toys_and_Games      1           668           0.0   \n",
       "\n",
       "         wordCount  avgWordLength  sentiment  \n",
       "845681         204       3.955882     0.4320  \n",
       "1107550         56       4.410714     0.9774  \n",
       "672632          42       4.309524     0.9399  \n",
       "1422772         23       4.260870     0.8819  \n",
       "763641          31       4.903226     0.8122  \n",
       "...            ...            ...        ...  \n",
       "1281018         24       4.791667     0.9229  \n",
       "1888772         28       4.357143     0.8302  \n",
       "410014          28       5.071429     0.8718  \n",
       "259121          28       4.071429     0.8977  \n",
       "615933         122       4.483607     0.8931  \n",
       "\n",
       "[160000 rows x 12 columns]"
      ]
     },
     "execution_count": 21,
     "metadata": {},
     "output_type": "execute_result"
    }
   ],
   "source": [
    "original_dataframe_part"
   ]
  },
  {
   "cell_type": "markdown",
   "id": "ba73a171",
   "metadata": {
    "papermill": {
     "duration": 0.027202,
     "end_time": "2024-12-18T19:35:34.041304",
     "exception": false,
     "start_time": "2024-12-18T19:35:34.014102",
     "status": "completed"
    },
    "tags": []
   },
   "source": [
    "## Extracting Time based features"
   ]
  },
  {
   "cell_type": "code",
   "execution_count": 22,
   "id": "9f38f302",
   "metadata": {
    "execution": {
     "iopub.execute_input": "2024-12-18T19:35:34.096613Z",
     "iopub.status.busy": "2024-12-18T19:35:34.096219Z",
     "iopub.status.idle": "2024-12-18T19:35:34.250638Z",
     "shell.execute_reply": "2024-12-18T19:35:34.249623Z"
    },
    "papermill": {
     "duration": 0.185044,
     "end_time": "2024-12-18T19:35:34.253153",
     "exception": false,
     "start_time": "2024-12-18T19:35:34.068109",
     "status": "completed"
    },
    "tags": []
   },
   "outputs": [],
   "source": [
    "original_dataframe_part['review_year'] = pd.to_datetime(original_dataframe_part['unixReviewTime'], unit='s').dt.year\n",
    "original_dataframe_part['review_month'] = pd.to_datetime(original_dataframe_part['unixReviewTime'], unit='s').dt.month\n",
    "original_dataframe_part['review_day'] = pd.to_datetime(original_dataframe_part['unixReviewTime'], unit='s').dt.day\n",
    "original_dataframe_part['review_day_of_week'] = pd.to_datetime(original_dataframe_part['unixReviewTime'], unit='s').dt.dayofweek"
   ]
  },
  {
   "cell_type": "code",
   "execution_count": 23,
   "id": "47c75eb7",
   "metadata": {
    "execution": {
     "iopub.execute_input": "2024-12-18T19:35:34.308218Z",
     "iopub.status.busy": "2024-12-18T19:35:34.307795Z",
     "iopub.status.idle": "2024-12-18T19:35:34.331142Z",
     "shell.execute_reply": "2024-12-18T19:35:34.329815Z"
    },
    "papermill": {
     "duration": 0.053612,
     "end_time": "2024-12-18T19:35:34.333510",
     "exception": false,
     "start_time": "2024-12-18T19:35:34.279898",
     "status": "completed"
    },
    "tags": []
   },
   "outputs": [
    {
     "data": {
      "text/html": [
       "<div>\n",
       "<style scoped>\n",
       "    .dataframe tbody tr th:only-of-type {\n",
       "        vertical-align: middle;\n",
       "    }\n",
       "\n",
       "    .dataframe tbody tr th {\n",
       "        vertical-align: top;\n",
       "    }\n",
       "\n",
       "    .dataframe thead th {\n",
       "        text-align: right;\n",
       "    }\n",
       "</style>\n",
       "<table border=\"1\" class=\"dataframe\">\n",
       "  <thead>\n",
       "    <tr style=\"text-align: right;\">\n",
       "      <th></th>\n",
       "      <th>asin</th>\n",
       "      <th>helpful</th>\n",
       "      <th>reviewText</th>\n",
       "      <th>overall</th>\n",
       "      <th>unixReviewTime</th>\n",
       "      <th>category</th>\n",
       "      <th>class</th>\n",
       "      <th>reviewLength</th>\n",
       "      <th>helpfulRatio</th>\n",
       "      <th>wordCount</th>\n",
       "      <th>avgWordLength</th>\n",
       "      <th>sentiment</th>\n",
       "      <th>review_year</th>\n",
       "      <th>review_month</th>\n",
       "      <th>review_day</th>\n",
       "      <th>review_day_of_week</th>\n",
       "    </tr>\n",
       "  </thead>\n",
       "  <tbody>\n",
       "    <tr>\n",
       "      <th>845681</th>\n",
       "      <td>B002BIRM2S</td>\n",
       "      <td>[2, 2]</td>\n",
       "      <td>I really can't believe that others have rated ...</td>\n",
       "      <td>2</td>\n",
       "      <td>1388361600</td>\n",
       "      <td>Toys_and_Games</td>\n",
       "      <td>0</td>\n",
       "      <td>1010</td>\n",
       "      <td>1.0</td>\n",
       "      <td>204</td>\n",
       "      <td>3.955882</td>\n",
       "      <td>0.4320</td>\n",
       "      <td>2013</td>\n",
       "      <td>12</td>\n",
       "      <td>30</td>\n",
       "      <td>0</td>\n",
       "    </tr>\n",
       "    <tr>\n",
       "      <th>1107550</th>\n",
       "      <td>B003YZ97TS</td>\n",
       "      <td>[0, 0]</td>\n",
       "      <td>3 Yr old who breaks everything he comes into c...</td>\n",
       "      <td>5</td>\n",
       "      <td>1357516800</td>\n",
       "      <td>Toys_and_Games</td>\n",
       "      <td>1</td>\n",
       "      <td>306</td>\n",
       "      <td>0.0</td>\n",
       "      <td>56</td>\n",
       "      <td>4.410714</td>\n",
       "      <td>0.9774</td>\n",
       "      <td>2013</td>\n",
       "      <td>1</td>\n",
       "      <td>7</td>\n",
       "      <td>0</td>\n",
       "    </tr>\n",
       "    <tr>\n",
       "      <th>672632</th>\n",
       "      <td>B0019IF0BG</td>\n",
       "      <td>[0, 0]</td>\n",
       "      <td>got these cups for my sons 4th birthday party ...</td>\n",
       "      <td>4</td>\n",
       "      <td>1360540800</td>\n",
       "      <td>Toys_and_Games</td>\n",
       "      <td>1</td>\n",
       "      <td>222</td>\n",
       "      <td>0.0</td>\n",
       "      <td>42</td>\n",
       "      <td>4.309524</td>\n",
       "      <td>0.9399</td>\n",
       "      <td>2013</td>\n",
       "      <td>2</td>\n",
       "      <td>11</td>\n",
       "      <td>0</td>\n",
       "    </tr>\n",
       "    <tr>\n",
       "      <th>1422772</th>\n",
       "      <td>B005V4IIRW</td>\n",
       "      <td>[0, 0]</td>\n",
       "      <td>It's REALLY small. The picture makes it look b...</td>\n",
       "      <td>3</td>\n",
       "      <td>1386633600</td>\n",
       "      <td>Toys_and_Games</td>\n",
       "      <td>0</td>\n",
       "      <td>120</td>\n",
       "      <td>0.0</td>\n",
       "      <td>23</td>\n",
       "      <td>4.260870</td>\n",
       "      <td>0.8819</td>\n",
       "      <td>2013</td>\n",
       "      <td>12</td>\n",
       "      <td>10</td>\n",
       "      <td>1</td>\n",
       "    </tr>\n",
       "    <tr>\n",
       "      <th>763641</th>\n",
       "      <td>B001Q0VECQ</td>\n",
       "      <td>[0, 0]</td>\n",
       "      <td>This little dragon was absolutely perfect for ...</td>\n",
       "      <td>5</td>\n",
       "      <td>1385942400</td>\n",
       "      <td>Toys_and_Games</td>\n",
       "      <td>1</td>\n",
       "      <td>184</td>\n",
       "      <td>0.0</td>\n",
       "      <td>31</td>\n",
       "      <td>4.903226</td>\n",
       "      <td>0.8122</td>\n",
       "      <td>2013</td>\n",
       "      <td>12</td>\n",
       "      <td>2</td>\n",
       "      <td>0</td>\n",
       "    </tr>\n",
       "    <tr>\n",
       "      <th>...</th>\n",
       "      <td>...</td>\n",
       "      <td>...</td>\n",
       "      <td>...</td>\n",
       "      <td>...</td>\n",
       "      <td>...</td>\n",
       "      <td>...</td>\n",
       "      <td>...</td>\n",
       "      <td>...</td>\n",
       "      <td>...</td>\n",
       "      <td>...</td>\n",
       "      <td>...</td>\n",
       "      <td>...</td>\n",
       "      <td>...</td>\n",
       "      <td>...</td>\n",
       "      <td>...</td>\n",
       "      <td>...</td>\n",
       "    </tr>\n",
       "    <tr>\n",
       "      <th>1281018</th>\n",
       "      <td>B004S9GUE4</td>\n",
       "      <td>[1, 1]</td>\n",
       "      <td>Well thought game. Beautiful pictures. Age ran...</td>\n",
       "      <td>5</td>\n",
       "      <td>1389052800</td>\n",
       "      <td>Toys_and_Games</td>\n",
       "      <td>1</td>\n",
       "      <td>138</td>\n",
       "      <td>1.0</td>\n",
       "      <td>24</td>\n",
       "      <td>4.791667</td>\n",
       "      <td>0.9229</td>\n",
       "      <td>2014</td>\n",
       "      <td>1</td>\n",
       "      <td>7</td>\n",
       "      <td>1</td>\n",
       "    </tr>\n",
       "    <tr>\n",
       "      <th>1888772</th>\n",
       "      <td>B00DHFOQHI</td>\n",
       "      <td>[1, 2]</td>\n",
       "      <td>I bought this for one my nephew.  I had never ...</td>\n",
       "      <td>4</td>\n",
       "      <td>1390694400</td>\n",
       "      <td>Toys_and_Games</td>\n",
       "      <td>1</td>\n",
       "      <td>151</td>\n",
       "      <td>0.5</td>\n",
       "      <td>28</td>\n",
       "      <td>4.357143</td>\n",
       "      <td>0.8302</td>\n",
       "      <td>2014</td>\n",
       "      <td>1</td>\n",
       "      <td>26</td>\n",
       "      <td>6</td>\n",
       "    </tr>\n",
       "    <tr>\n",
       "      <th>410014</th>\n",
       "      <td>B000HV0EJ4</td>\n",
       "      <td>[0, 0]</td>\n",
       "      <td>The idea is cute, to make a personilized umbre...</td>\n",
       "      <td>5</td>\n",
       "      <td>1324080000</td>\n",
       "      <td>Toys_and_Games</td>\n",
       "      <td>1</td>\n",
       "      <td>169</td>\n",
       "      <td>0.0</td>\n",
       "      <td>28</td>\n",
       "      <td>5.071429</td>\n",
       "      <td>0.8718</td>\n",
       "      <td>2011</td>\n",
       "      <td>12</td>\n",
       "      <td>17</td>\n",
       "      <td>5</td>\n",
       "    </tr>\n",
       "    <tr>\n",
       "      <th>259121</th>\n",
       "      <td>B0007WX04O</td>\n",
       "      <td>[0, 0]</td>\n",
       "      <td>For children it is very interesting toy to pla...</td>\n",
       "      <td>5</td>\n",
       "      <td>1225411200</td>\n",
       "      <td>Toys_and_Games</td>\n",
       "      <td>1</td>\n",
       "      <td>141</td>\n",
       "      <td>0.0</td>\n",
       "      <td>28</td>\n",
       "      <td>4.071429</td>\n",
       "      <td>0.8977</td>\n",
       "      <td>2008</td>\n",
       "      <td>10</td>\n",
       "      <td>31</td>\n",
       "      <td>4</td>\n",
       "    </tr>\n",
       "    <tr>\n",
       "      <th>615933</th>\n",
       "      <td>B0013VA834</td>\n",
       "      <td>[0, 0]</td>\n",
       "      <td>PAY BACK!!!!!Used some to make turd sandwiches...</td>\n",
       "      <td>5</td>\n",
       "      <td>1348185600</td>\n",
       "      <td>Toys_and_Games</td>\n",
       "      <td>1</td>\n",
       "      <td>668</td>\n",
       "      <td>0.0</td>\n",
       "      <td>122</td>\n",
       "      <td>4.483607</td>\n",
       "      <td>0.8931</td>\n",
       "      <td>2012</td>\n",
       "      <td>9</td>\n",
       "      <td>21</td>\n",
       "      <td>4</td>\n",
       "    </tr>\n",
       "  </tbody>\n",
       "</table>\n",
       "<p>160000 rows × 16 columns</p>\n",
       "</div>"
      ],
      "text/plain": [
       "               asin helpful  \\\n",
       "845681   B002BIRM2S  [2, 2]   \n",
       "1107550  B003YZ97TS  [0, 0]   \n",
       "672632   B0019IF0BG  [0, 0]   \n",
       "1422772  B005V4IIRW  [0, 0]   \n",
       "763641   B001Q0VECQ  [0, 0]   \n",
       "...             ...     ...   \n",
       "1281018  B004S9GUE4  [1, 1]   \n",
       "1888772  B00DHFOQHI  [1, 2]   \n",
       "410014   B000HV0EJ4  [0, 0]   \n",
       "259121   B0007WX04O  [0, 0]   \n",
       "615933   B0013VA834  [0, 0]   \n",
       "\n",
       "                                                reviewText  overall  \\\n",
       "845681   I really can't believe that others have rated ...        2   \n",
       "1107550  3 Yr old who breaks everything he comes into c...        5   \n",
       "672632   got these cups for my sons 4th birthday party ...        4   \n",
       "1422772  It's REALLY small. The picture makes it look b...        3   \n",
       "763641   This little dragon was absolutely perfect for ...        5   \n",
       "...                                                    ...      ...   \n",
       "1281018  Well thought game. Beautiful pictures. Age ran...        5   \n",
       "1888772  I bought this for one my nephew.  I had never ...        4   \n",
       "410014   The idea is cute, to make a personilized umbre...        5   \n",
       "259121   For children it is very interesting toy to pla...        5   \n",
       "615933   PAY BACK!!!!!Used some to make turd sandwiches...        5   \n",
       "\n",
       "         unixReviewTime        category  class  reviewLength  helpfulRatio  \\\n",
       "845681       1388361600  Toys_and_Games      0          1010           1.0   \n",
       "1107550      1357516800  Toys_and_Games      1           306           0.0   \n",
       "672632       1360540800  Toys_and_Games      1           222           0.0   \n",
       "1422772      1386633600  Toys_and_Games      0           120           0.0   \n",
       "763641       1385942400  Toys_and_Games      1           184           0.0   \n",
       "...                 ...             ...    ...           ...           ...   \n",
       "1281018      1389052800  Toys_and_Games      1           138           1.0   \n",
       "1888772      1390694400  Toys_and_Games      1           151           0.5   \n",
       "410014       1324080000  Toys_and_Games      1           169           0.0   \n",
       "259121       1225411200  Toys_and_Games      1           141           0.0   \n",
       "615933       1348185600  Toys_and_Games      1           668           0.0   \n",
       "\n",
       "         wordCount  avgWordLength  sentiment  review_year  review_month  \\\n",
       "845681         204       3.955882     0.4320         2013            12   \n",
       "1107550         56       4.410714     0.9774         2013             1   \n",
       "672632          42       4.309524     0.9399         2013             2   \n",
       "1422772         23       4.260870     0.8819         2013            12   \n",
       "763641          31       4.903226     0.8122         2013            12   \n",
       "...            ...            ...        ...          ...           ...   \n",
       "1281018         24       4.791667     0.9229         2014             1   \n",
       "1888772         28       4.357143     0.8302         2014             1   \n",
       "410014          28       5.071429     0.8718         2011            12   \n",
       "259121          28       4.071429     0.8977         2008            10   \n",
       "615933         122       4.483607     0.8931         2012             9   \n",
       "\n",
       "         review_day  review_day_of_week  \n",
       "845681           30                   0  \n",
       "1107550           7                   0  \n",
       "672632           11                   0  \n",
       "1422772          10                   1  \n",
       "763641            2                   0  \n",
       "...             ...                 ...  \n",
       "1281018           7                   1  \n",
       "1888772          26                   6  \n",
       "410014           17                   5  \n",
       "259121           31                   4  \n",
       "615933           21                   4  \n",
       "\n",
       "[160000 rows x 16 columns]"
      ]
     },
     "execution_count": 23,
     "metadata": {},
     "output_type": "execute_result"
    }
   ],
   "source": [
    "original_dataframe_part"
   ]
  },
  {
   "cell_type": "markdown",
   "id": "253aa34e",
   "metadata": {
    "papermill": {
     "duration": 0.027589,
     "end_time": "2024-12-18T19:35:34.388475",
     "exception": false,
     "start_time": "2024-12-18T19:35:34.360886",
     "status": "completed"
    },
    "tags": []
   },
   "source": [
    "## Scaling Pipeline fitting data"
   ]
  },
  {
   "cell_type": "code",
   "execution_count": 24,
   "id": "1a1d2b57",
   "metadata": {
    "execution": {
     "iopub.execute_input": "2024-12-18T19:35:34.454712Z",
     "iopub.status.busy": "2024-12-18T19:35:34.453887Z",
     "iopub.status.idle": "2024-12-18T19:35:34.473405Z",
     "shell.execute_reply": "2024-12-18T19:35:34.472182Z"
    },
    "papermill": {
     "duration": 0.057426,
     "end_time": "2024-12-18T19:35:34.475818",
     "exception": false,
     "start_time": "2024-12-18T19:35:34.418392",
     "status": "completed"
    },
    "tags": []
   },
   "outputs": [
    {
     "data": {
      "text/html": [
       "<div>\n",
       "<style scoped>\n",
       "    .dataframe tbody tr th:only-of-type {\n",
       "        vertical-align: middle;\n",
       "    }\n",
       "\n",
       "    .dataframe tbody tr th {\n",
       "        vertical-align: top;\n",
       "    }\n",
       "\n",
       "    .dataframe thead th {\n",
       "        text-align: right;\n",
       "    }\n",
       "</style>\n",
       "<table border=\"1\" class=\"dataframe\">\n",
       "  <thead>\n",
       "    <tr style=\"text-align: right;\">\n",
       "      <th></th>\n",
       "      <th>reviewLength</th>\n",
       "      <th>helpfulRatio</th>\n",
       "      <th>wordCount</th>\n",
       "      <th>avgWordLength</th>\n",
       "    </tr>\n",
       "  </thead>\n",
       "  <tbody>\n",
       "    <tr>\n",
       "      <th>845681</th>\n",
       "      <td>1010</td>\n",
       "      <td>1.0</td>\n",
       "      <td>204</td>\n",
       "      <td>3.955882</td>\n",
       "    </tr>\n",
       "    <tr>\n",
       "      <th>1107550</th>\n",
       "      <td>306</td>\n",
       "      <td>0.0</td>\n",
       "      <td>56</td>\n",
       "      <td>4.410714</td>\n",
       "    </tr>\n",
       "    <tr>\n",
       "      <th>672632</th>\n",
       "      <td>222</td>\n",
       "      <td>0.0</td>\n",
       "      <td>42</td>\n",
       "      <td>4.309524</td>\n",
       "    </tr>\n",
       "    <tr>\n",
       "      <th>1422772</th>\n",
       "      <td>120</td>\n",
       "      <td>0.0</td>\n",
       "      <td>23</td>\n",
       "      <td>4.260870</td>\n",
       "    </tr>\n",
       "    <tr>\n",
       "      <th>763641</th>\n",
       "      <td>184</td>\n",
       "      <td>0.0</td>\n",
       "      <td>31</td>\n",
       "      <td>4.903226</td>\n",
       "    </tr>\n",
       "  </tbody>\n",
       "</table>\n",
       "</div>"
      ],
      "text/plain": [
       "         reviewLength  helpfulRatio  wordCount  avgWordLength\n",
       "845681           1010           1.0        204       3.955882\n",
       "1107550           306           0.0         56       4.410714\n",
       "672632            222           0.0         42       4.309524\n",
       "1422772           120           0.0         23       4.260870\n",
       "763641            184           0.0         31       4.903226"
      ]
     },
     "execution_count": 24,
     "metadata": {},
     "output_type": "execute_result"
    }
   ],
   "source": [
    "scaling_pipeline_fitting_data = original_dataframe_part[['reviewLength', 'helpfulRatio', 'wordCount', 'avgWordLength']].copy()\n",
    "scaling_pipeline_fitting_data.head()"
   ]
  },
  {
   "cell_type": "markdown",
   "id": "6e6c56aa",
   "metadata": {
    "papermill": {
     "duration": 0.032533,
     "end_time": "2024-12-18T19:35:34.539561",
     "exception": false,
     "start_time": "2024-12-18T19:35:34.507028",
     "status": "completed"
    },
    "tags": []
   },
   "source": [
    "# Text Preprocessing"
   ]
  },
  {
   "cell_type": "markdown",
   "id": "3c5a229f",
   "metadata": {
    "papermill": {
     "duration": 0.028603,
     "end_time": "2024-12-18T19:35:34.596758",
     "exception": false,
     "start_time": "2024-12-18T19:35:34.568155",
     "status": "completed"
    },
    "tags": []
   },
   "source": [
    "**Text Preprocessing Steps:**\n",
    "\n",
    "Lowercasing: Convert all text to lowercase to ensure uniformity.\n",
    "\n",
    "Remove Punctuation: Remove punctuation marks from the text.\n",
    "\n",
    "Remove Numbers: Remove numbers unless they carry significant meaning.\n",
    "\n",
    "Remove Whitespace: Remove extra spaces, tabs, and newlines.\n",
    "\n",
    "Tokenization: Split the text into individual words or tokens.\n",
    "\n",
    "Remove Stop Words: Remove common words that do not carry significant meaning (e.g., 'and', 'the', 'is').\n",
    "\n",
    "Stemming/Lemmatization: Reduce words to their base or root form.\n",
    "\n",
    "Handling Contractions: Expand contractions (e.g., \"can't\" to \"cannot\").\n",
    "\n",
    "Remove Special Characters: Remove special characters and symbols.\n",
    "\n",
    "Spell Correction: Correct spelling errors (optional, based on use case)."
   ]
  },
  {
   "cell_type": "markdown",
   "id": "8421cc22",
   "metadata": {
    "papermill": {
     "duration": 0.03496,
     "end_time": "2024-12-18T19:35:34.660407",
     "exception": false,
     "start_time": "2024-12-18T19:35:34.625447",
     "status": "completed"
    },
    "tags": []
   },
   "source": [
    "## Lowercasing"
   ]
  },
  {
   "cell_type": "code",
   "execution_count": 25,
   "id": "2996a4e1",
   "metadata": {
    "execution": {
     "iopub.execute_input": "2024-12-18T19:35:34.727438Z",
     "iopub.status.busy": "2024-12-18T19:35:34.726888Z",
     "iopub.status.idle": "2024-12-18T19:35:34.986574Z",
     "shell.execute_reply": "2024-12-18T19:35:34.985391Z"
    },
    "papermill": {
     "duration": 0.294549,
     "end_time": "2024-12-18T19:35:34.989001",
     "exception": false,
     "start_time": "2024-12-18T19:35:34.694452",
     "status": "completed"
    },
    "tags": []
   },
   "outputs": [
    {
     "data": {
      "text/html": [
       "<div>\n",
       "<style scoped>\n",
       "    .dataframe tbody tr th:only-of-type {\n",
       "        vertical-align: middle;\n",
       "    }\n",
       "\n",
       "    .dataframe tbody tr th {\n",
       "        vertical-align: top;\n",
       "    }\n",
       "\n",
       "    .dataframe thead th {\n",
       "        text-align: right;\n",
       "    }\n",
       "</style>\n",
       "<table border=\"1\" class=\"dataframe\">\n",
       "  <thead>\n",
       "    <tr style=\"text-align: right;\">\n",
       "      <th></th>\n",
       "      <th>reviewText</th>\n",
       "      <th>reviewText_lower</th>\n",
       "    </tr>\n",
       "  </thead>\n",
       "  <tbody>\n",
       "    <tr>\n",
       "      <th>845681</th>\n",
       "      <td>I really can't believe that others have rated ...</td>\n",
       "      <td>i really can't believe that others have rated ...</td>\n",
       "    </tr>\n",
       "    <tr>\n",
       "      <th>1107550</th>\n",
       "      <td>3 Yr old who breaks everything he comes into c...</td>\n",
       "      <td>3 yr old who breaks everything he comes into c...</td>\n",
       "    </tr>\n",
       "    <tr>\n",
       "      <th>672632</th>\n",
       "      <td>got these cups for my sons 4th birthday party ...</td>\n",
       "      <td>got these cups for my sons 4th birthday party ...</td>\n",
       "    </tr>\n",
       "    <tr>\n",
       "      <th>1422772</th>\n",
       "      <td>It's REALLY small. The picture makes it look b...</td>\n",
       "      <td>it's really small. the picture makes it look b...</td>\n",
       "    </tr>\n",
       "    <tr>\n",
       "      <th>763641</th>\n",
       "      <td>This little dragon was absolutely perfect for ...</td>\n",
       "      <td>this little dragon was absolutely perfect for ...</td>\n",
       "    </tr>\n",
       "  </tbody>\n",
       "</table>\n",
       "</div>"
      ],
      "text/plain": [
       "                                                reviewText  \\\n",
       "845681   I really can't believe that others have rated ...   \n",
       "1107550  3 Yr old who breaks everything he comes into c...   \n",
       "672632   got these cups for my sons 4th birthday party ...   \n",
       "1422772  It's REALLY small. The picture makes it look b...   \n",
       "763641   This little dragon was absolutely perfect for ...   \n",
       "\n",
       "                                          reviewText_lower  \n",
       "845681   i really can't believe that others have rated ...  \n",
       "1107550  3 yr old who breaks everything he comes into c...  \n",
       "672632   got these cups for my sons 4th birthday party ...  \n",
       "1422772  it's really small. the picture makes it look b...  \n",
       "763641   this little dragon was absolutely perfect for ...  "
      ]
     },
     "execution_count": 25,
     "metadata": {},
     "output_type": "execute_result"
    }
   ],
   "source": [
    "original_dataframe_part['reviewText_lower'] = original_dataframe_part['reviewText'].str.lower()\n",
    "original_dataframe_part[['reviewText', 'reviewText_lower']].head()"
   ]
  },
  {
   "cell_type": "markdown",
   "id": "a22596fa",
   "metadata": {
    "papermill": {
     "duration": 0.028263,
     "end_time": "2024-12-18T19:35:35.045228",
     "exception": false,
     "start_time": "2024-12-18T19:35:35.016965",
     "status": "completed"
    },
    "tags": []
   },
   "source": [
    "## Expanding Contractions"
   ]
  },
  {
   "cell_type": "markdown",
   "id": "af73700c",
   "metadata": {
    "papermill": {
     "duration": 0.027414,
     "end_time": "2024-12-18T19:35:35.100770",
     "exception": false,
     "start_time": "2024-12-18T19:35:35.073356",
     "status": "completed"
    },
    "tags": []
   },
   "source": [
    "**Contractions stand for the common english words which represent a group of words for eg. 'can't' in place of 'cannot'.**"
   ]
  },
  {
   "cell_type": "code",
   "execution_count": 26,
   "id": "159d9b97",
   "metadata": {
    "execution": {
     "iopub.execute_input": "2024-12-18T19:35:35.158285Z",
     "iopub.status.busy": "2024-12-18T19:35:35.157876Z",
     "iopub.status.idle": "2024-12-18T19:35:39.551939Z",
     "shell.execute_reply": "2024-12-18T19:35:39.550684Z"
    },
    "papermill": {
     "duration": 4.425797,
     "end_time": "2024-12-18T19:35:39.554413",
     "exception": false,
     "start_time": "2024-12-18T19:35:35.128616",
     "status": "completed"
    },
    "tags": []
   },
   "outputs": [
    {
     "data": {
      "text/html": [
       "<div>\n",
       "<style scoped>\n",
       "    .dataframe tbody tr th:only-of-type {\n",
       "        vertical-align: middle;\n",
       "    }\n",
       "\n",
       "    .dataframe tbody tr th {\n",
       "        vertical-align: top;\n",
       "    }\n",
       "\n",
       "    .dataframe thead th {\n",
       "        text-align: right;\n",
       "    }\n",
       "</style>\n",
       "<table border=\"1\" class=\"dataframe\">\n",
       "  <thead>\n",
       "    <tr style=\"text-align: right;\">\n",
       "      <th></th>\n",
       "      <th>reviewText_lower</th>\n",
       "      <th>reviewText_expanded</th>\n",
       "    </tr>\n",
       "  </thead>\n",
       "  <tbody>\n",
       "    <tr>\n",
       "      <th>845681</th>\n",
       "      <td>i really can't believe that others have rated ...</td>\n",
       "      <td>i really cannot believe that others have rated...</td>\n",
       "    </tr>\n",
       "    <tr>\n",
       "      <th>1107550</th>\n",
       "      <td>3 yr old who breaks everything he comes into c...</td>\n",
       "      <td>3 yr old who breaks everything he comes into c...</td>\n",
       "    </tr>\n",
       "    <tr>\n",
       "      <th>672632</th>\n",
       "      <td>got these cups for my sons 4th birthday party ...</td>\n",
       "      <td>got these cups for my sons 4th birthday party ...</td>\n",
       "    </tr>\n",
       "    <tr>\n",
       "      <th>1422772</th>\n",
       "      <td>it's really small. the picture makes it look b...</td>\n",
       "      <td>it is really small. the picture makes it look ...</td>\n",
       "    </tr>\n",
       "    <tr>\n",
       "      <th>763641</th>\n",
       "      <td>this little dragon was absolutely perfect for ...</td>\n",
       "      <td>this little dragon was absolutely perfect for ...</td>\n",
       "    </tr>\n",
       "  </tbody>\n",
       "</table>\n",
       "</div>"
      ],
      "text/plain": [
       "                                          reviewText_lower  \\\n",
       "845681   i really can't believe that others have rated ...   \n",
       "1107550  3 yr old who breaks everything he comes into c...   \n",
       "672632   got these cups for my sons 4th birthday party ...   \n",
       "1422772  it's really small. the picture makes it look b...   \n",
       "763641   this little dragon was absolutely perfect for ...   \n",
       "\n",
       "                                       reviewText_expanded  \n",
       "845681   i really cannot believe that others have rated...  \n",
       "1107550  3 yr old who breaks everything he comes into c...  \n",
       "672632   got these cups for my sons 4th birthday party ...  \n",
       "1422772  it is really small. the picture makes it look ...  \n",
       "763641   this little dragon was absolutely perfect for ...  "
      ]
     },
     "execution_count": 26,
     "metadata": {},
     "output_type": "execute_result"
    }
   ],
   "source": [
    "# Importing regular expression library\n",
    "import re\n",
    "\n",
    "contractions = {\n",
    "    \"can't\": \"cannot\",\n",
    "    \"won't\": \"will not\",\n",
    "    \"n't\": \" not\",\n",
    "    \"'re\": \" are\",\n",
    "    \"'s\": \" is\",\n",
    "    \"'d\": \" would\",\n",
    "    \"'ll\": \" will\",\n",
    "    \"'t\": \" not\",\n",
    "    \"'ve\": \" have\",\n",
    "    \"'m\": \" am\"\n",
    "}\n",
    "\n",
    "# Function to expand contractions\n",
    "def expand_contractions(text, contractions_dict=contractions):\n",
    "    contractions_pattern = re.compile('({})'.format('|'.join(contractions_dict.keys())), \n",
    "                                      flags=re.IGNORECASE | re.DOTALL)\n",
    "    def expand_match(contraction):\n",
    "        match = contraction.group(0)\n",
    "        expanded_contraction = contractions_dict.get(match.lower())\n",
    "        return expanded_contraction\n",
    "    \n",
    "    expanded_text = contractions_pattern.sub(expand_match, text)\n",
    "    return expanded_text\n",
    "\n",
    "# Apply to dataframe\n",
    "original_dataframe_part['reviewText_expanded'] = original_dataframe_part['reviewText_lower'].apply(expand_contractions)\n",
    "original_dataframe_part[['reviewText_lower', 'reviewText_expanded']].head()\n"
   ]
  },
  {
   "cell_type": "markdown",
   "id": "8892bb0b",
   "metadata": {
    "papermill": {
     "duration": 0.027209,
     "end_time": "2024-12-18T19:35:39.609403",
     "exception": false,
     "start_time": "2024-12-18T19:35:39.582194",
     "status": "completed"
    },
    "tags": []
   },
   "source": [
    "## Removing Punctuations"
   ]
  },
  {
   "cell_type": "code",
   "execution_count": 27,
   "id": "74317d3a",
   "metadata": {
    "execution": {
     "iopub.execute_input": "2024-12-18T19:35:39.667285Z",
     "iopub.status.busy": "2024-12-18T19:35:39.666860Z",
     "iopub.status.idle": "2024-12-18T19:35:40.416908Z",
     "shell.execute_reply": "2024-12-18T19:35:40.415771Z"
    },
    "papermill": {
     "duration": 0.781851,
     "end_time": "2024-12-18T19:35:40.419099",
     "exception": false,
     "start_time": "2024-12-18T19:35:39.637248",
     "status": "completed"
    },
    "tags": []
   },
   "outputs": [
    {
     "data": {
      "text/html": [
       "<div>\n",
       "<style scoped>\n",
       "    .dataframe tbody tr th:only-of-type {\n",
       "        vertical-align: middle;\n",
       "    }\n",
       "\n",
       "    .dataframe tbody tr th {\n",
       "        vertical-align: top;\n",
       "    }\n",
       "\n",
       "    .dataframe thead th {\n",
       "        text-align: right;\n",
       "    }\n",
       "</style>\n",
       "<table border=\"1\" class=\"dataframe\">\n",
       "  <thead>\n",
       "    <tr style=\"text-align: right;\">\n",
       "      <th></th>\n",
       "      <th>reviewText_expanded</th>\n",
       "      <th>reviewText_no_punct</th>\n",
       "    </tr>\n",
       "  </thead>\n",
       "  <tbody>\n",
       "    <tr>\n",
       "      <th>845681</th>\n",
       "      <td>i really cannot believe that others have rated...</td>\n",
       "      <td>i really cannot believe that others have rated...</td>\n",
       "    </tr>\n",
       "    <tr>\n",
       "      <th>1107550</th>\n",
       "      <td>3 yr old who breaks everything he comes into c...</td>\n",
       "      <td>3 yr old who breaks everything he comes into c...</td>\n",
       "    </tr>\n",
       "    <tr>\n",
       "      <th>672632</th>\n",
       "      <td>got these cups for my sons 4th birthday party ...</td>\n",
       "      <td>got these cups for my sons 4th birthday party ...</td>\n",
       "    </tr>\n",
       "    <tr>\n",
       "      <th>1422772</th>\n",
       "      <td>it is really small. the picture makes it look ...</td>\n",
       "      <td>it is really small the picture makes it look b...</td>\n",
       "    </tr>\n",
       "    <tr>\n",
       "      <th>763641</th>\n",
       "      <td>this little dragon was absolutely perfect for ...</td>\n",
       "      <td>this little dragon was absolutely perfect for ...</td>\n",
       "    </tr>\n",
       "  </tbody>\n",
       "</table>\n",
       "</div>"
      ],
      "text/plain": [
       "                                       reviewText_expanded  \\\n",
       "845681   i really cannot believe that others have rated...   \n",
       "1107550  3 yr old who breaks everything he comes into c...   \n",
       "672632   got these cups for my sons 4th birthday party ...   \n",
       "1422772  it is really small. the picture makes it look ...   \n",
       "763641   this little dragon was absolutely perfect for ...   \n",
       "\n",
       "                                       reviewText_no_punct  \n",
       "845681   i really cannot believe that others have rated...  \n",
       "1107550  3 yr old who breaks everything he comes into c...  \n",
       "672632   got these cups for my sons 4th birthday party ...  \n",
       "1422772  it is really small the picture makes it look b...  \n",
       "763641   this little dragon was absolutely perfect for ...  "
      ]
     },
     "execution_count": 27,
     "metadata": {},
     "output_type": "execute_result"
    }
   ],
   "source": [
    "import string\n",
    "\n",
    "# Remove punctuation\n",
    "original_dataframe_part['reviewText_no_punct'] = original_dataframe_part['reviewText_expanded'].str.translate(str.maketrans('', '', string.punctuation))\n",
    "original_dataframe_part[['reviewText_expanded', 'reviewText_no_punct']].head()"
   ]
  },
  {
   "cell_type": "markdown",
   "id": "a4df24e7",
   "metadata": {
    "papermill": {
     "duration": 0.027257,
     "end_time": "2024-12-18T19:35:40.474598",
     "exception": false,
     "start_time": "2024-12-18T19:35:40.447341",
     "status": "completed"
    },
    "tags": []
   },
   "source": [
    "## Removing Numbers (if any)"
   ]
  },
  {
   "cell_type": "code",
   "execution_count": 28,
   "id": "0218eb8d",
   "metadata": {
    "execution": {
     "iopub.execute_input": "2024-12-18T19:35:40.532692Z",
     "iopub.status.busy": "2024-12-18T19:35:40.532279Z",
     "iopub.status.idle": "2024-12-18T19:35:41.940052Z",
     "shell.execute_reply": "2024-12-18T19:35:41.938788Z"
    },
    "papermill": {
     "duration": 1.440166,
     "end_time": "2024-12-18T19:35:41.942669",
     "exception": false,
     "start_time": "2024-12-18T19:35:40.502503",
     "status": "completed"
    },
    "tags": []
   },
   "outputs": [
    {
     "data": {
      "text/html": [
       "<div>\n",
       "<style scoped>\n",
       "    .dataframe tbody tr th:only-of-type {\n",
       "        vertical-align: middle;\n",
       "    }\n",
       "\n",
       "    .dataframe tbody tr th {\n",
       "        vertical-align: top;\n",
       "    }\n",
       "\n",
       "    .dataframe thead th {\n",
       "        text-align: right;\n",
       "    }\n",
       "</style>\n",
       "<table border=\"1\" class=\"dataframe\">\n",
       "  <thead>\n",
       "    <tr style=\"text-align: right;\">\n",
       "      <th></th>\n",
       "      <th>reviewText_no_punct</th>\n",
       "      <th>reviewText_no_numbers</th>\n",
       "    </tr>\n",
       "  </thead>\n",
       "  <tbody>\n",
       "    <tr>\n",
       "      <th>845681</th>\n",
       "      <td>i really cannot believe that others have rated...</td>\n",
       "      <td>i really cannot believe that others have rated...</td>\n",
       "    </tr>\n",
       "    <tr>\n",
       "      <th>1107550</th>\n",
       "      <td>3 yr old who breaks everything he comes into c...</td>\n",
       "      <td>yr old who breaks everything he comes into co...</td>\n",
       "    </tr>\n",
       "    <tr>\n",
       "      <th>672632</th>\n",
       "      <td>got these cups for my sons 4th birthday party ...</td>\n",
       "      <td>got these cups for my sons th birthday party  ...</td>\n",
       "    </tr>\n",
       "    <tr>\n",
       "      <th>1422772</th>\n",
       "      <td>it is really small the picture makes it look b...</td>\n",
       "      <td>it is really small the picture makes it look b...</td>\n",
       "    </tr>\n",
       "    <tr>\n",
       "      <th>763641</th>\n",
       "      <td>this little dragon was absolutely perfect for ...</td>\n",
       "      <td>this little dragon was absolutely perfect for ...</td>\n",
       "    </tr>\n",
       "  </tbody>\n",
       "</table>\n",
       "</div>"
      ],
      "text/plain": [
       "                                       reviewText_no_punct  \\\n",
       "845681   i really cannot believe that others have rated...   \n",
       "1107550  3 yr old who breaks everything he comes into c...   \n",
       "672632   got these cups for my sons 4th birthday party ...   \n",
       "1422772  it is really small the picture makes it look b...   \n",
       "763641   this little dragon was absolutely perfect for ...   \n",
       "\n",
       "                                     reviewText_no_numbers  \n",
       "845681   i really cannot believe that others have rated...  \n",
       "1107550   yr old who breaks everything he comes into co...  \n",
       "672632   got these cups for my sons th birthday party  ...  \n",
       "1422772  it is really small the picture makes it look b...  \n",
       "763641   this little dragon was absolutely perfect for ...  "
      ]
     },
     "execution_count": 28,
     "metadata": {},
     "output_type": "execute_result"
    }
   ],
   "source": [
    "# Remove numbers\n",
    "original_dataframe_part['reviewText_no_numbers'] = original_dataframe_part['reviewText_no_punct'].str.replace(r'\\d+', '', regex=True)\n",
    "original_dataframe_part[['reviewText_no_punct', 'reviewText_no_numbers']].head()"
   ]
  },
  {
   "cell_type": "markdown",
   "id": "0d249208",
   "metadata": {
    "papermill": {
     "duration": 0.028154,
     "end_time": "2024-12-18T19:35:41.999617",
     "exception": false,
     "start_time": "2024-12-18T19:35:41.971463",
     "status": "completed"
    },
    "tags": []
   },
   "source": [
    "## Removing Whitespaces"
   ]
  },
  {
   "cell_type": "markdown",
   "id": "4a86e6db",
   "metadata": {
    "papermill": {
     "duration": 0.028185,
     "end_time": "2024-12-18T19:35:42.058325",
     "exception": false,
     "start_time": "2024-12-18T19:35:42.030140",
     "status": "completed"
    },
    "tags": []
   },
   "source": [
    "**Removing leading, trailing whitespaces and newlines or tabs.**"
   ]
  },
  {
   "cell_type": "code",
   "execution_count": 29,
   "id": "b8e7925a",
   "metadata": {
    "execution": {
     "iopub.execute_input": "2024-12-18T19:35:42.117723Z",
     "iopub.status.busy": "2024-12-18T19:35:42.117317Z",
     "iopub.status.idle": "2024-12-18T19:35:48.196846Z",
     "shell.execute_reply": "2024-12-18T19:35:48.195632Z"
    },
    "papermill": {
     "duration": 6.112574,
     "end_time": "2024-12-18T19:35:48.199683",
     "exception": false,
     "start_time": "2024-12-18T19:35:42.087109",
     "status": "completed"
    },
    "tags": []
   },
   "outputs": [
    {
     "data": {
      "text/html": [
       "<div>\n",
       "<style scoped>\n",
       "    .dataframe tbody tr th:only-of-type {\n",
       "        vertical-align: middle;\n",
       "    }\n",
       "\n",
       "    .dataframe tbody tr th {\n",
       "        vertical-align: top;\n",
       "    }\n",
       "\n",
       "    .dataframe thead th {\n",
       "        text-align: right;\n",
       "    }\n",
       "</style>\n",
       "<table border=\"1\" class=\"dataframe\">\n",
       "  <thead>\n",
       "    <tr style=\"text-align: right;\">\n",
       "      <th></th>\n",
       "      <th>reviewText_no_numbers</th>\n",
       "      <th>reviewText_clean</th>\n",
       "    </tr>\n",
       "  </thead>\n",
       "  <tbody>\n",
       "    <tr>\n",
       "      <th>845681</th>\n",
       "      <td>i really cannot believe that others have rated...</td>\n",
       "      <td>i really cannot believe that others have rated...</td>\n",
       "    </tr>\n",
       "    <tr>\n",
       "      <th>1107550</th>\n",
       "      <td>yr old who breaks everything he comes into co...</td>\n",
       "      <td>yr old who breaks everything he comes into con...</td>\n",
       "    </tr>\n",
       "    <tr>\n",
       "      <th>672632</th>\n",
       "      <td>got these cups for my sons th birthday party  ...</td>\n",
       "      <td>got these cups for my sons th birthday party p...</td>\n",
       "    </tr>\n",
       "    <tr>\n",
       "      <th>1422772</th>\n",
       "      <td>it is really small the picture makes it look b...</td>\n",
       "      <td>it is really small the picture makes it look b...</td>\n",
       "    </tr>\n",
       "    <tr>\n",
       "      <th>763641</th>\n",
       "      <td>this little dragon was absolutely perfect for ...</td>\n",
       "      <td>this little dragon was absolutely perfect for ...</td>\n",
       "    </tr>\n",
       "  </tbody>\n",
       "</table>\n",
       "</div>"
      ],
      "text/plain": [
       "                                     reviewText_no_numbers  \\\n",
       "845681   i really cannot believe that others have rated...   \n",
       "1107550   yr old who breaks everything he comes into co...   \n",
       "672632   got these cups for my sons th birthday party  ...   \n",
       "1422772  it is really small the picture makes it look b...   \n",
       "763641   this little dragon was absolutely perfect for ...   \n",
       "\n",
       "                                          reviewText_clean  \n",
       "845681   i really cannot believe that others have rated...  \n",
       "1107550  yr old who breaks everything he comes into con...  \n",
       "672632   got these cups for my sons th birthday party p...  \n",
       "1422772  it is really small the picture makes it look b...  \n",
       "763641   this little dragon was absolutely perfect for ...  "
      ]
     },
     "execution_count": 29,
     "metadata": {},
     "output_type": "execute_result"
    }
   ],
   "source": [
    "# Remove whitespace\n",
    "original_dataframe_part['reviewText_clean'] = original_dataframe_part['reviewText_no_numbers'].str.strip()\n",
    "original_dataframe_part['reviewText_clean'] = original_dataframe_part['reviewText_clean'].str.replace(r'\\s+', ' ', regex=True)\n",
    "original_dataframe_part[['reviewText_no_numbers', 'reviewText_clean']].head()"
   ]
  },
  {
   "cell_type": "markdown",
   "id": "690dfca7",
   "metadata": {
    "papermill": {
     "duration": 0.028605,
     "end_time": "2024-12-18T19:35:48.257686",
     "exception": false,
     "start_time": "2024-12-18T19:35:48.229081",
     "status": "completed"
    },
    "tags": []
   },
   "source": [
    "## Tokenization"
   ]
  },
  {
   "cell_type": "code",
   "execution_count": 30,
   "id": "bc2a77bd",
   "metadata": {
    "execution": {
     "iopub.execute_input": "2024-12-18T19:35:48.316355Z",
     "iopub.status.busy": "2024-12-18T19:35:48.315971Z",
     "iopub.status.idle": "2024-12-18T19:36:36.120412Z",
     "shell.execute_reply": "2024-12-18T19:36:36.119224Z"
    },
    "papermill": {
     "duration": 47.864524,
     "end_time": "2024-12-18T19:36:36.150939",
     "exception": false,
     "start_time": "2024-12-18T19:35:48.286415",
     "status": "completed"
    },
    "tags": []
   },
   "outputs": [
    {
     "name": "stdout",
     "output_type": "stream",
     "text": [
      "[nltk_data] Downloading package punkt to /usr/share/nltk_data...\n",
      "[nltk_data]   Package punkt is already up-to-date!\n"
     ]
    },
    {
     "data": {
      "text/html": [
       "<div>\n",
       "<style scoped>\n",
       "    .dataframe tbody tr th:only-of-type {\n",
       "        vertical-align: middle;\n",
       "    }\n",
       "\n",
       "    .dataframe tbody tr th {\n",
       "        vertical-align: top;\n",
       "    }\n",
       "\n",
       "    .dataframe thead th {\n",
       "        text-align: right;\n",
       "    }\n",
       "</style>\n",
       "<table border=\"1\" class=\"dataframe\">\n",
       "  <thead>\n",
       "    <tr style=\"text-align: right;\">\n",
       "      <th></th>\n",
       "      <th>reviewText_clean</th>\n",
       "      <th>reviewText_tokens</th>\n",
       "    </tr>\n",
       "  </thead>\n",
       "  <tbody>\n",
       "    <tr>\n",
       "      <th>845681</th>\n",
       "      <td>i really cannot believe that others have rated...</td>\n",
       "      <td>[i, really, can, not, believe, that, others, h...</td>\n",
       "    </tr>\n",
       "    <tr>\n",
       "      <th>1107550</th>\n",
       "      <td>yr old who breaks everything he comes into con...</td>\n",
       "      <td>[yr, old, who, breaks, everything, he, comes, ...</td>\n",
       "    </tr>\n",
       "    <tr>\n",
       "      <th>672632</th>\n",
       "      <td>got these cups for my sons th birthday party p...</td>\n",
       "      <td>[got, these, cups, for, my, sons, th, birthday...</td>\n",
       "    </tr>\n",
       "    <tr>\n",
       "      <th>1422772</th>\n",
       "      <td>it is really small the picture makes it look b...</td>\n",
       "      <td>[it, is, really, small, the, picture, makes, i...</td>\n",
       "    </tr>\n",
       "    <tr>\n",
       "      <th>763641</th>\n",
       "      <td>this little dragon was absolutely perfect for ...</td>\n",
       "      <td>[this, little, dragon, was, absolutely, perfec...</td>\n",
       "    </tr>\n",
       "  </tbody>\n",
       "</table>\n",
       "</div>"
      ],
      "text/plain": [
       "                                          reviewText_clean  \\\n",
       "845681   i really cannot believe that others have rated...   \n",
       "1107550  yr old who breaks everything he comes into con...   \n",
       "672632   got these cups for my sons th birthday party p...   \n",
       "1422772  it is really small the picture makes it look b...   \n",
       "763641   this little dragon was absolutely perfect for ...   \n",
       "\n",
       "                                         reviewText_tokens  \n",
       "845681   [i, really, can, not, believe, that, others, h...  \n",
       "1107550  [yr, old, who, breaks, everything, he, comes, ...  \n",
       "672632   [got, these, cups, for, my, sons, th, birthday...  \n",
       "1422772  [it, is, really, small, the, picture, makes, i...  \n",
       "763641   [this, little, dragon, was, absolutely, perfec...  "
      ]
     },
     "execution_count": 30,
     "metadata": {},
     "output_type": "execute_result"
    }
   ],
   "source": [
    "import nltk\n",
    "\n",
    "from nltk.tokenize import word_tokenize\n",
    "nltk.download('punkt')\n",
    "\n",
    "# Tokenize\n",
    "original_dataframe_part['reviewText_tokens'] = original_dataframe_part['reviewText_clean'].apply(word_tokenize)\n",
    "original_dataframe_part[['reviewText_clean', 'reviewText_tokens']].head()"
   ]
  },
  {
   "cell_type": "markdown",
   "id": "a35e476b",
   "metadata": {
    "papermill": {
     "duration": 0.028659,
     "end_time": "2024-12-18T19:36:36.209750",
     "exception": false,
     "start_time": "2024-12-18T19:36:36.181091",
     "status": "completed"
    },
    "tags": []
   },
   "source": [
    "## Removing Stop Words"
   ]
  },
  {
   "cell_type": "markdown",
   "id": "721b6dcb",
   "metadata": {
    "papermill": {
     "duration": 0.028539,
     "end_time": "2024-12-18T19:36:36.266956",
     "exception": false,
     "start_time": "2024-12-18T19:36:36.238417",
     "status": "completed"
    },
    "tags": []
   },
   "source": [
    "**Stop words are the most commonly and often used words in english which as such do not have any significant impact on the model for text analysis. Example, 'I', 'in', ... etc.**"
   ]
  },
  {
   "cell_type": "code",
   "execution_count": 31,
   "id": "2574082c",
   "metadata": {
    "execution": {
     "iopub.execute_input": "2024-12-18T19:36:36.327870Z",
     "iopub.status.busy": "2024-12-18T19:36:36.327444Z",
     "iopub.status.idle": "2024-12-18T19:36:38.006327Z",
     "shell.execute_reply": "2024-12-18T19:36:38.004983Z"
    },
    "papermill": {
     "duration": 1.712927,
     "end_time": "2024-12-18T19:36:38.009108",
     "exception": false,
     "start_time": "2024-12-18T19:36:36.296181",
     "status": "completed"
    },
    "tags": []
   },
   "outputs": [
    {
     "name": "stdout",
     "output_type": "stream",
     "text": [
      "[nltk_data] Downloading package stopwords to /usr/share/nltk_data...\n",
      "[nltk_data]   Package stopwords is already up-to-date!\n"
     ]
    },
    {
     "data": {
      "text/html": [
       "<div>\n",
       "<style scoped>\n",
       "    .dataframe tbody tr th:only-of-type {\n",
       "        vertical-align: middle;\n",
       "    }\n",
       "\n",
       "    .dataframe tbody tr th {\n",
       "        vertical-align: top;\n",
       "    }\n",
       "\n",
       "    .dataframe thead th {\n",
       "        text-align: right;\n",
       "    }\n",
       "</style>\n",
       "<table border=\"1\" class=\"dataframe\">\n",
       "  <thead>\n",
       "    <tr style=\"text-align: right;\">\n",
       "      <th></th>\n",
       "      <th>reviewText_tokens</th>\n",
       "      <th>reviewText_no_stopwords</th>\n",
       "    </tr>\n",
       "  </thead>\n",
       "  <tbody>\n",
       "    <tr>\n",
       "      <th>845681</th>\n",
       "      <td>[i, really, can, not, believe, that, others, h...</td>\n",
       "      <td>[really, believe, others, rated, item, high, w...</td>\n",
       "    </tr>\n",
       "    <tr>\n",
       "      <th>1107550</th>\n",
       "      <td>[yr, old, who, breaks, everything, he, comes, ...</td>\n",
       "      <td>[yr, old, breaks, everything, comes, contact, ...</td>\n",
       "    </tr>\n",
       "    <tr>\n",
       "      <th>672632</th>\n",
       "      <td>[got, these, cups, for, my, sons, th, birthday...</td>\n",
       "      <td>[got, cups, sons, th, birthday, party, pirate,...</td>\n",
       "    </tr>\n",
       "    <tr>\n",
       "      <th>1422772</th>\n",
       "      <td>[it, is, really, small, the, picture, makes, i...</td>\n",
       "      <td>[really, small, picture, makes, look, bigger, ...</td>\n",
       "    </tr>\n",
       "    <tr>\n",
       "      <th>763641</th>\n",
       "      <td>[this, little, dragon, was, absolutely, perfec...</td>\n",
       "      <td>[little, dragon, absolutely, perfect, khaleesi...</td>\n",
       "    </tr>\n",
       "  </tbody>\n",
       "</table>\n",
       "</div>"
      ],
      "text/plain": [
       "                                         reviewText_tokens  \\\n",
       "845681   [i, really, can, not, believe, that, others, h...   \n",
       "1107550  [yr, old, who, breaks, everything, he, comes, ...   \n",
       "672632   [got, these, cups, for, my, sons, th, birthday...   \n",
       "1422772  [it, is, really, small, the, picture, makes, i...   \n",
       "763641   [this, little, dragon, was, absolutely, perfec...   \n",
       "\n",
       "                                   reviewText_no_stopwords  \n",
       "845681   [really, believe, others, rated, item, high, w...  \n",
       "1107550  [yr, old, breaks, everything, comes, contact, ...  \n",
       "672632   [got, cups, sons, th, birthday, party, pirate,...  \n",
       "1422772  [really, small, picture, makes, look, bigger, ...  \n",
       "763641   [little, dragon, absolutely, perfect, khaleesi...  "
      ]
     },
     "execution_count": 31,
     "metadata": {},
     "output_type": "execute_result"
    }
   ],
   "source": [
    "from nltk.corpus import stopwords\n",
    "nltk.download('stopwords')\n",
    "\n",
    "# Remove stop words\n",
    "stop_words = set(stopwords.words('english'))\n",
    "original_dataframe_part['reviewText_no_stopwords'] = original_dataframe_part['reviewText_tokens'].apply(lambda x: [word for word in x if word not in stop_words])\n",
    "original_dataframe_part[['reviewText_tokens', 'reviewText_no_stopwords']].head()"
   ]
  },
  {
   "cell_type": "markdown",
   "id": "498d8fda",
   "metadata": {
    "papermill": {
     "duration": 0.028513,
     "end_time": "2024-12-18T19:36:38.066661",
     "exception": false,
     "start_time": "2024-12-18T19:36:38.038148",
     "status": "completed"
    },
    "tags": []
   },
   "source": [
    "## Combining into a single string"
   ]
  },
  {
   "cell_type": "code",
   "execution_count": 32,
   "id": "d5febf5f",
   "metadata": {
    "execution": {
     "iopub.execute_input": "2024-12-18T19:36:38.126045Z",
     "iopub.status.busy": "2024-12-18T19:36:38.125265Z",
     "iopub.status.idle": "2024-12-18T19:36:38.470498Z",
     "shell.execute_reply": "2024-12-18T19:36:38.469246Z"
    },
    "papermill": {
     "duration": 0.378375,
     "end_time": "2024-12-18T19:36:38.473583",
     "exception": false,
     "start_time": "2024-12-18T19:36:38.095208",
     "status": "completed"
    },
    "tags": []
   },
   "outputs": [
    {
     "data": {
      "text/html": [
       "<div>\n",
       "<style scoped>\n",
       "    .dataframe tbody tr th:only-of-type {\n",
       "        vertical-align: middle;\n",
       "    }\n",
       "\n",
       "    .dataframe tbody tr th {\n",
       "        vertical-align: top;\n",
       "    }\n",
       "\n",
       "    .dataframe thead th {\n",
       "        text-align: right;\n",
       "    }\n",
       "</style>\n",
       "<table border=\"1\" class=\"dataframe\">\n",
       "  <thead>\n",
       "    <tr style=\"text-align: right;\">\n",
       "      <th></th>\n",
       "      <th>reviewText_no_stopwords</th>\n",
       "      <th>combined_reviewText</th>\n",
       "    </tr>\n",
       "  </thead>\n",
       "  <tbody>\n",
       "    <tr>\n",
       "      <th>845681</th>\n",
       "      <td>[really, believe, others, rated, item, high, w...</td>\n",
       "      <td>really believe others rated item high wife got...</td>\n",
       "    </tr>\n",
       "    <tr>\n",
       "      <th>1107550</th>\n",
       "      <td>[yr, old, breaks, everything, comes, contact, ...</td>\n",
       "      <td>yr old breaks everything comes contact unable ...</td>\n",
       "    </tr>\n",
       "    <tr>\n",
       "      <th>672632</th>\n",
       "      <td>[got, cups, sons, th, birthday, party, pirate,...</td>\n",
       "      <td>got cups sons th birthday party pirate themedc...</td>\n",
       "    </tr>\n",
       "    <tr>\n",
       "      <th>1422772</th>\n",
       "      <td>[really, small, picture, makes, look, bigger, ...</td>\n",
       "      <td>really small picture makes look bigger daughte...</td>\n",
       "    </tr>\n",
       "    <tr>\n",
       "      <th>763641</th>\n",
       "      <td>[little, dragon, absolutely, perfect, khaleesi...</td>\n",
       "      <td>little dragon absolutely perfect khaleesi hall...</td>\n",
       "    </tr>\n",
       "  </tbody>\n",
       "</table>\n",
       "</div>"
      ],
      "text/plain": [
       "                                   reviewText_no_stopwords  \\\n",
       "845681   [really, believe, others, rated, item, high, w...   \n",
       "1107550  [yr, old, breaks, everything, comes, contact, ...   \n",
       "672632   [got, cups, sons, th, birthday, party, pirate,...   \n",
       "1422772  [really, small, picture, makes, look, bigger, ...   \n",
       "763641   [little, dragon, absolutely, perfect, khaleesi...   \n",
       "\n",
       "                                       combined_reviewText  \n",
       "845681   really believe others rated item high wife got...  \n",
       "1107550  yr old breaks everything comes contact unable ...  \n",
       "672632   got cups sons th birthday party pirate themedc...  \n",
       "1422772  really small picture makes look bigger daughte...  \n",
       "763641   little dragon absolutely perfect khaleesi hall...  "
      ]
     },
     "execution_count": 32,
     "metadata": {},
     "output_type": "execute_result"
    }
   ],
   "source": [
    "# Join words back into a single string\n",
    "original_dataframe_part['combined_reviewText'] = original_dataframe_part['reviewText_no_stopwords'].apply(lambda x: ' '.join(x))\n",
    "original_dataframe_part[['reviewText_no_stopwords', 'combined_reviewText']].head()"
   ]
  },
  {
   "cell_type": "markdown",
   "id": "44f90ddb",
   "metadata": {
    "papermill": {
     "duration": 0.051264,
     "end_time": "2024-12-18T19:36:38.576673",
     "exception": false,
     "start_time": "2024-12-18T19:36:38.525409",
     "status": "completed"
    },
    "tags": []
   },
   "source": [
    "## Stemming/Lemmatization"
   ]
  },
  {
   "cell_type": "markdown",
   "id": "c9197789",
   "metadata": {
    "papermill": {
     "duration": 0.044233,
     "end_time": "2024-12-18T19:36:38.673229",
     "exception": false,
     "start_time": "2024-12-18T19:36:38.628996",
     "status": "completed"
    },
    "tags": []
   },
   "source": [
    "**Stemming and lemmatization are text preprocessing techniques in natural language processing (NLP) that reduce the inflected forms of words to a common root word. Example, 'running', 'runnable' all are modified into the root word i.e. 'run'.**"
   ]
  },
  {
   "cell_type": "code",
   "execution_count": 33,
   "id": "bea463e9",
   "metadata": {
    "execution": {
     "iopub.execute_input": "2024-12-18T19:36:38.735899Z",
     "iopub.status.busy": "2024-12-18T19:36:38.735402Z",
     "iopub.status.idle": "2024-12-18T20:00:45.888596Z",
     "shell.execute_reply": "2024-12-18T20:00:45.887172Z"
    },
    "papermill": {
     "duration": 1447.225031,
     "end_time": "2024-12-18T20:00:45.927782",
     "exception": false,
     "start_time": "2024-12-18T19:36:38.702751",
     "status": "completed"
    },
    "tags": []
   },
   "outputs": [
    {
     "data": {
      "text/html": [
       "<div>\n",
       "<style scoped>\n",
       "    .dataframe tbody tr th:only-of-type {\n",
       "        vertical-align: middle;\n",
       "    }\n",
       "\n",
       "    .dataframe tbody tr th {\n",
       "        vertical-align: top;\n",
       "    }\n",
       "\n",
       "    .dataframe thead th {\n",
       "        text-align: right;\n",
       "    }\n",
       "</style>\n",
       "<table border=\"1\" class=\"dataframe\">\n",
       "  <thead>\n",
       "    <tr style=\"text-align: right;\">\n",
       "      <th></th>\n",
       "      <th>combined_reviewText</th>\n",
       "      <th>cleaned_reviewText</th>\n",
       "    </tr>\n",
       "  </thead>\n",
       "  <tbody>\n",
       "    <tr>\n",
       "      <th>845681</th>\n",
       "      <td>really believe others rated item high wife got...</td>\n",
       "      <td>believe rate item high wife get christmas ok p...</td>\n",
       "    </tr>\n",
       "    <tr>\n",
       "      <th>1107550</th>\n",
       "      <td>yr old breaks everything comes contact unable ...</td>\n",
       "      <td>yr old break come contact unable destroy spide...</td>\n",
       "    </tr>\n",
       "    <tr>\n",
       "      <th>672632</th>\n",
       "      <td>got cups sons th birthday party pirate themedc...</td>\n",
       "      <td>get cup son th birthday party pirate themedcou...</td>\n",
       "    </tr>\n",
       "    <tr>\n",
       "      <th>1422772</th>\n",
       "      <td>really small picture makes look bigger daughte...</td>\n",
       "      <td>small picture make look big daughter love cute...</td>\n",
       "    </tr>\n",
       "    <tr>\n",
       "      <th>763641</th>\n",
       "      <td>little dragon absolutely perfect khaleesi hall...</td>\n",
       "      <td>little dragon absolutely perfect khaleesi hall...</td>\n",
       "    </tr>\n",
       "  </tbody>\n",
       "</table>\n",
       "</div>"
      ],
      "text/plain": [
       "                                       combined_reviewText  \\\n",
       "845681   really believe others rated item high wife got...   \n",
       "1107550  yr old breaks everything comes contact unable ...   \n",
       "672632   got cups sons th birthday party pirate themedc...   \n",
       "1422772  really small picture makes look bigger daughte...   \n",
       "763641   little dragon absolutely perfect khaleesi hall...   \n",
       "\n",
       "                                        cleaned_reviewText  \n",
       "845681   believe rate item high wife get christmas ok p...  \n",
       "1107550  yr old break come contact unable destroy spide...  \n",
       "672632   get cup son th birthday party pirate themedcou...  \n",
       "1422772  small picture make look big daughter love cute...  \n",
       "763641   little dragon absolutely perfect khaleesi hall...  "
      ]
     },
     "execution_count": 33,
     "metadata": {},
     "output_type": "execute_result"
    }
   ],
   "source": [
    "import spacy\n",
    "\n",
    "# Load spaCy model\n",
    "nlp = spacy.load('en_core_web_sm')\n",
    "\n",
    "# Function to preprocess and lemmatize text\n",
    "def preprocess_and_lemmatize(text):\n",
    "    # Process the text with spaCy\n",
    "    doc = nlp(text)\n",
    "    \n",
    "    # Lemmatize and remove stop words and punctuation\n",
    "    tokens = [token.lemma_ for token in doc if not token.is_stop and not token.is_punct]\n",
    "    \n",
    "    return ' '.join(tokens)\n",
    "\n",
    "# Apply preprocessing and lemmatization\n",
    "original_dataframe_part['cleaned_reviewText'] = original_dataframe_part['combined_reviewText'].apply(preprocess_and_lemmatize)\n",
    "\n",
    "# Show the first few rows\n",
    "original_dataframe_part[['combined_reviewText', 'cleaned_reviewText']].head()\n"
   ]
  },
  {
   "cell_type": "markdown",
   "id": "d8c7903e",
   "metadata": {
    "papermill": {
     "duration": 0.029198,
     "end_time": "2024-12-18T20:00:45.987297",
     "exception": false,
     "start_time": "2024-12-18T20:00:45.958099",
     "status": "completed"
    },
    "tags": []
   },
   "source": [
    "## Dropping out unnecessary columns 1"
   ]
  },
  {
   "cell_type": "code",
   "execution_count": 34,
   "id": "12b72085",
   "metadata": {
    "execution": {
     "iopub.execute_input": "2024-12-18T20:00:46.051464Z",
     "iopub.status.busy": "2024-12-18T20:00:46.050501Z",
     "iopub.status.idle": "2024-12-18T20:00:46.223917Z",
     "shell.execute_reply": "2024-12-18T20:00:46.222876Z"
    },
    "papermill": {
     "duration": 0.207852,
     "end_time": "2024-12-18T20:00:46.226412",
     "exception": false,
     "start_time": "2024-12-18T20:00:46.018560",
     "status": "completed"
    },
    "tags": []
   },
   "outputs": [],
   "source": [
    "columns_to_drop = ['reviewText_lower', 'reviewText_expanded', 'reviewText_no_punct', 'reviewText_no_numbers', 'reviewText_clean', 'reviewText_tokens', 'reviewText_no_stopwords', 'combined_reviewText']\n",
    "original_dataframe_part.drop(columns=columns_to_drop, inplace=True)"
   ]
  },
  {
   "cell_type": "markdown",
   "id": "2bf3ae27",
   "metadata": {
    "papermill": {
     "duration": 0.028633,
     "end_time": "2024-12-18T20:00:46.285008",
     "exception": false,
     "start_time": "2024-12-18T20:00:46.256375",
     "status": "completed"
    },
    "tags": []
   },
   "source": [
    "# Exploratory Data Analysis (EDA) Part II"
   ]
  },
  {
   "cell_type": "markdown",
   "id": "a79693d7",
   "metadata": {
    "papermill": {
     "duration": 0.029647,
     "end_time": "2024-12-18T20:00:46.344253",
     "exception": false,
     "start_time": "2024-12-18T20:00:46.314606",
     "status": "completed"
    },
    "tags": []
   },
   "source": [
    "## Visualizing Word Frequencies"
   ]
  },
  {
   "cell_type": "code",
   "execution_count": 35,
   "id": "b6a5c6f9",
   "metadata": {
    "execution": {
     "iopub.execute_input": "2024-12-18T20:00:46.404810Z",
     "iopub.status.busy": "2024-12-18T20:00:46.404392Z",
     "iopub.status.idle": "2024-12-18T20:01:33.713800Z",
     "shell.execute_reply": "2024-12-18T20:01:33.712197Z"
    },
    "papermill": {
     "duration": 47.380439,
     "end_time": "2024-12-18T20:01:33.753933",
     "exception": false,
     "start_time": "2024-12-18T20:00:46.373494",
     "status": "completed"
    },
    "tags": []
   },
   "outputs": [
    {
     "data": {
      "image/png": "[encoded data removed]",
      "text/plain": [
       "<Figure size 1000x500 with 1 Axes>"
      ]
     },
     "metadata": {},
     "output_type": "display_data"
    }
   ],
   "source": [
    "from wordcloud import WordCloud\n",
    "import matplotlib.pyplot as plt\n",
    "\n",
    "# Create a single string of all lemmatized reviews\n",
    "all_lemmatized_text = ' '.join(original_dataframe_part['cleaned_reviewText'].apply(lambda x: ' '.join(x)))\n",
    "\n",
    "# Generate the word cloud\n",
    "wordcloud = WordCloud(width=800, height=400, background_color='white').generate(all_lemmatized_text)\n",
    "\n",
    "# Display the word cloud\n",
    "plt.figure(figsize=(10, 5))\n",
    "plt.imshow(wordcloud, interpolation='bilinear')\n",
    "plt.axis('off')\n",
    "plt.title('Word Cloud of Lemmatized Text')\n",
    "plt.show()\n"
   ]
  },
  {
   "cell_type": "markdown",
   "id": "bc8291a3",
   "metadata": {
    "papermill": {
     "duration": 0.035148,
     "end_time": "2024-12-18T20:01:33.824644",
     "exception": false,
     "start_time": "2024-12-18T20:01:33.789496",
     "status": "completed"
    },
    "tags": []
   },
   "source": [
    "## Plotting Review Length Distribution"
   ]
  },
  {
   "cell_type": "code",
   "execution_count": 36,
   "id": "fbd8f226",
   "metadata": {
    "execution": {
     "iopub.execute_input": "2024-12-18T20:01:33.895967Z",
     "iopub.status.busy": "2024-12-18T20:01:33.895321Z",
     "iopub.status.idle": "2024-12-18T20:01:33.916063Z",
     "shell.execute_reply": "2024-12-18T20:01:33.914818Z"
    },
    "papermill": {
     "duration": 0.059439,
     "end_time": "2024-12-18T20:01:33.918610",
     "exception": false,
     "start_time": "2024-12-18T20:01:33.859171",
     "status": "completed"
    },
    "tags": []
   },
   "outputs": [
    {
     "data": {
      "text/html": [
       "<div>\n",
       "<style scoped>\n",
       "    .dataframe tbody tr th:only-of-type {\n",
       "        vertical-align: middle;\n",
       "    }\n",
       "\n",
       "    .dataframe tbody tr th {\n",
       "        vertical-align: top;\n",
       "    }\n",
       "\n",
       "    .dataframe thead th {\n",
       "        text-align: right;\n",
       "    }\n",
       "</style>\n",
       "<table border=\"1\" class=\"dataframe\">\n",
       "  <thead>\n",
       "    <tr style=\"text-align: right;\">\n",
       "      <th></th>\n",
       "      <th>asin</th>\n",
       "      <th>helpful</th>\n",
       "      <th>reviewText</th>\n",
       "      <th>overall</th>\n",
       "      <th>unixReviewTime</th>\n",
       "      <th>category</th>\n",
       "      <th>class</th>\n",
       "      <th>reviewLength</th>\n",
       "      <th>helpfulRatio</th>\n",
       "      <th>wordCount</th>\n",
       "      <th>avgWordLength</th>\n",
       "      <th>sentiment</th>\n",
       "      <th>review_year</th>\n",
       "      <th>review_month</th>\n",
       "      <th>review_day</th>\n",
       "      <th>review_day_of_week</th>\n",
       "      <th>cleaned_reviewText</th>\n",
       "    </tr>\n",
       "  </thead>\n",
       "  <tbody>\n",
       "    <tr>\n",
       "      <th>845681</th>\n",
       "      <td>B002BIRM2S</td>\n",
       "      <td>[2, 2]</td>\n",
       "      <td>I really can't believe that others have rated ...</td>\n",
       "      <td>2</td>\n",
       "      <td>1388361600</td>\n",
       "      <td>Toys_and_Games</td>\n",
       "      <td>0</td>\n",
       "      <td>1010</td>\n",
       "      <td>1.0</td>\n",
       "      <td>204</td>\n",
       "      <td>3.955882</td>\n",
       "      <td>0.4320</td>\n",
       "      <td>2013</td>\n",
       "      <td>12</td>\n",
       "      <td>30</td>\n",
       "      <td>0</td>\n",
       "      <td>believe rate item high wife get christmas ok p...</td>\n",
       "    </tr>\n",
       "    <tr>\n",
       "      <th>1107550</th>\n",
       "      <td>B003YZ97TS</td>\n",
       "      <td>[0, 0]</td>\n",
       "      <td>3 Yr old who breaks everything he comes into c...</td>\n",
       "      <td>5</td>\n",
       "      <td>1357516800</td>\n",
       "      <td>Toys_and_Games</td>\n",
       "      <td>1</td>\n",
       "      <td>306</td>\n",
       "      <td>0.0</td>\n",
       "      <td>56</td>\n",
       "      <td>4.410714</td>\n",
       "      <td>0.9774</td>\n",
       "      <td>2013</td>\n",
       "      <td>1</td>\n",
       "      <td>7</td>\n",
       "      <td>0</td>\n",
       "      <td>yr old break come contact unable destroy spide...</td>\n",
       "    </tr>\n",
       "    <tr>\n",
       "      <th>672632</th>\n",
       "      <td>B0019IF0BG</td>\n",
       "      <td>[0, 0]</td>\n",
       "      <td>got these cups for my sons 4th birthday party ...</td>\n",
       "      <td>4</td>\n",
       "      <td>1360540800</td>\n",
       "      <td>Toys_and_Games</td>\n",
       "      <td>1</td>\n",
       "      <td>222</td>\n",
       "      <td>0.0</td>\n",
       "      <td>42</td>\n",
       "      <td>4.309524</td>\n",
       "      <td>0.9399</td>\n",
       "      <td>2013</td>\n",
       "      <td>2</td>\n",
       "      <td>11</td>\n",
       "      <td>0</td>\n",
       "      <td>get cup son th birthday party pirate themedcou...</td>\n",
       "    </tr>\n",
       "    <tr>\n",
       "      <th>1422772</th>\n",
       "      <td>B005V4IIRW</td>\n",
       "      <td>[0, 0]</td>\n",
       "      <td>It's REALLY small. The picture makes it look b...</td>\n",
       "      <td>3</td>\n",
       "      <td>1386633600</td>\n",
       "      <td>Toys_and_Games</td>\n",
       "      <td>0</td>\n",
       "      <td>120</td>\n",
       "      <td>0.0</td>\n",
       "      <td>23</td>\n",
       "      <td>4.260870</td>\n",
       "      <td>0.8819</td>\n",
       "      <td>2013</td>\n",
       "      <td>12</td>\n",
       "      <td>10</td>\n",
       "      <td>1</td>\n",
       "      <td>small picture make look big daughter love cute...</td>\n",
       "    </tr>\n",
       "    <tr>\n",
       "      <th>763641</th>\n",
       "      <td>B001Q0VECQ</td>\n",
       "      <td>[0, 0]</td>\n",
       "      <td>This little dragon was absolutely perfect for ...</td>\n",
       "      <td>5</td>\n",
       "      <td>1385942400</td>\n",
       "      <td>Toys_and_Games</td>\n",
       "      <td>1</td>\n",
       "      <td>184</td>\n",
       "      <td>0.0</td>\n",
       "      <td>31</td>\n",
       "      <td>4.903226</td>\n",
       "      <td>0.8122</td>\n",
       "      <td>2013</td>\n",
       "      <td>12</td>\n",
       "      <td>2</td>\n",
       "      <td>0</td>\n",
       "      <td>little dragon absolutely perfect khaleesi hall...</td>\n",
       "    </tr>\n",
       "  </tbody>\n",
       "</table>\n",
       "</div>"
      ],
      "text/plain": [
       "               asin helpful  \\\n",
       "845681   B002BIRM2S  [2, 2]   \n",
       "1107550  B003YZ97TS  [0, 0]   \n",
       "672632   B0019IF0BG  [0, 0]   \n",
       "1422772  B005V4IIRW  [0, 0]   \n",
       "763641   B001Q0VECQ  [0, 0]   \n",
       "\n",
       "                                                reviewText  overall  \\\n",
       "845681   I really can't believe that others have rated ...        2   \n",
       "1107550  3 Yr old who breaks everything he comes into c...        5   \n",
       "672632   got these cups for my sons 4th birthday party ...        4   \n",
       "1422772  It's REALLY small. The picture makes it look b...        3   \n",
       "763641   This little dragon was absolutely perfect for ...        5   \n",
       "\n",
       "         unixReviewTime        category  class  reviewLength  helpfulRatio  \\\n",
       "845681       1388361600  Toys_and_Games      0          1010           1.0   \n",
       "1107550      1357516800  Toys_and_Games      1           306           0.0   \n",
       "672632       1360540800  Toys_and_Games      1           222           0.0   \n",
       "1422772      1386633600  Toys_and_Games      0           120           0.0   \n",
       "763641       1385942400  Toys_and_Games      1           184           0.0   \n",
       "\n",
       "         wordCount  avgWordLength  sentiment  review_year  review_month  \\\n",
       "845681         204       3.955882     0.4320         2013            12   \n",
       "1107550         56       4.410714     0.9774         2013             1   \n",
       "672632          42       4.309524     0.9399         2013             2   \n",
       "1422772         23       4.260870     0.8819         2013            12   \n",
       "763641          31       4.903226     0.8122         2013            12   \n",
       "\n",
       "         review_day  review_day_of_week  \\\n",
       "845681           30                   0   \n",
       "1107550           7                   0   \n",
       "672632           11                   0   \n",
       "1422772          10                   1   \n",
       "763641            2                   0   \n",
       "\n",
       "                                        cleaned_reviewText  \n",
       "845681   believe rate item high wife get christmas ok p...  \n",
       "1107550  yr old break come contact unable destroy spide...  \n",
       "672632   get cup son th birthday party pirate themedcou...  \n",
       "1422772  small picture make look big daughter love cute...  \n",
       "763641   little dragon absolutely perfect khaleesi hall...  "
      ]
     },
     "execution_count": 36,
     "metadata": {},
     "output_type": "execute_result"
    }
   ],
   "source": [
    "original_dataframe_part.head()"
   ]
  },
  {
   "cell_type": "code",
   "execution_count": 37,
   "id": "951af9a3",
   "metadata": {
    "execution": {
     "iopub.execute_input": "2024-12-18T20:01:33.991300Z",
     "iopub.status.busy": "2024-12-18T20:01:33.990863Z",
     "iopub.status.idle": "2024-12-18T20:01:35.157393Z",
     "shell.execute_reply": "2024-12-18T20:01:35.156178Z"
    },
    "papermill": {
     "duration": 1.206851,
     "end_time": "2024-12-18T20:01:35.159935",
     "exception": false,
     "start_time": "2024-12-18T20:01:33.953084",
     "status": "completed"
    },
    "tags": []
   },
   "outputs": [
    {
     "name": "stderr",
     "output_type": "stream",
     "text": [
      "/opt/conda/lib/python3.10/site-packages/seaborn/_oldcore.py:1119: FutureWarning: use_inf_as_na option is deprecated and will be removed in a future version. Convert inf values to NaN before operating instead.\n",
      "  with pd.option_context('mode.use_inf_as_na', True):\n"
     ]
    },
    {
     "data": {
      "image/png": "[encoded data removed]",
      "text/plain": [
       "<Figure size 1000x600 with 1 Axes>"
      ]
     },
     "metadata": {},
     "output_type": "display_data"
    }
   ],
   "source": [
    "# Calculate the length of each review\n",
    "original_dataframe_part['review_length'] = original_dataframe_part['cleaned_reviewText'].apply(len)\n",
    "\n",
    "# Plot the distribution of review lengths\n",
    "plt.figure(figsize=(10, 6))\n",
    "sns.histplot(original_dataframe_part['review_length'], bins=30, kde=True )\n",
    "plt.title('Distribution of Review Lengths')\n",
    "plt.xlabel('Number of Letters')\n",
    "plt.ylabel('Frequency')\n",
    "plt.show()\n"
   ]
  },
  {
   "cell_type": "markdown",
   "id": "0296d336",
   "metadata": {
    "papermill": {
     "duration": 0.039606,
     "end_time": "2024-12-18T20:01:35.238083",
     "exception": false,
     "start_time": "2024-12-18T20:01:35.198477",
     "status": "completed"
    },
    "tags": []
   },
   "source": [
    "**From this we see that the reviews of small length are more in number while reviews of large length are few**"
   ]
  },
  {
   "cell_type": "markdown",
   "id": "8f6121ff",
   "metadata": {
    "papermill": {
     "duration": 0.03861,
     "end_time": "2024-12-18T20:01:35.318470",
     "exception": false,
     "start_time": "2024-12-18T20:01:35.279860",
     "status": "completed"
    },
    "tags": []
   },
   "source": [
    "# Feature Engineering Part-II"
   ]
  },
  {
   "cell_type": "markdown",
   "id": "56aa7db5",
   "metadata": {
    "papermill": {
     "duration": 0.037012,
     "end_time": "2024-12-18T20:01:35.391351",
     "exception": false,
     "start_time": "2024-12-18T20:01:35.354339",
     "status": "completed"
    },
    "tags": []
   },
   "source": [
    "## Sentiment Labeling"
   ]
  },
  {
   "cell_type": "code",
   "execution_count": 38,
   "id": "b64c94b8",
   "metadata": {
    "execution": {
     "iopub.execute_input": "2024-12-18T20:01:35.469402Z",
     "iopub.status.busy": "2024-12-18T20:01:35.468949Z",
     "iopub.status.idle": "2024-12-18T20:01:35.531059Z",
     "shell.execute_reply": "2024-12-18T20:01:35.528204Z"
    },
    "papermill": {
     "duration": 0.106181,
     "end_time": "2024-12-18T20:01:35.534046",
     "exception": false,
     "start_time": "2024-12-18T20:01:35.427865",
     "status": "completed"
    },
    "tags": []
   },
   "outputs": [
    {
     "data": {
      "text/html": [
       "<div>\n",
       "<style scoped>\n",
       "    .dataframe tbody tr th:only-of-type {\n",
       "        vertical-align: middle;\n",
       "    }\n",
       "\n",
       "    .dataframe tbody tr th {\n",
       "        vertical-align: top;\n",
       "    }\n",
       "\n",
       "    .dataframe thead th {\n",
       "        text-align: right;\n",
       "    }\n",
       "</style>\n",
       "<table border=\"1\" class=\"dataframe\">\n",
       "  <thead>\n",
       "    <tr style=\"text-align: right;\">\n",
       "      <th></th>\n",
       "      <th>sentiment</th>\n",
       "      <th>sentimentLabel</th>\n",
       "    </tr>\n",
       "  </thead>\n",
       "  <tbody>\n",
       "    <tr>\n",
       "      <th>845681</th>\n",
       "      <td>0.4320</td>\n",
       "      <td>positive</td>\n",
       "    </tr>\n",
       "    <tr>\n",
       "      <th>1107550</th>\n",
       "      <td>0.9774</td>\n",
       "      <td>positive</td>\n",
       "    </tr>\n",
       "    <tr>\n",
       "      <th>672632</th>\n",
       "      <td>0.9399</td>\n",
       "      <td>positive</td>\n",
       "    </tr>\n",
       "    <tr>\n",
       "      <th>1422772</th>\n",
       "      <td>0.8819</td>\n",
       "      <td>positive</td>\n",
       "    </tr>\n",
       "    <tr>\n",
       "      <th>763641</th>\n",
       "      <td>0.8122</td>\n",
       "      <td>positive</td>\n",
       "    </tr>\n",
       "  </tbody>\n",
       "</table>\n",
       "</div>"
      ],
      "text/plain": [
       "         sentiment sentimentLabel\n",
       "845681      0.4320       positive\n",
       "1107550     0.9774       positive\n",
       "672632      0.9399       positive\n",
       "1422772     0.8819       positive\n",
       "763641      0.8122       positive"
      ]
     },
     "execution_count": 38,
     "metadata": {},
     "output_type": "execute_result"
    }
   ],
   "source": [
    "# Labeling reviews based on compound sentiment score\n",
    "def sentiment_label(score):\n",
    "    if score >= 0.05:\n",
    "        return 'positive'\n",
    "    elif score <= -0.05:\n",
    "        return 'negative'\n",
    "    else:\n",
    "        return 'neutral'\n",
    "\n",
    "# Apply sentiment labeling\n",
    "original_dataframe_part['sentimentLabel'] = original_dataframe_part['sentiment'].apply(sentiment_label)\n",
    "original_dataframe_part[['sentiment', 'sentimentLabel']].head()"
   ]
  },
  {
   "cell_type": "markdown",
   "id": "017384e9",
   "metadata": {
    "papermill": {
     "duration": 0.037767,
     "end_time": "2024-12-18T20:01:35.612364",
     "exception": false,
     "start_time": "2024-12-18T20:01:35.574597",
     "status": "completed"
    },
    "tags": []
   },
   "source": [
    "**This is a categorical variable and will be converted into numerical classes later for ML model to understand it easily**"
   ]
  },
  {
   "cell_type": "markdown",
   "id": "01af1603",
   "metadata": {
    "papermill": {
     "duration": 0.038703,
     "end_time": "2024-12-18T20:01:35.688205",
     "exception": false,
     "start_time": "2024-12-18T20:01:35.649502",
     "status": "completed"
    },
    "tags": []
   },
   "source": [
    "## Text Vectorization"
   ]
  },
  {
   "cell_type": "markdown",
   "id": "3dea6f8d",
   "metadata": {
    "papermill": {
     "duration": 0.038696,
     "end_time": "2024-12-18T20:01:35.766328",
     "exception": false,
     "start_time": "2024-12-18T20:01:35.727632",
     "status": "completed"
    },
    "tags": []
   },
   "source": [
    "**Checking for NAN values.**"
   ]
  },
  {
   "cell_type": "code",
   "execution_count": 39,
   "id": "27c5044c",
   "metadata": {
    "execution": {
     "iopub.execute_input": "2024-12-18T20:01:35.841058Z",
     "iopub.status.busy": "2024-12-18T20:01:35.840649Z",
     "iopub.status.idle": "2024-12-18T20:01:35.929722Z",
     "shell.execute_reply": "2024-12-18T20:01:35.928245Z"
    },
    "papermill": {
     "duration": 0.131081,
     "end_time": "2024-12-18T20:01:35.932691",
     "exception": false,
     "start_time": "2024-12-18T20:01:35.801610",
     "status": "completed"
    },
    "tags": []
   },
   "outputs": [
    {
     "name": "stdout",
     "output_type": "stream",
     "text": [
      "0\n",
      "10\n"
     ]
    }
   ],
   "source": [
    "print(original_dataframe_part['cleaned_reviewText'].isna().sum())\n",
    "print(original_dataframe_part['cleaned_reviewText'].apply(lambda x: len(x) == 0).sum())"
   ]
  },
  {
   "cell_type": "markdown",
   "id": "d0355bcd",
   "metadata": {
    "papermill": {
     "duration": 0.038754,
     "end_time": "2024-12-18T20:01:36.008501",
     "exception": false,
     "start_time": "2024-12-18T20:01:35.969747",
     "status": "completed"
    },
    "tags": []
   },
   "source": [
    "**Removing the found value.**"
   ]
  },
  {
   "cell_type": "code",
   "execution_count": 40,
   "id": "7bcdb88e",
   "metadata": {
    "execution": {
     "iopub.execute_input": "2024-12-18T20:01:36.174927Z",
     "iopub.status.busy": "2024-12-18T20:01:36.174504Z",
     "iopub.status.idle": "2024-12-18T20:01:36.636202Z",
     "shell.execute_reply": "2024-12-18T20:01:36.634884Z"
    },
    "papermill": {
     "duration": 0.501524,
     "end_time": "2024-12-18T20:01:36.638754",
     "exception": false,
     "start_time": "2024-12-18T20:01:36.137230",
     "status": "completed"
    },
    "tags": []
   },
   "outputs": [],
   "source": [
    "original_dataframe_part = original_dataframe_part[original_dataframe_part['cleaned_reviewText'].apply(lambda x: len(x) > 0)]\n",
    "original_dataframe_part = original_dataframe_part.dropna(subset=['cleaned_reviewText'])"
   ]
  },
  {
   "cell_type": "code",
   "execution_count": 41,
   "id": "f04cdc52",
   "metadata": {
    "execution": {
     "iopub.execute_input": "2024-12-18T20:01:36.719609Z",
     "iopub.status.busy": "2024-12-18T20:01:36.719188Z",
     "iopub.status.idle": "2024-12-18T20:01:36.810137Z",
     "shell.execute_reply": "2024-12-18T20:01:36.808736Z"
    },
    "papermill": {
     "duration": 0.136056,
     "end_time": "2024-12-18T20:01:36.813348",
     "exception": false,
     "start_time": "2024-12-18T20:01:36.677292",
     "status": "completed"
    },
    "tags": []
   },
   "outputs": [
    {
     "name": "stdout",
     "output_type": "stream",
     "text": [
      "0\n",
      "0\n"
     ]
    }
   ],
   "source": [
    "print(original_dataframe_part['cleaned_reviewText'].isna().sum())\n",
    "print(original_dataframe_part['cleaned_reviewText'].apply(lambda x: len(x) == 0).sum())"
   ]
  },
  {
   "cell_type": "markdown",
   "id": "fc908daf",
   "metadata": {
    "papermill": {
     "duration": 0.037773,
     "end_time": "2024-12-18T20:01:36.891801",
     "exception": false,
     "start_time": "2024-12-18T20:01:36.854028",
     "status": "completed"
    },
    "tags": []
   },
   "source": [
    "**Verifing Text Lengths.**"
   ]
  },
  {
   "cell_type": "code",
   "execution_count": 42,
   "id": "8897c838",
   "metadata": {
    "execution": {
     "iopub.execute_input": "2024-12-18T20:01:36.968727Z",
     "iopub.status.busy": "2024-12-18T20:01:36.968326Z",
     "iopub.status.idle": "2024-12-18T20:01:37.053302Z",
     "shell.execute_reply": "2024-12-18T20:01:37.051534Z"
    },
    "papermill": {
     "duration": 0.12835,
     "end_time": "2024-12-18T20:01:37.057077",
     "exception": false,
     "start_time": "2024-12-18T20:01:36.928727",
     "status": "completed"
    },
    "tags": []
   },
   "outputs": [
    {
     "name": "stdout",
     "output_type": "stream",
     "text": [
      "count    159990.000000\n",
      "mean        169.738509\n",
      "std         215.295039\n",
      "min           2.000000\n",
      "25%          69.000000\n",
      "50%         105.000000\n",
      "75%         189.000000\n",
      "max       10275.000000\n",
      "Name: text_length, dtype: float64\n"
     ]
    }
   ],
   "source": [
    "original_dataframe_part['text_length'] = original_dataframe_part['cleaned_reviewText'].apply(len)\n",
    "print(original_dataframe_part['text_length'].describe())"
   ]
  },
  {
   "cell_type": "markdown",
   "id": "386f6c9a",
   "metadata": {
    "papermill": {
     "duration": 0.035295,
     "end_time": "2024-12-18T20:01:37.129181",
     "exception": false,
     "start_time": "2024-12-18T20:01:37.093886",
     "status": "completed"
    },
    "tags": []
   },
   "source": [
    "**Applying TF-IDF Vectorization.**"
   ]
  },
  {
   "cell_type": "code",
   "execution_count": 43,
   "id": "64742422",
   "metadata": {
    "execution": {
     "iopub.execute_input": "2024-12-18T20:01:37.203273Z",
     "iopub.status.busy": "2024-12-18T20:01:37.202805Z",
     "iopub.status.idle": "2024-12-18T20:01:41.995395Z",
     "shell.execute_reply": "2024-12-18T20:01:41.994244Z"
    },
    "papermill": {
     "duration": 4.832753,
     "end_time": "2024-12-18T20:01:41.998226",
     "exception": false,
     "start_time": "2024-12-18T20:01:37.165473",
     "status": "completed"
    },
    "tags": []
   },
   "outputs": [
    {
     "name": "stdout",
     "output_type": "stream",
     "text": [
      "(159990, 2000)\n"
     ]
    }
   ],
   "source": [
    "from sklearn.feature_extraction.text import TfidfVectorizer\n",
    "\n",
    "# Initialize the TF-IDF Vectorizer\n",
    "tfidf_vectorizer = TfidfVectorizer(max_features=2000, max_df=0.8)\n",
    "\n",
    "# Fit and transform the text data\n",
    "X = tfidf_vectorizer.fit_transform(original_dataframe_part['cleaned_reviewText'])\n",
    "\n",
    "# View the shape of the transformed data\n",
    "print(X.shape)"
   ]
  },
  {
   "cell_type": "markdown",
   "id": "8ceeb3c1",
   "metadata": {
    "papermill": {
     "duration": 0.037053,
     "end_time": "2024-12-18T20:01:42.072038",
     "exception": false,
     "start_time": "2024-12-18T20:01:42.034985",
     "status": "completed"
    },
    "tags": []
   },
   "source": [
    "**Note that 'X' is a sparse matrix and should be converted into a dense matrix for viewing.**"
   ]
  },
  {
   "cell_type": "code",
   "execution_count": 44,
   "id": "f581f9fc",
   "metadata": {
    "execution": {
     "iopub.execute_input": "2024-12-18T20:01:42.145576Z",
     "iopub.status.busy": "2024-12-18T20:01:42.145184Z",
     "iopub.status.idle": "2024-12-18T20:01:46.333347Z",
     "shell.execute_reply": "2024-12-18T20:01:46.331967Z"
    },
    "papermill": {
     "duration": 4.228193,
     "end_time": "2024-12-18T20:01:46.335760",
     "exception": false,
     "start_time": "2024-12-18T20:01:42.107567",
     "status": "completed"
    },
    "tags": []
   },
   "outputs": [
    {
     "data": {
      "text/html": [
       "<div>\n",
       "<style scoped>\n",
       "    .dataframe tbody tr th:only-of-type {\n",
       "        vertical-align: middle;\n",
       "    }\n",
       "\n",
       "    .dataframe tbody tr th {\n",
       "        vertical-align: top;\n",
       "    }\n",
       "\n",
       "    .dataframe thead th {\n",
       "        text-align: right;\n",
       "    }\n",
       "</style>\n",
       "<table border=\"1\" class=\"dataframe\">\n",
       "  <thead>\n",
       "    <tr style=\"text-align: right;\">\n",
       "      <th></th>\n",
       "      <th>0</th>\n",
       "      <th>1</th>\n",
       "      <th>2</th>\n",
       "      <th>3</th>\n",
       "      <th>4</th>\n",
       "      <th>5</th>\n",
       "      <th>6</th>\n",
       "      <th>7</th>\n",
       "      <th>8</th>\n",
       "      <th>9</th>\n",
       "      <th>...</th>\n",
       "      <th>1990</th>\n",
       "      <th>1991</th>\n",
       "      <th>1992</th>\n",
       "      <th>1993</th>\n",
       "      <th>1994</th>\n",
       "      <th>1995</th>\n",
       "      <th>1996</th>\n",
       "      <th>1997</th>\n",
       "      <th>1998</th>\n",
       "      <th>1999</th>\n",
       "    </tr>\n",
       "  </thead>\n",
       "  <tbody>\n",
       "    <tr>\n",
       "      <th>0</th>\n",
       "      <td>0.0</td>\n",
       "      <td>0.0</td>\n",
       "      <td>0.000000</td>\n",
       "      <td>0.0</td>\n",
       "      <td>0.000000</td>\n",
       "      <td>0.0</td>\n",
       "      <td>0.0</td>\n",
       "      <td>0.0</td>\n",
       "      <td>0.0</td>\n",
       "      <td>0.0</td>\n",
       "      <td>...</td>\n",
       "      <td>0.0</td>\n",
       "      <td>0.0</td>\n",
       "      <td>0.0</td>\n",
       "      <td>0.0</td>\n",
       "      <td>0.0</td>\n",
       "      <td>0.000000</td>\n",
       "      <td>0.0</td>\n",
       "      <td>0.0</td>\n",
       "      <td>0.0</td>\n",
       "      <td>0.0</td>\n",
       "    </tr>\n",
       "    <tr>\n",
       "      <th>1</th>\n",
       "      <td>0.0</td>\n",
       "      <td>0.0</td>\n",
       "      <td>0.000000</td>\n",
       "      <td>0.0</td>\n",
       "      <td>0.000000</td>\n",
       "      <td>0.0</td>\n",
       "      <td>0.0</td>\n",
       "      <td>0.0</td>\n",
       "      <td>0.0</td>\n",
       "      <td>0.0</td>\n",
       "      <td>...</td>\n",
       "      <td>0.0</td>\n",
       "      <td>0.0</td>\n",
       "      <td>0.0</td>\n",
       "      <td>0.0</td>\n",
       "      <td>0.0</td>\n",
       "      <td>0.174751</td>\n",
       "      <td>0.0</td>\n",
       "      <td>0.0</td>\n",
       "      <td>0.0</td>\n",
       "      <td>0.0</td>\n",
       "    </tr>\n",
       "    <tr>\n",
       "      <th>2</th>\n",
       "      <td>0.0</td>\n",
       "      <td>0.0</td>\n",
       "      <td>0.000000</td>\n",
       "      <td>0.0</td>\n",
       "      <td>0.000000</td>\n",
       "      <td>0.0</td>\n",
       "      <td>0.0</td>\n",
       "      <td>0.0</td>\n",
       "      <td>0.0</td>\n",
       "      <td>0.0</td>\n",
       "      <td>...</td>\n",
       "      <td>0.0</td>\n",
       "      <td>0.0</td>\n",
       "      <td>0.0</td>\n",
       "      <td>0.0</td>\n",
       "      <td>0.0</td>\n",
       "      <td>0.000000</td>\n",
       "      <td>0.0</td>\n",
       "      <td>0.0</td>\n",
       "      <td>0.0</td>\n",
       "      <td>0.0</td>\n",
       "    </tr>\n",
       "    <tr>\n",
       "      <th>3</th>\n",
       "      <td>0.0</td>\n",
       "      <td>0.0</td>\n",
       "      <td>0.000000</td>\n",
       "      <td>0.0</td>\n",
       "      <td>0.000000</td>\n",
       "      <td>0.0</td>\n",
       "      <td>0.0</td>\n",
       "      <td>0.0</td>\n",
       "      <td>0.0</td>\n",
       "      <td>0.0</td>\n",
       "      <td>...</td>\n",
       "      <td>0.0</td>\n",
       "      <td>0.0</td>\n",
       "      <td>0.0</td>\n",
       "      <td>0.0</td>\n",
       "      <td>0.0</td>\n",
       "      <td>0.000000</td>\n",
       "      <td>0.0</td>\n",
       "      <td>0.0</td>\n",
       "      <td>0.0</td>\n",
       "      <td>0.0</td>\n",
       "    </tr>\n",
       "    <tr>\n",
       "      <th>4</th>\n",
       "      <td>0.0</td>\n",
       "      <td>0.0</td>\n",
       "      <td>0.000000</td>\n",
       "      <td>0.0</td>\n",
       "      <td>0.228412</td>\n",
       "      <td>0.0</td>\n",
       "      <td>0.0</td>\n",
       "      <td>0.0</td>\n",
       "      <td>0.0</td>\n",
       "      <td>0.0</td>\n",
       "      <td>...</td>\n",
       "      <td>0.0</td>\n",
       "      <td>0.0</td>\n",
       "      <td>0.0</td>\n",
       "      <td>0.0</td>\n",
       "      <td>0.0</td>\n",
       "      <td>0.000000</td>\n",
       "      <td>0.0</td>\n",
       "      <td>0.0</td>\n",
       "      <td>0.0</td>\n",
       "      <td>0.0</td>\n",
       "    </tr>\n",
       "    <tr>\n",
       "      <th>...</th>\n",
       "      <td>...</td>\n",
       "      <td>...</td>\n",
       "      <td>...</td>\n",
       "      <td>...</td>\n",
       "      <td>...</td>\n",
       "      <td>...</td>\n",
       "      <td>...</td>\n",
       "      <td>...</td>\n",
       "      <td>...</td>\n",
       "      <td>...</td>\n",
       "      <td>...</td>\n",
       "      <td>...</td>\n",
       "      <td>...</td>\n",
       "      <td>...</td>\n",
       "      <td>...</td>\n",
       "      <td>...</td>\n",
       "      <td>...</td>\n",
       "      <td>...</td>\n",
       "      <td>...</td>\n",
       "      <td>...</td>\n",
       "      <td>...</td>\n",
       "    </tr>\n",
       "    <tr>\n",
       "      <th>159985</th>\n",
       "      <td>0.0</td>\n",
       "      <td>0.0</td>\n",
       "      <td>0.000000</td>\n",
       "      <td>0.0</td>\n",
       "      <td>0.000000</td>\n",
       "      <td>0.0</td>\n",
       "      <td>0.0</td>\n",
       "      <td>0.0</td>\n",
       "      <td>0.0</td>\n",
       "      <td>0.0</td>\n",
       "      <td>...</td>\n",
       "      <td>0.0</td>\n",
       "      <td>0.0</td>\n",
       "      <td>0.0</td>\n",
       "      <td>0.0</td>\n",
       "      <td>0.0</td>\n",
       "      <td>0.000000</td>\n",
       "      <td>0.0</td>\n",
       "      <td>0.0</td>\n",
       "      <td>0.0</td>\n",
       "      <td>0.0</td>\n",
       "    </tr>\n",
       "    <tr>\n",
       "      <th>159986</th>\n",
       "      <td>0.0</td>\n",
       "      <td>0.0</td>\n",
       "      <td>0.000000</td>\n",
       "      <td>0.0</td>\n",
       "      <td>0.000000</td>\n",
       "      <td>0.0</td>\n",
       "      <td>0.0</td>\n",
       "      <td>0.0</td>\n",
       "      <td>0.0</td>\n",
       "      <td>0.0</td>\n",
       "      <td>...</td>\n",
       "      <td>0.0</td>\n",
       "      <td>0.0</td>\n",
       "      <td>0.0</td>\n",
       "      <td>0.0</td>\n",
       "      <td>0.0</td>\n",
       "      <td>0.000000</td>\n",
       "      <td>0.0</td>\n",
       "      <td>0.0</td>\n",
       "      <td>0.0</td>\n",
       "      <td>0.0</td>\n",
       "    </tr>\n",
       "    <tr>\n",
       "      <th>159987</th>\n",
       "      <td>0.0</td>\n",
       "      <td>0.0</td>\n",
       "      <td>0.000000</td>\n",
       "      <td>0.0</td>\n",
       "      <td>0.000000</td>\n",
       "      <td>0.0</td>\n",
       "      <td>0.0</td>\n",
       "      <td>0.0</td>\n",
       "      <td>0.0</td>\n",
       "      <td>0.0</td>\n",
       "      <td>...</td>\n",
       "      <td>0.0</td>\n",
       "      <td>0.0</td>\n",
       "      <td>0.0</td>\n",
       "      <td>0.0</td>\n",
       "      <td>0.0</td>\n",
       "      <td>0.000000</td>\n",
       "      <td>0.0</td>\n",
       "      <td>0.0</td>\n",
       "      <td>0.0</td>\n",
       "      <td>0.0</td>\n",
       "    </tr>\n",
       "    <tr>\n",
       "      <th>159988</th>\n",
       "      <td>0.0</td>\n",
       "      <td>0.0</td>\n",
       "      <td>0.000000</td>\n",
       "      <td>0.0</td>\n",
       "      <td>0.000000</td>\n",
       "      <td>0.0</td>\n",
       "      <td>0.0</td>\n",
       "      <td>0.0</td>\n",
       "      <td>0.0</td>\n",
       "      <td>0.0</td>\n",
       "      <td>...</td>\n",
       "      <td>0.0</td>\n",
       "      <td>0.0</td>\n",
       "      <td>0.0</td>\n",
       "      <td>0.0</td>\n",
       "      <td>0.0</td>\n",
       "      <td>0.000000</td>\n",
       "      <td>0.0</td>\n",
       "      <td>0.0</td>\n",
       "      <td>0.0</td>\n",
       "      <td>0.0</td>\n",
       "    </tr>\n",
       "    <tr>\n",
       "      <th>159989</th>\n",
       "      <td>0.0</td>\n",
       "      <td>0.0</td>\n",
       "      <td>0.141927</td>\n",
       "      <td>0.0</td>\n",
       "      <td>0.000000</td>\n",
       "      <td>0.0</td>\n",
       "      <td>0.0</td>\n",
       "      <td>0.0</td>\n",
       "      <td>0.0</td>\n",
       "      <td>0.0</td>\n",
       "      <td>...</td>\n",
       "      <td>0.0</td>\n",
       "      <td>0.0</td>\n",
       "      <td>0.0</td>\n",
       "      <td>0.0</td>\n",
       "      <td>0.0</td>\n",
       "      <td>0.000000</td>\n",
       "      <td>0.0</td>\n",
       "      <td>0.0</td>\n",
       "      <td>0.0</td>\n",
       "      <td>0.0</td>\n",
       "    </tr>\n",
       "  </tbody>\n",
       "</table>\n",
       "<p>159990 rows × 2000 columns</p>\n",
       "</div>"
      ],
      "text/plain": [
       "        0     1         2     3         4     5     6     7     8     9     \\\n",
       "0        0.0   0.0  0.000000   0.0  0.000000   0.0   0.0   0.0   0.0   0.0   \n",
       "1        0.0   0.0  0.000000   0.0  0.000000   0.0   0.0   0.0   0.0   0.0   \n",
       "2        0.0   0.0  0.000000   0.0  0.000000   0.0   0.0   0.0   0.0   0.0   \n",
       "3        0.0   0.0  0.000000   0.0  0.000000   0.0   0.0   0.0   0.0   0.0   \n",
       "4        0.0   0.0  0.000000   0.0  0.228412   0.0   0.0   0.0   0.0   0.0   \n",
       "...      ...   ...       ...   ...       ...   ...   ...   ...   ...   ...   \n",
       "159985   0.0   0.0  0.000000   0.0  0.000000   0.0   0.0   0.0   0.0   0.0   \n",
       "159986   0.0   0.0  0.000000   0.0  0.000000   0.0   0.0   0.0   0.0   0.0   \n",
       "159987   0.0   0.0  0.000000   0.0  0.000000   0.0   0.0   0.0   0.0   0.0   \n",
       "159988   0.0   0.0  0.000000   0.0  0.000000   0.0   0.0   0.0   0.0   0.0   \n",
       "159989   0.0   0.0  0.141927   0.0  0.000000   0.0   0.0   0.0   0.0   0.0   \n",
       "\n",
       "        ...  1990  1991  1992  1993  1994      1995  1996  1997  1998  1999  \n",
       "0       ...   0.0   0.0   0.0   0.0   0.0  0.000000   0.0   0.0   0.0   0.0  \n",
       "1       ...   0.0   0.0   0.0   0.0   0.0  0.174751   0.0   0.0   0.0   0.0  \n",
       "2       ...   0.0   0.0   0.0   0.0   0.0  0.000000   0.0   0.0   0.0   0.0  \n",
       "3       ...   0.0   0.0   0.0   0.0   0.0  0.000000   0.0   0.0   0.0   0.0  \n",
       "4       ...   0.0   0.0   0.0   0.0   0.0  0.000000   0.0   0.0   0.0   0.0  \n",
       "...     ...   ...   ...   ...   ...   ...       ...   ...   ...   ...   ...  \n",
       "159985  ...   0.0   0.0   0.0   0.0   0.0  0.000000   0.0   0.0   0.0   0.0  \n",
       "159986  ...   0.0   0.0   0.0   0.0   0.0  0.000000   0.0   0.0   0.0   0.0  \n",
       "159987  ...   0.0   0.0   0.0   0.0   0.0  0.000000   0.0   0.0   0.0   0.0  \n",
       "159988  ...   0.0   0.0   0.0   0.0   0.0  0.000000   0.0   0.0   0.0   0.0  \n",
       "159989  ...   0.0   0.0   0.0   0.0   0.0  0.000000   0.0   0.0   0.0   0.0  \n",
       "\n",
       "[159990 rows x 2000 columns]"
      ]
     },
     "execution_count": 44,
     "metadata": {},
     "output_type": "execute_result"
    }
   ],
   "source": [
    "# Convert the entire sparse matrix to a dense matrix (use with caution)\n",
    "dense_matrix = X.toarray()\n",
    "\n",
    "# Create a DataFrame\n",
    "df_dense = pd.DataFrame(dense_matrix)\n",
    "\n",
    "# Display the DataFrame\n",
    "df_dense\n"
   ]
  },
  {
   "cell_type": "markdown",
   "id": "a952626d",
   "metadata": {
    "papermill": {
     "duration": 0.037874,
     "end_time": "2024-12-18T20:01:46.414222",
     "exception": false,
     "start_time": "2024-12-18T20:01:46.376348",
     "status": "completed"
    },
    "tags": []
   },
   "source": [
    "## Vectorization fitting pipelining data"
   ]
  },
  {
   "cell_type": "code",
   "execution_count": 45,
   "id": "4058329e",
   "metadata": {
    "execution": {
     "iopub.execute_input": "2024-12-18T20:01:46.488187Z",
     "iopub.status.busy": "2024-12-18T20:01:46.487757Z",
     "iopub.status.idle": "2024-12-18T20:01:46.501489Z",
     "shell.execute_reply": "2024-12-18T20:01:46.500114Z"
    },
    "papermill": {
     "duration": 0.053638,
     "end_time": "2024-12-18T20:01:46.504010",
     "exception": false,
     "start_time": "2024-12-18T20:01:46.450372",
     "status": "completed"
    },
    "tags": []
   },
   "outputs": [
    {
     "data": {
      "text/plain": [
       "845681     believe rate item high wife get christmas ok p...\n",
       "1107550    yr old break come contact unable destroy spide...\n",
       "672632     get cup son th birthday party pirate themedcou...\n",
       "1422772    small picture make look big daughter love cute...\n",
       "763641     little dragon absolutely perfect khaleesi hall...\n",
       "Name: cleaned_reviewText, dtype: object"
      ]
     },
     "execution_count": 45,
     "metadata": {},
     "output_type": "execute_result"
    }
   ],
   "source": [
    "vectorization_pipeline_fitting_data = original_dataframe_part['cleaned_reviewText'].copy()\n",
    "\n",
    "vectorization_pipeline_fitting_data.head()"
   ]
  },
  {
   "cell_type": "markdown",
   "id": "2f82da37",
   "metadata": {
    "papermill": {
     "duration": 0.039654,
     "end_time": "2024-12-18T20:01:46.582477",
     "exception": false,
     "start_time": "2024-12-18T20:01:46.542823",
     "status": "completed"
    },
    "tags": []
   },
   "source": [
    "# Feature Selection"
   ]
  },
  {
   "cell_type": "markdown",
   "id": "5b232d93",
   "metadata": {
    "papermill": {
     "duration": 0.037296,
     "end_time": "2024-12-18T20:01:46.655690",
     "exception": false,
     "start_time": "2024-12-18T20:01:46.618394",
     "status": "completed"
    },
    "tags": []
   },
   "source": [
    "## Taking only required features into consideration"
   ]
  },
  {
   "cell_type": "code",
   "execution_count": 46,
   "id": "2cb1c836",
   "metadata": {
    "execution": {
     "iopub.execute_input": "2024-12-18T20:01:46.733259Z",
     "iopub.status.busy": "2024-12-18T20:01:46.732844Z",
     "iopub.status.idle": "2024-12-18T20:01:46.754062Z",
     "shell.execute_reply": "2024-12-18T20:01:46.753041Z"
    },
    "papermill": {
     "duration": 0.061808,
     "end_time": "2024-12-18T20:01:46.756366",
     "exception": false,
     "start_time": "2024-12-18T20:01:46.694558",
     "status": "completed"
    },
    "tags": []
   },
   "outputs": [
    {
     "data": {
      "text/html": [
       "<div>\n",
       "<style scoped>\n",
       "    .dataframe tbody tr th:only-of-type {\n",
       "        vertical-align: middle;\n",
       "    }\n",
       "\n",
       "    .dataframe tbody tr th {\n",
       "        vertical-align: top;\n",
       "    }\n",
       "\n",
       "    .dataframe thead th {\n",
       "        text-align: right;\n",
       "    }\n",
       "</style>\n",
       "<table border=\"1\" class=\"dataframe\">\n",
       "  <thead>\n",
       "    <tr style=\"text-align: right;\">\n",
       "      <th></th>\n",
       "      <th>asin</th>\n",
       "      <th>helpful</th>\n",
       "      <th>reviewText</th>\n",
       "      <th>overall</th>\n",
       "      <th>unixReviewTime</th>\n",
       "      <th>category</th>\n",
       "      <th>class</th>\n",
       "      <th>reviewLength</th>\n",
       "      <th>helpfulRatio</th>\n",
       "      <th>wordCount</th>\n",
       "      <th>avgWordLength</th>\n",
       "      <th>sentiment</th>\n",
       "      <th>review_year</th>\n",
       "      <th>review_month</th>\n",
       "      <th>review_day</th>\n",
       "      <th>review_day_of_week</th>\n",
       "      <th>cleaned_reviewText</th>\n",
       "      <th>review_length</th>\n",
       "      <th>sentimentLabel</th>\n",
       "      <th>text_length</th>\n",
       "    </tr>\n",
       "  </thead>\n",
       "  <tbody>\n",
       "    <tr>\n",
       "      <th>845681</th>\n",
       "      <td>B002BIRM2S</td>\n",
       "      <td>[2, 2]</td>\n",
       "      <td>I really can't believe that others have rated ...</td>\n",
       "      <td>2</td>\n",
       "      <td>1388361600</td>\n",
       "      <td>Toys_and_Games</td>\n",
       "      <td>0</td>\n",
       "      <td>1010</td>\n",
       "      <td>1.0</td>\n",
       "      <td>204</td>\n",
       "      <td>3.955882</td>\n",
       "      <td>0.4320</td>\n",
       "      <td>2013</td>\n",
       "      <td>12</td>\n",
       "      <td>30</td>\n",
       "      <td>0</td>\n",
       "      <td>believe rate item high wife get christmas ok p...</td>\n",
       "      <td>424</td>\n",
       "      <td>positive</td>\n",
       "      <td>424</td>\n",
       "    </tr>\n",
       "    <tr>\n",
       "      <th>1107550</th>\n",
       "      <td>B003YZ97TS</td>\n",
       "      <td>[0, 0]</td>\n",
       "      <td>3 Yr old who breaks everything he comes into c...</td>\n",
       "      <td>5</td>\n",
       "      <td>1357516800</td>\n",
       "      <td>Toys_and_Games</td>\n",
       "      <td>1</td>\n",
       "      <td>306</td>\n",
       "      <td>0.0</td>\n",
       "      <td>56</td>\n",
       "      <td>4.410714</td>\n",
       "      <td>0.9774</td>\n",
       "      <td>2013</td>\n",
       "      <td>1</td>\n",
       "      <td>7</td>\n",
       "      <td>0</td>\n",
       "      <td>yr old break come contact unable destroy spide...</td>\n",
       "      <td>172</td>\n",
       "      <td>positive</td>\n",
       "      <td>172</td>\n",
       "    </tr>\n",
       "    <tr>\n",
       "      <th>672632</th>\n",
       "      <td>B0019IF0BG</td>\n",
       "      <td>[0, 0]</td>\n",
       "      <td>got these cups for my sons 4th birthday party ...</td>\n",
       "      <td>4</td>\n",
       "      <td>1360540800</td>\n",
       "      <td>Toys_and_Games</td>\n",
       "      <td>1</td>\n",
       "      <td>222</td>\n",
       "      <td>0.0</td>\n",
       "      <td>42</td>\n",
       "      <td>4.309524</td>\n",
       "      <td>0.9399</td>\n",
       "      <td>2013</td>\n",
       "      <td>2</td>\n",
       "      <td>11</td>\n",
       "      <td>0</td>\n",
       "      <td>get cup son th birthday party pirate themedcou...</td>\n",
       "      <td>129</td>\n",
       "      <td>positive</td>\n",
       "      <td>129</td>\n",
       "    </tr>\n",
       "    <tr>\n",
       "      <th>1422772</th>\n",
       "      <td>B005V4IIRW</td>\n",
       "      <td>[0, 0]</td>\n",
       "      <td>It's REALLY small. The picture makes it look b...</td>\n",
       "      <td>3</td>\n",
       "      <td>1386633600</td>\n",
       "      <td>Toys_and_Games</td>\n",
       "      <td>0</td>\n",
       "      <td>120</td>\n",
       "      <td>0.0</td>\n",
       "      <td>23</td>\n",
       "      <td>4.260870</td>\n",
       "      <td>0.8819</td>\n",
       "      <td>2013</td>\n",
       "      <td>12</td>\n",
       "      <td>10</td>\n",
       "      <td>1</td>\n",
       "      <td>small picture make look big daughter love cute...</td>\n",
       "      <td>56</td>\n",
       "      <td>positive</td>\n",
       "      <td>56</td>\n",
       "    </tr>\n",
       "    <tr>\n",
       "      <th>763641</th>\n",
       "      <td>B001Q0VECQ</td>\n",
       "      <td>[0, 0]</td>\n",
       "      <td>This little dragon was absolutely perfect for ...</td>\n",
       "      <td>5</td>\n",
       "      <td>1385942400</td>\n",
       "      <td>Toys_and_Games</td>\n",
       "      <td>1</td>\n",
       "      <td>184</td>\n",
       "      <td>0.0</td>\n",
       "      <td>31</td>\n",
       "      <td>4.903226</td>\n",
       "      <td>0.8122</td>\n",
       "      <td>2013</td>\n",
       "      <td>12</td>\n",
       "      <td>2</td>\n",
       "      <td>0</td>\n",
       "      <td>little dragon absolutely perfect khaleesi hall...</td>\n",
       "      <td>122</td>\n",
       "      <td>positive</td>\n",
       "      <td>122</td>\n",
       "    </tr>\n",
       "  </tbody>\n",
       "</table>\n",
       "</div>"
      ],
      "text/plain": [
       "               asin helpful  \\\n",
       "845681   B002BIRM2S  [2, 2]   \n",
       "1107550  B003YZ97TS  [0, 0]   \n",
       "672632   B0019IF0BG  [0, 0]   \n",
       "1422772  B005V4IIRW  [0, 0]   \n",
       "763641   B001Q0VECQ  [0, 0]   \n",
       "\n",
       "                                                reviewText  overall  \\\n",
       "845681   I really can't believe that others have rated ...        2   \n",
       "1107550  3 Yr old who breaks everything he comes into c...        5   \n",
       "672632   got these cups for my sons 4th birthday party ...        4   \n",
       "1422772  It's REALLY small. The picture makes it look b...        3   \n",
       "763641   This little dragon was absolutely perfect for ...        5   \n",
       "\n",
       "         unixReviewTime        category  class  reviewLength  helpfulRatio  \\\n",
       "845681       1388361600  Toys_and_Games      0          1010           1.0   \n",
       "1107550      1357516800  Toys_and_Games      1           306           0.0   \n",
       "672632       1360540800  Toys_and_Games      1           222           0.0   \n",
       "1422772      1386633600  Toys_and_Games      0           120           0.0   \n",
       "763641       1385942400  Toys_and_Games      1           184           0.0   \n",
       "\n",
       "         wordCount  avgWordLength  sentiment  review_year  review_month  \\\n",
       "845681         204       3.955882     0.4320         2013            12   \n",
       "1107550         56       4.410714     0.9774         2013             1   \n",
       "672632          42       4.309524     0.9399         2013             2   \n",
       "1422772         23       4.260870     0.8819         2013            12   \n",
       "763641          31       4.903226     0.8122         2013            12   \n",
       "\n",
       "         review_day  review_day_of_week  \\\n",
       "845681           30                   0   \n",
       "1107550           7                   0   \n",
       "672632           11                   0   \n",
       "1422772          10                   1   \n",
       "763641            2                   0   \n",
       "\n",
       "                                        cleaned_reviewText  review_length  \\\n",
       "845681   believe rate item high wife get christmas ok p...            424   \n",
       "1107550  yr old break come contact unable destroy spide...            172   \n",
       "672632   get cup son th birthday party pirate themedcou...            129   \n",
       "1422772  small picture make look big daughter love cute...             56   \n",
       "763641   little dragon absolutely perfect khaleesi hall...            122   \n",
       "\n",
       "        sentimentLabel  text_length  \n",
       "845681        positive          424  \n",
       "1107550       positive          172  \n",
       "672632        positive          129  \n",
       "1422772       positive           56  \n",
       "763641        positive          122  "
      ]
     },
     "execution_count": 46,
     "metadata": {},
     "output_type": "execute_result"
    }
   ],
   "source": [
    "original_dataframe_part.head()"
   ]
  },
  {
   "cell_type": "code",
   "execution_count": 47,
   "id": "f78118fd",
   "metadata": {
    "execution": {
     "iopub.execute_input": "2024-12-18T20:01:46.833048Z",
     "iopub.status.busy": "2024-12-18T20:01:46.832086Z",
     "iopub.status.idle": "2024-12-18T20:01:46.846891Z",
     "shell.execute_reply": "2024-12-18T20:01:46.845602Z"
    },
    "papermill": {
     "duration": 0.056178,
     "end_time": "2024-12-18T20:01:46.849531",
     "exception": false,
     "start_time": "2024-12-18T20:01:46.793353",
     "status": "completed"
    },
    "tags": []
   },
   "outputs": [],
   "source": [
    "columns_to_drop = ['asin', 'helpful', 'reviewText', 'unixReviewTime', 'category', 'sentiment', 'review_length', 'text_length']\n",
    "original_dataframe_part.drop(columns=columns_to_drop, inplace=True)"
   ]
  },
  {
   "cell_type": "code",
   "execution_count": 48,
   "id": "55b8312a",
   "metadata": {
    "execution": {
     "iopub.execute_input": "2024-12-18T20:01:46.924593Z",
     "iopub.status.busy": "2024-12-18T20:01:46.924199Z",
     "iopub.status.idle": "2024-12-18T20:01:46.939352Z",
     "shell.execute_reply": "2024-12-18T20:01:46.938171Z"
    },
    "papermill": {
     "duration": 0.055729,
     "end_time": "2024-12-18T20:01:46.941834",
     "exception": false,
     "start_time": "2024-12-18T20:01:46.886105",
     "status": "completed"
    },
    "tags": []
   },
   "outputs": [
    {
     "data": {
      "text/html": [
       "<div>\n",
       "<style scoped>\n",
       "    .dataframe tbody tr th:only-of-type {\n",
       "        vertical-align: middle;\n",
       "    }\n",
       "\n",
       "    .dataframe tbody tr th {\n",
       "        vertical-align: top;\n",
       "    }\n",
       "\n",
       "    .dataframe thead th {\n",
       "        text-align: right;\n",
       "    }\n",
       "</style>\n",
       "<table border=\"1\" class=\"dataframe\">\n",
       "  <thead>\n",
       "    <tr style=\"text-align: right;\">\n",
       "      <th></th>\n",
       "      <th>overall</th>\n",
       "      <th>class</th>\n",
       "      <th>reviewLength</th>\n",
       "      <th>helpfulRatio</th>\n",
       "      <th>wordCount</th>\n",
       "      <th>avgWordLength</th>\n",
       "      <th>review_year</th>\n",
       "      <th>review_month</th>\n",
       "      <th>review_day</th>\n",
       "      <th>review_day_of_week</th>\n",
       "      <th>cleaned_reviewText</th>\n",
       "      <th>sentimentLabel</th>\n",
       "    </tr>\n",
       "  </thead>\n",
       "  <tbody>\n",
       "    <tr>\n",
       "      <th>845681</th>\n",
       "      <td>2</td>\n",
       "      <td>0</td>\n",
       "      <td>1010</td>\n",
       "      <td>1.0</td>\n",
       "      <td>204</td>\n",
       "      <td>3.955882</td>\n",
       "      <td>2013</td>\n",
       "      <td>12</td>\n",
       "      <td>30</td>\n",
       "      <td>0</td>\n",
       "      <td>believe rate item high wife get christmas ok p...</td>\n",
       "      <td>positive</td>\n",
       "    </tr>\n",
       "    <tr>\n",
       "      <th>1107550</th>\n",
       "      <td>5</td>\n",
       "      <td>1</td>\n",
       "      <td>306</td>\n",
       "      <td>0.0</td>\n",
       "      <td>56</td>\n",
       "      <td>4.410714</td>\n",
       "      <td>2013</td>\n",
       "      <td>1</td>\n",
       "      <td>7</td>\n",
       "      <td>0</td>\n",
       "      <td>yr old break come contact unable destroy spide...</td>\n",
       "      <td>positive</td>\n",
       "    </tr>\n",
       "    <tr>\n",
       "      <th>672632</th>\n",
       "      <td>4</td>\n",
       "      <td>1</td>\n",
       "      <td>222</td>\n",
       "      <td>0.0</td>\n",
       "      <td>42</td>\n",
       "      <td>4.309524</td>\n",
       "      <td>2013</td>\n",
       "      <td>2</td>\n",
       "      <td>11</td>\n",
       "      <td>0</td>\n",
       "      <td>get cup son th birthday party pirate themedcou...</td>\n",
       "      <td>positive</td>\n",
       "    </tr>\n",
       "    <tr>\n",
       "      <th>1422772</th>\n",
       "      <td>3</td>\n",
       "      <td>0</td>\n",
       "      <td>120</td>\n",
       "      <td>0.0</td>\n",
       "      <td>23</td>\n",
       "      <td>4.260870</td>\n",
       "      <td>2013</td>\n",
       "      <td>12</td>\n",
       "      <td>10</td>\n",
       "      <td>1</td>\n",
       "      <td>small picture make look big daughter love cute...</td>\n",
       "      <td>positive</td>\n",
       "    </tr>\n",
       "    <tr>\n",
       "      <th>763641</th>\n",
       "      <td>5</td>\n",
       "      <td>1</td>\n",
       "      <td>184</td>\n",
       "      <td>0.0</td>\n",
       "      <td>31</td>\n",
       "      <td>4.903226</td>\n",
       "      <td>2013</td>\n",
       "      <td>12</td>\n",
       "      <td>2</td>\n",
       "      <td>0</td>\n",
       "      <td>little dragon absolutely perfect khaleesi hall...</td>\n",
       "      <td>positive</td>\n",
       "    </tr>\n",
       "  </tbody>\n",
       "</table>\n",
       "</div>"
      ],
      "text/plain": [
       "         overall  class  reviewLength  helpfulRatio  wordCount  avgWordLength  \\\n",
       "845681         2      0          1010           1.0        204       3.955882   \n",
       "1107550        5      1           306           0.0         56       4.410714   \n",
       "672632         4      1           222           0.0         42       4.309524   \n",
       "1422772        3      0           120           0.0         23       4.260870   \n",
       "763641         5      1           184           0.0         31       4.903226   \n",
       "\n",
       "         review_year  review_month  review_day  review_day_of_week  \\\n",
       "845681          2013            12          30                   0   \n",
       "1107550         2013             1           7                   0   \n",
       "672632          2013             2          11                   0   \n",
       "1422772         2013            12          10                   1   \n",
       "763641          2013            12           2                   0   \n",
       "\n",
       "                                        cleaned_reviewText sentimentLabel  \n",
       "845681   believe rate item high wife get christmas ok p...       positive  \n",
       "1107550  yr old break come contact unable destroy spide...       positive  \n",
       "672632   get cup son th birthday party pirate themedcou...       positive  \n",
       "1422772  small picture make look big daughter love cute...       positive  \n",
       "763641   little dragon absolutely perfect khaleesi hall...       positive  "
      ]
     },
     "execution_count": 48,
     "metadata": {},
     "output_type": "execute_result"
    }
   ],
   "source": [
    "original_dataframe_part.head()"
   ]
  },
  {
   "cell_type": "markdown",
   "id": "dc64d4d8",
   "metadata": {
    "papermill": {
     "duration": 0.037771,
     "end_time": "2024-12-18T20:01:47.017974",
     "exception": false,
     "start_time": "2024-12-18T20:01:46.980203",
     "status": "completed"
    },
    "tags": []
   },
   "source": [
    "## Encoding categorical variables"
   ]
  },
  {
   "cell_type": "code",
   "execution_count": 49,
   "id": "e0185157",
   "metadata": {
    "execution": {
     "iopub.execute_input": "2024-12-18T20:01:47.095689Z",
     "iopub.status.busy": "2024-12-18T20:01:47.095273Z",
     "iopub.status.idle": "2024-12-18T20:01:47.138151Z",
     "shell.execute_reply": "2024-12-18T20:01:47.136319Z"
    },
    "papermill": {
     "duration": 0.084444,
     "end_time": "2024-12-18T20:01:47.140676",
     "exception": false,
     "start_time": "2024-12-18T20:01:47.056232",
     "status": "completed"
    },
    "tags": []
   },
   "outputs": [],
   "source": [
    "from sklearn.preprocessing import LabelEncoder\n",
    "\n",
    "# Initialize the LabelEncoder\n",
    "label_encoder = LabelEncoder()\n",
    "\n",
    "# Fit and transform the 'sentimentLabel' column\n",
    "original_dataframe_part['encoded_sentimentLabel'] = label_encoder.fit_transform(original_dataframe_part['sentimentLabel'])\n",
    "\n",
    "columns_to_drop = ['sentimentLabel']\n",
    "original_dataframe_part.drop(columns=columns_to_drop, inplace=True)"
   ]
  },
  {
   "cell_type": "code",
   "execution_count": 50,
   "id": "5701a78a",
   "metadata": {
    "execution": {
     "iopub.execute_input": "2024-12-18T20:01:47.218648Z",
     "iopub.status.busy": "2024-12-18T20:01:47.218253Z",
     "iopub.status.idle": "2024-12-18T20:01:47.233615Z",
     "shell.execute_reply": "2024-12-18T20:01:47.232457Z"
    },
    "papermill": {
     "duration": 0.057233,
     "end_time": "2024-12-18T20:01:47.236173",
     "exception": false,
     "start_time": "2024-12-18T20:01:47.178940",
     "status": "completed"
    },
    "tags": []
   },
   "outputs": [
    {
     "data": {
      "text/html": [
       "<div>\n",
       "<style scoped>\n",
       "    .dataframe tbody tr th:only-of-type {\n",
       "        vertical-align: middle;\n",
       "    }\n",
       "\n",
       "    .dataframe tbody tr th {\n",
       "        vertical-align: top;\n",
       "    }\n",
       "\n",
       "    .dataframe thead th {\n",
       "        text-align: right;\n",
       "    }\n",
       "</style>\n",
       "<table border=\"1\" class=\"dataframe\">\n",
       "  <thead>\n",
       "    <tr style=\"text-align: right;\">\n",
       "      <th></th>\n",
       "      <th>overall</th>\n",
       "      <th>class</th>\n",
       "      <th>reviewLength</th>\n",
       "      <th>helpfulRatio</th>\n",
       "      <th>wordCount</th>\n",
       "      <th>avgWordLength</th>\n",
       "      <th>review_year</th>\n",
       "      <th>review_month</th>\n",
       "      <th>review_day</th>\n",
       "      <th>review_day_of_week</th>\n",
       "      <th>cleaned_reviewText</th>\n",
       "      <th>encoded_sentimentLabel</th>\n",
       "    </tr>\n",
       "  </thead>\n",
       "  <tbody>\n",
       "    <tr>\n",
       "      <th>845681</th>\n",
       "      <td>2</td>\n",
       "      <td>0</td>\n",
       "      <td>1010</td>\n",
       "      <td>1.0</td>\n",
       "      <td>204</td>\n",
       "      <td>3.955882</td>\n",
       "      <td>2013</td>\n",
       "      <td>12</td>\n",
       "      <td>30</td>\n",
       "      <td>0</td>\n",
       "      <td>believe rate item high wife get christmas ok p...</td>\n",
       "      <td>2</td>\n",
       "    </tr>\n",
       "    <tr>\n",
       "      <th>1107550</th>\n",
       "      <td>5</td>\n",
       "      <td>1</td>\n",
       "      <td>306</td>\n",
       "      <td>0.0</td>\n",
       "      <td>56</td>\n",
       "      <td>4.410714</td>\n",
       "      <td>2013</td>\n",
       "      <td>1</td>\n",
       "      <td>7</td>\n",
       "      <td>0</td>\n",
       "      <td>yr old break come contact unable destroy spide...</td>\n",
       "      <td>2</td>\n",
       "    </tr>\n",
       "    <tr>\n",
       "      <th>672632</th>\n",
       "      <td>4</td>\n",
       "      <td>1</td>\n",
       "      <td>222</td>\n",
       "      <td>0.0</td>\n",
       "      <td>42</td>\n",
       "      <td>4.309524</td>\n",
       "      <td>2013</td>\n",
       "      <td>2</td>\n",
       "      <td>11</td>\n",
       "      <td>0</td>\n",
       "      <td>get cup son th birthday party pirate themedcou...</td>\n",
       "      <td>2</td>\n",
       "    </tr>\n",
       "    <tr>\n",
       "      <th>1422772</th>\n",
       "      <td>3</td>\n",
       "      <td>0</td>\n",
       "      <td>120</td>\n",
       "      <td>0.0</td>\n",
       "      <td>23</td>\n",
       "      <td>4.260870</td>\n",
       "      <td>2013</td>\n",
       "      <td>12</td>\n",
       "      <td>10</td>\n",
       "      <td>1</td>\n",
       "      <td>small picture make look big daughter love cute...</td>\n",
       "      <td>2</td>\n",
       "    </tr>\n",
       "    <tr>\n",
       "      <th>763641</th>\n",
       "      <td>5</td>\n",
       "      <td>1</td>\n",
       "      <td>184</td>\n",
       "      <td>0.0</td>\n",
       "      <td>31</td>\n",
       "      <td>4.903226</td>\n",
       "      <td>2013</td>\n",
       "      <td>12</td>\n",
       "      <td>2</td>\n",
       "      <td>0</td>\n",
       "      <td>little dragon absolutely perfect khaleesi hall...</td>\n",
       "      <td>2</td>\n",
       "    </tr>\n",
       "  </tbody>\n",
       "</table>\n",
       "</div>"
      ],
      "text/plain": [
       "         overall  class  reviewLength  helpfulRatio  wordCount  avgWordLength  \\\n",
       "845681         2      0          1010           1.0        204       3.955882   \n",
       "1107550        5      1           306           0.0         56       4.410714   \n",
       "672632         4      1           222           0.0         42       4.309524   \n",
       "1422772        3      0           120           0.0         23       4.260870   \n",
       "763641         5      1           184           0.0         31       4.903226   \n",
       "\n",
       "         review_year  review_month  review_day  review_day_of_week  \\\n",
       "845681          2013            12          30                   0   \n",
       "1107550         2013             1           7                   0   \n",
       "672632          2013             2          11                   0   \n",
       "1422772         2013            12          10                   1   \n",
       "763641          2013            12           2                   0   \n",
       "\n",
       "                                        cleaned_reviewText  \\\n",
       "845681   believe rate item high wife get christmas ok p...   \n",
       "1107550  yr old break come contact unable destroy spide...   \n",
       "672632   get cup son th birthday party pirate themedcou...   \n",
       "1422772  small picture make look big daughter love cute...   \n",
       "763641   little dragon absolutely perfect khaleesi hall...   \n",
       "\n",
       "         encoded_sentimentLabel  \n",
       "845681                        2  \n",
       "1107550                       2  \n",
       "672632                        2  \n",
       "1422772                       2  \n",
       "763641                        2  "
      ]
     },
     "execution_count": 50,
     "metadata": {},
     "output_type": "execute_result"
    }
   ],
   "source": [
    "original_dataframe_part.head()"
   ]
  },
  {
   "cell_type": "code",
   "execution_count": 51,
   "id": "9caf4c09",
   "metadata": {
    "execution": {
     "iopub.execute_input": "2024-12-18T20:01:47.314272Z",
     "iopub.status.busy": "2024-12-18T20:01:47.313842Z",
     "iopub.status.idle": "2024-12-18T20:01:47.331856Z",
     "shell.execute_reply": "2024-12-18T20:01:47.330600Z"
    },
    "papermill": {
     "duration": 0.061032,
     "end_time": "2024-12-18T20:01:47.334248",
     "exception": false,
     "start_time": "2024-12-18T20:01:47.273216",
     "status": "completed"
    },
    "tags": []
   },
   "outputs": [
    {
     "data": {
      "text/html": [
       "<div>\n",
       "<style scoped>\n",
       "    .dataframe tbody tr th:only-of-type {\n",
       "        vertical-align: middle;\n",
       "    }\n",
       "\n",
       "    .dataframe tbody tr th {\n",
       "        vertical-align: top;\n",
       "    }\n",
       "\n",
       "    .dataframe thead th {\n",
       "        text-align: right;\n",
       "    }\n",
       "</style>\n",
       "<table border=\"1\" class=\"dataframe\">\n",
       "  <thead>\n",
       "    <tr style=\"text-align: right;\">\n",
       "      <th></th>\n",
       "      <th>overall</th>\n",
       "      <th>class</th>\n",
       "      <th>reviewLength</th>\n",
       "      <th>helpfulRatio</th>\n",
       "      <th>wordCount</th>\n",
       "      <th>avgWordLength</th>\n",
       "      <th>review_year</th>\n",
       "      <th>review_month</th>\n",
       "      <th>review_day_of_week</th>\n",
       "      <th>encoded_sentimentLabel</th>\n",
       "    </tr>\n",
       "  </thead>\n",
       "  <tbody>\n",
       "    <tr>\n",
       "      <th>845681</th>\n",
       "      <td>2</td>\n",
       "      <td>0</td>\n",
       "      <td>1010</td>\n",
       "      <td>1.0</td>\n",
       "      <td>204</td>\n",
       "      <td>3.955882</td>\n",
       "      <td>2013</td>\n",
       "      <td>12</td>\n",
       "      <td>0</td>\n",
       "      <td>2</td>\n",
       "    </tr>\n",
       "    <tr>\n",
       "      <th>1107550</th>\n",
       "      <td>5</td>\n",
       "      <td>1</td>\n",
       "      <td>306</td>\n",
       "      <td>0.0</td>\n",
       "      <td>56</td>\n",
       "      <td>4.410714</td>\n",
       "      <td>2013</td>\n",
       "      <td>1</td>\n",
       "      <td>0</td>\n",
       "      <td>2</td>\n",
       "    </tr>\n",
       "    <tr>\n",
       "      <th>672632</th>\n",
       "      <td>4</td>\n",
       "      <td>1</td>\n",
       "      <td>222</td>\n",
       "      <td>0.0</td>\n",
       "      <td>42</td>\n",
       "      <td>4.309524</td>\n",
       "      <td>2013</td>\n",
       "      <td>2</td>\n",
       "      <td>0</td>\n",
       "      <td>2</td>\n",
       "    </tr>\n",
       "    <tr>\n",
       "      <th>1422772</th>\n",
       "      <td>3</td>\n",
       "      <td>0</td>\n",
       "      <td>120</td>\n",
       "      <td>0.0</td>\n",
       "      <td>23</td>\n",
       "      <td>4.260870</td>\n",
       "      <td>2013</td>\n",
       "      <td>12</td>\n",
       "      <td>1</td>\n",
       "      <td>2</td>\n",
       "    </tr>\n",
       "    <tr>\n",
       "      <th>763641</th>\n",
       "      <td>5</td>\n",
       "      <td>1</td>\n",
       "      <td>184</td>\n",
       "      <td>0.0</td>\n",
       "      <td>31</td>\n",
       "      <td>4.903226</td>\n",
       "      <td>2013</td>\n",
       "      <td>12</td>\n",
       "      <td>0</td>\n",
       "      <td>2</td>\n",
       "    </tr>\n",
       "  </tbody>\n",
       "</table>\n",
       "</div>"
      ],
      "text/plain": [
       "         overall  class  reviewLength  helpfulRatio  wordCount  avgWordLength  \\\n",
       "845681         2      0          1010           1.0        204       3.955882   \n",
       "1107550        5      1           306           0.0         56       4.410714   \n",
       "672632         4      1           222           0.0         42       4.309524   \n",
       "1422772        3      0           120           0.0         23       4.260870   \n",
       "763641         5      1           184           0.0         31       4.903226   \n",
       "\n",
       "         review_year  review_month  review_day_of_week  encoded_sentimentLabel  \n",
       "845681          2013            12                   0                       2  \n",
       "1107550         2013             1                   0                       2  \n",
       "672632          2013             2                   0                       2  \n",
       "1422772         2013            12                   1                       2  \n",
       "763641          2013            12                   0                       2  "
      ]
     },
     "execution_count": 51,
     "metadata": {},
     "output_type": "execute_result"
    }
   ],
   "source": [
    "# dropping out unnecessary columns.\n",
    "columns_to_drop = ['cleaned_reviewText', 'review_day']\n",
    "original_dataframe_part.drop(columns=columns_to_drop, inplace=True)\n",
    "original_dataframe_part.head()"
   ]
  },
  {
   "cell_type": "markdown",
   "id": "ae4ea4f9",
   "metadata": {
    "papermill": {
     "duration": 0.036437,
     "end_time": "2024-12-18T20:01:47.407997",
     "exception": false,
     "start_time": "2024-12-18T20:01:47.371560",
     "status": "completed"
    },
    "tags": []
   },
   "source": [
    "# Feature Engineering Part-III"
   ]
  },
  {
   "cell_type": "markdown",
   "id": "321cf035",
   "metadata": {
    "papermill": {
     "duration": 0.036861,
     "end_time": "2024-12-18T20:01:47.482198",
     "exception": false,
     "start_time": "2024-12-18T20:01:47.445337",
     "status": "completed"
    },
    "tags": []
   },
   "source": [
    "## Scaling Numerical features"
   ]
  },
  {
   "cell_type": "code",
   "execution_count": 52,
   "id": "e117793f",
   "metadata": {
    "execution": {
     "iopub.execute_input": "2024-12-18T20:01:47.561095Z",
     "iopub.status.busy": "2024-12-18T20:01:47.560012Z",
     "iopub.status.idle": "2024-12-18T20:01:47.570322Z",
     "shell.execute_reply": "2024-12-18T20:01:47.569082Z"
    },
    "papermill": {
     "duration": 0.053662,
     "end_time": "2024-12-18T20:01:47.573248",
     "exception": false,
     "start_time": "2024-12-18T20:01:47.519586",
     "status": "completed"
    },
    "tags": []
   },
   "outputs": [],
   "source": [
    "# Columns to be scaled (numerical features)\n",
    "numerical_features = ['reviewLength', 'helpfulRatio', 'wordCount', 'avgWordLength']\n",
    "\n",
    "# Columns, not to be scaled (categorical ones)\n",
    "categorical_features = ['overall', 'class', 'review_year', 'review_month', 'encoded_sentimentLabel', 'review_day_of_week']\n",
    "\n",
    "# Separating numerical features and categorical features\n",
    "odp_num = original_dataframe_part[numerical_features]\n",
    "odp_cat = original_dataframe_part[categorical_features]"
   ]
  },
  {
   "cell_type": "code",
   "execution_count": 53,
   "id": "a4d4ef4f",
   "metadata": {
    "execution": {
     "iopub.execute_input": "2024-12-18T20:01:47.649999Z",
     "iopub.status.busy": "2024-12-18T20:01:47.649505Z",
     "iopub.status.idle": "2024-12-18T20:01:47.667989Z",
     "shell.execute_reply": "2024-12-18T20:01:47.666607Z"
    },
    "papermill": {
     "duration": 0.05953,
     "end_time": "2024-12-18T20:01:47.670407",
     "exception": false,
     "start_time": "2024-12-18T20:01:47.610877",
     "status": "completed"
    },
    "tags": []
   },
   "outputs": [],
   "source": [
    "from sklearn.preprocessing import StandardScaler\n",
    "\n",
    "# Initialize the scaler\n",
    "scaler = StandardScaler()\n",
    "\n",
    "temp = scaler.fit_transform(odp_num)\n",
    "\n",
    "# temp is numpy array first it should be converted to DataFrame\n",
    "odp_num_scaled = pd.DataFrame(temp, columns = odp_num.columns)"
   ]
  },
  {
   "cell_type": "markdown",
   "id": "57cb6aea",
   "metadata": {
    "papermill": {
     "duration": 0.03841,
     "end_time": "2024-12-18T20:01:47.748322",
     "exception": false,
     "start_time": "2024-12-18T20:01:47.709912",
     "status": "completed"
    },
    "tags": []
   },
   "source": [
    "## Combining scaled numerical features with categorical features"
   ]
  },
  {
   "cell_type": "code",
   "execution_count": 54,
   "id": "d40844e5",
   "metadata": {
    "execution": {
     "iopub.execute_input": "2024-12-18T20:01:47.825953Z",
     "iopub.status.busy": "2024-12-18T20:01:47.824975Z",
     "iopub.status.idle": "2024-12-18T20:01:47.847292Z",
     "shell.execute_reply": "2024-12-18T20:01:47.846024Z"
    },
    "papermill": {
     "duration": 0.063544,
     "end_time": "2024-12-18T20:01:47.849782",
     "exception": false,
     "start_time": "2024-12-18T20:01:47.786238",
     "status": "completed"
    },
    "tags": []
   },
   "outputs": [
    {
     "data": {
      "text/html": [
       "<div>\n",
       "<style scoped>\n",
       "    .dataframe tbody tr th:only-of-type {\n",
       "        vertical-align: middle;\n",
       "    }\n",
       "\n",
       "    .dataframe tbody tr th {\n",
       "        vertical-align: top;\n",
       "    }\n",
       "\n",
       "    .dataframe thead th {\n",
       "        text-align: right;\n",
       "    }\n",
       "</style>\n",
       "<table border=\"1\" class=\"dataframe\">\n",
       "  <thead>\n",
       "    <tr style=\"text-align: right;\">\n",
       "      <th></th>\n",
       "      <th>reviewLength</th>\n",
       "      <th>helpfulRatio</th>\n",
       "      <th>wordCount</th>\n",
       "      <th>avgWordLength</th>\n",
       "      <th>overall</th>\n",
       "      <th>class</th>\n",
       "      <th>review_year</th>\n",
       "      <th>review_month</th>\n",
       "      <th>encoded_sentimentLabel</th>\n",
       "      <th>review_day_of_week</th>\n",
       "    </tr>\n",
       "  </thead>\n",
       "  <tbody>\n",
       "    <tr>\n",
       "      <th>0</th>\n",
       "      <td>1.586360</td>\n",
       "      <td>1.672334</td>\n",
       "      <td>1.817972</td>\n",
       "      <td>-0.693623</td>\n",
       "      <td>2</td>\n",
       "      <td>0</td>\n",
       "      <td>2013</td>\n",
       "      <td>12</td>\n",
       "      <td>2</td>\n",
       "      <td>0</td>\n",
       "    </tr>\n",
       "    <tr>\n",
       "      <th>1</th>\n",
       "      <td>-0.091434</td>\n",
       "      <td>-0.667386</td>\n",
       "      <td>-0.115657</td>\n",
       "      <td>0.250952</td>\n",
       "      <td>5</td>\n",
       "      <td>1</td>\n",
       "      <td>2013</td>\n",
       "      <td>1</td>\n",
       "      <td>2</td>\n",
       "      <td>0</td>\n",
       "    </tr>\n",
       "    <tr>\n",
       "      <th>2</th>\n",
       "      <td>-0.291625</td>\n",
       "      <td>-0.667386</td>\n",
       "      <td>-0.298567</td>\n",
       "      <td>0.040804</td>\n",
       "      <td>4</td>\n",
       "      <td>1</td>\n",
       "      <td>2013</td>\n",
       "      <td>2</td>\n",
       "      <td>2</td>\n",
       "      <td>0</td>\n",
       "    </tr>\n",
       "    <tr>\n",
       "      <th>3</th>\n",
       "      <td>-0.534715</td>\n",
       "      <td>-0.667386</td>\n",
       "      <td>-0.546804</td>\n",
       "      <td>-0.060239</td>\n",
       "      <td>3</td>\n",
       "      <td>0</td>\n",
       "      <td>2013</td>\n",
       "      <td>12</td>\n",
       "      <td>2</td>\n",
       "      <td>1</td>\n",
       "    </tr>\n",
       "    <tr>\n",
       "      <th>4</th>\n",
       "      <td>-0.382188</td>\n",
       "      <td>-0.667386</td>\n",
       "      <td>-0.442283</td>\n",
       "      <td>1.273779</td>\n",
       "      <td>5</td>\n",
       "      <td>1</td>\n",
       "      <td>2013</td>\n",
       "      <td>12</td>\n",
       "      <td>2</td>\n",
       "      <td>0</td>\n",
       "    </tr>\n",
       "  </tbody>\n",
       "</table>\n",
       "</div>"
      ],
      "text/plain": [
       "   reviewLength  helpfulRatio  wordCount  avgWordLength  overall  class  \\\n",
       "0      1.586360      1.672334   1.817972      -0.693623        2      0   \n",
       "1     -0.091434     -0.667386  -0.115657       0.250952        5      1   \n",
       "2     -0.291625     -0.667386  -0.298567       0.040804        4      1   \n",
       "3     -0.534715     -0.667386  -0.546804      -0.060239        3      0   \n",
       "4     -0.382188     -0.667386  -0.442283       1.273779        5      1   \n",
       "\n",
       "   review_year  review_month  encoded_sentimentLabel  review_day_of_week  \n",
       "0         2013            12                       2                   0  \n",
       "1         2013             1                       2                   0  \n",
       "2         2013             2                       2                   0  \n",
       "3         2013            12                       2                   1  \n",
       "4         2013            12                       2                   0  "
      ]
     },
     "execution_count": 54,
     "metadata": {},
     "output_type": "execute_result"
    }
   ],
   "source": [
    "original_dataframe_part_scaled = pd.concat([odp_num_scaled.reset_index(drop=True), odp_cat.reset_index(drop=True)], axis=1)\n",
    "original_dataframe_part_scaled.head()"
   ]
  },
  {
   "cell_type": "markdown",
   "id": "1d46ff95",
   "metadata": {
    "papermill": {
     "duration": 0.037629,
     "end_time": "2024-12-18T20:01:47.925414",
     "exception": false,
     "start_time": "2024-12-18T20:01:47.887785",
     "status": "completed"
    },
    "tags": []
   },
   "source": [
    "## Combining vectorized text into dataframe"
   ]
  },
  {
   "cell_type": "code",
   "execution_count": 55,
   "id": "fcf2258e",
   "metadata": {
    "execution": {
     "iopub.execute_input": "2024-12-18T20:01:48.003339Z",
     "iopub.status.busy": "2024-12-18T20:01:48.002916Z",
     "iopub.status.idle": "2024-12-18T20:01:59.485026Z",
     "shell.execute_reply": "2024-12-18T20:01:59.483816Z"
    },
    "papermill": {
     "duration": 11.524994,
     "end_time": "2024-12-18T20:01:59.487778",
     "exception": false,
     "start_time": "2024-12-18T20:01:47.962784",
     "status": "completed"
    },
    "tags": []
   },
   "outputs": [
    {
     "data": {
      "text/html": [
       "<div>\n",
       "<style scoped>\n",
       "    .dataframe tbody tr th:only-of-type {\n",
       "        vertical-align: middle;\n",
       "    }\n",
       "\n",
       "    .dataframe tbody tr th {\n",
       "        vertical-align: top;\n",
       "    }\n",
       "\n",
       "    .dataframe thead th {\n",
       "        text-align: right;\n",
       "    }\n",
       "</style>\n",
       "<table border=\"1\" class=\"dataframe\">\n",
       "  <thead>\n",
       "    <tr style=\"text-align: right;\">\n",
       "      <th></th>\n",
       "      <th>reviewLength</th>\n",
       "      <th>helpfulRatio</th>\n",
       "      <th>wordCount</th>\n",
       "      <th>avgWordLength</th>\n",
       "      <th>overall</th>\n",
       "      <th>class</th>\n",
       "      <th>review_year</th>\n",
       "      <th>review_month</th>\n",
       "      <th>encoded_sentimentLabel</th>\n",
       "      <th>review_day_of_week</th>\n",
       "      <th>...</th>\n",
       "      <th>1990</th>\n",
       "      <th>1991</th>\n",
       "      <th>1992</th>\n",
       "      <th>1993</th>\n",
       "      <th>1994</th>\n",
       "      <th>1995</th>\n",
       "      <th>1996</th>\n",
       "      <th>1997</th>\n",
       "      <th>1998</th>\n",
       "      <th>1999</th>\n",
       "    </tr>\n",
       "  </thead>\n",
       "  <tbody>\n",
       "    <tr>\n",
       "      <th>0</th>\n",
       "      <td>1.586360</td>\n",
       "      <td>1.672334</td>\n",
       "      <td>1.817972</td>\n",
       "      <td>-0.693623</td>\n",
       "      <td>2</td>\n",
       "      <td>0</td>\n",
       "      <td>2013</td>\n",
       "      <td>12</td>\n",
       "      <td>2</td>\n",
       "      <td>0</td>\n",
       "      <td>...</td>\n",
       "      <td>0.0</td>\n",
       "      <td>0.0</td>\n",
       "      <td>0.0</td>\n",
       "      <td>0.0</td>\n",
       "      <td>0.0</td>\n",
       "      <td>0.000000</td>\n",
       "      <td>0.0</td>\n",
       "      <td>0.0</td>\n",
       "      <td>0.0</td>\n",
       "      <td>0.0</td>\n",
       "    </tr>\n",
       "    <tr>\n",
       "      <th>1</th>\n",
       "      <td>-0.091434</td>\n",
       "      <td>-0.667386</td>\n",
       "      <td>-0.115657</td>\n",
       "      <td>0.250952</td>\n",
       "      <td>5</td>\n",
       "      <td>1</td>\n",
       "      <td>2013</td>\n",
       "      <td>1</td>\n",
       "      <td>2</td>\n",
       "      <td>0</td>\n",
       "      <td>...</td>\n",
       "      <td>0.0</td>\n",
       "      <td>0.0</td>\n",
       "      <td>0.0</td>\n",
       "      <td>0.0</td>\n",
       "      <td>0.0</td>\n",
       "      <td>0.174751</td>\n",
       "      <td>0.0</td>\n",
       "      <td>0.0</td>\n",
       "      <td>0.0</td>\n",
       "      <td>0.0</td>\n",
       "    </tr>\n",
       "    <tr>\n",
       "      <th>2</th>\n",
       "      <td>-0.291625</td>\n",
       "      <td>-0.667386</td>\n",
       "      <td>-0.298567</td>\n",
       "      <td>0.040804</td>\n",
       "      <td>4</td>\n",
       "      <td>1</td>\n",
       "      <td>2013</td>\n",
       "      <td>2</td>\n",
       "      <td>2</td>\n",
       "      <td>0</td>\n",
       "      <td>...</td>\n",
       "      <td>0.0</td>\n",
       "      <td>0.0</td>\n",
       "      <td>0.0</td>\n",
       "      <td>0.0</td>\n",
       "      <td>0.0</td>\n",
       "      <td>0.000000</td>\n",
       "      <td>0.0</td>\n",
       "      <td>0.0</td>\n",
       "      <td>0.0</td>\n",
       "      <td>0.0</td>\n",
       "    </tr>\n",
       "    <tr>\n",
       "      <th>3</th>\n",
       "      <td>-0.534715</td>\n",
       "      <td>-0.667386</td>\n",
       "      <td>-0.546804</td>\n",
       "      <td>-0.060239</td>\n",
       "      <td>3</td>\n",
       "      <td>0</td>\n",
       "      <td>2013</td>\n",
       "      <td>12</td>\n",
       "      <td>2</td>\n",
       "      <td>1</td>\n",
       "      <td>...</td>\n",
       "      <td>0.0</td>\n",
       "      <td>0.0</td>\n",
       "      <td>0.0</td>\n",
       "      <td>0.0</td>\n",
       "      <td>0.0</td>\n",
       "      <td>0.000000</td>\n",
       "      <td>0.0</td>\n",
       "      <td>0.0</td>\n",
       "      <td>0.0</td>\n",
       "      <td>0.0</td>\n",
       "    </tr>\n",
       "    <tr>\n",
       "      <th>4</th>\n",
       "      <td>-0.382188</td>\n",
       "      <td>-0.667386</td>\n",
       "      <td>-0.442283</td>\n",
       "      <td>1.273779</td>\n",
       "      <td>5</td>\n",
       "      <td>1</td>\n",
       "      <td>2013</td>\n",
       "      <td>12</td>\n",
       "      <td>2</td>\n",
       "      <td>0</td>\n",
       "      <td>...</td>\n",
       "      <td>0.0</td>\n",
       "      <td>0.0</td>\n",
       "      <td>0.0</td>\n",
       "      <td>0.0</td>\n",
       "      <td>0.0</td>\n",
       "      <td>0.000000</td>\n",
       "      <td>0.0</td>\n",
       "      <td>0.0</td>\n",
       "      <td>0.0</td>\n",
       "      <td>0.0</td>\n",
       "    </tr>\n",
       "  </tbody>\n",
       "</table>\n",
       "<p>5 rows × 2010 columns</p>\n",
       "</div>"
      ],
      "text/plain": [
       "   reviewLength  helpfulRatio  wordCount  avgWordLength  overall  class  \\\n",
       "0      1.586360      1.672334   1.817972      -0.693623        2      0   \n",
       "1     -0.091434     -0.667386  -0.115657       0.250952        5      1   \n",
       "2     -0.291625     -0.667386  -0.298567       0.040804        4      1   \n",
       "3     -0.534715     -0.667386  -0.546804      -0.060239        3      0   \n",
       "4     -0.382188     -0.667386  -0.442283       1.273779        5      1   \n",
       "\n",
       "   review_year  review_month  encoded_sentimentLabel  review_day_of_week  ...  \\\n",
       "0         2013            12                       2                   0  ...   \n",
       "1         2013             1                       2                   0  ...   \n",
       "2         2013             2                       2                   0  ...   \n",
       "3         2013            12                       2                   1  ...   \n",
       "4         2013            12                       2                   0  ...   \n",
       "\n",
       "   1990  1991  1992  1993  1994      1995  1996  1997  1998  1999  \n",
       "0   0.0   0.0   0.0   0.0   0.0  0.000000   0.0   0.0   0.0   0.0  \n",
       "1   0.0   0.0   0.0   0.0   0.0  0.174751   0.0   0.0   0.0   0.0  \n",
       "2   0.0   0.0   0.0   0.0   0.0  0.000000   0.0   0.0   0.0   0.0  \n",
       "3   0.0   0.0   0.0   0.0   0.0  0.000000   0.0   0.0   0.0   0.0  \n",
       "4   0.0   0.0   0.0   0.0   0.0  0.000000   0.0   0.0   0.0   0.0  \n",
       "\n",
       "[5 rows x 2010 columns]"
      ]
     },
     "execution_count": 55,
     "metadata": {},
     "output_type": "execute_result"
    }
   ],
   "source": [
    "df_combined = pd.concat([original_dataframe_part_scaled.reset_index(drop=True), df_dense.reset_index(drop=True)], axis=1)\n",
    "\n",
    "# Convert all column names to String\n",
    "df_combined.columns = df_combined.columns.astype(str)\n",
    "\n",
    "# df_combined = original_dataframe_part_scaled\n",
    "# Display the new DataFrame\n",
    "df_combined.head()"
   ]
  },
  {
   "cell_type": "markdown",
   "id": "c302a70b",
   "metadata": {
    "papermill": {
     "duration": 0.037102,
     "end_time": "2024-12-18T20:01:59.562768",
     "exception": false,
     "start_time": "2024-12-18T20:01:59.525666",
     "status": "completed"
    },
    "tags": []
   },
   "source": [
    "## Dropping out unnecessary columns 2"
   ]
  },
  {
   "cell_type": "code",
   "execution_count": 56,
   "id": "e061deed",
   "metadata": {
    "execution": {
     "iopub.execute_input": "2024-12-18T20:01:59.639380Z",
     "iopub.status.busy": "2024-12-18T20:01:59.638957Z",
     "iopub.status.idle": "2024-12-18T20:02:00.451066Z",
     "shell.execute_reply": "2024-12-18T20:02:00.449810Z"
    },
    "papermill": {
     "duration": 0.853388,
     "end_time": "2024-12-18T20:02:00.453507",
     "exception": false,
     "start_time": "2024-12-18T20:01:59.600119",
     "status": "completed"
    },
    "tags": []
   },
   "outputs": [
    {
     "data": {
      "text/html": [
       "<div>\n",
       "<style scoped>\n",
       "    .dataframe tbody tr th:only-of-type {\n",
       "        vertical-align: middle;\n",
       "    }\n",
       "\n",
       "    .dataframe tbody tr th {\n",
       "        vertical-align: top;\n",
       "    }\n",
       "\n",
       "    .dataframe thead th {\n",
       "        text-align: right;\n",
       "    }\n",
       "</style>\n",
       "<table border=\"1\" class=\"dataframe\">\n",
       "  <thead>\n",
       "    <tr style=\"text-align: right;\">\n",
       "      <th></th>\n",
       "      <th>reviewLength</th>\n",
       "      <th>helpfulRatio</th>\n",
       "      <th>wordCount</th>\n",
       "      <th>avgWordLength</th>\n",
       "      <th>overall</th>\n",
       "      <th>class</th>\n",
       "      <th>encoded_sentimentLabel</th>\n",
       "      <th>0</th>\n",
       "      <th>1</th>\n",
       "      <th>2</th>\n",
       "      <th>...</th>\n",
       "      <th>1990</th>\n",
       "      <th>1991</th>\n",
       "      <th>1992</th>\n",
       "      <th>1993</th>\n",
       "      <th>1994</th>\n",
       "      <th>1995</th>\n",
       "      <th>1996</th>\n",
       "      <th>1997</th>\n",
       "      <th>1998</th>\n",
       "      <th>1999</th>\n",
       "    </tr>\n",
       "  </thead>\n",
       "  <tbody>\n",
       "    <tr>\n",
       "      <th>0</th>\n",
       "      <td>1.586360</td>\n",
       "      <td>1.672334</td>\n",
       "      <td>1.817972</td>\n",
       "      <td>-0.693623</td>\n",
       "      <td>2</td>\n",
       "      <td>0</td>\n",
       "      <td>2</td>\n",
       "      <td>0.0</td>\n",
       "      <td>0.0</td>\n",
       "      <td>0.0</td>\n",
       "      <td>...</td>\n",
       "      <td>0.0</td>\n",
       "      <td>0.0</td>\n",
       "      <td>0.0</td>\n",
       "      <td>0.0</td>\n",
       "      <td>0.0</td>\n",
       "      <td>0.000000</td>\n",
       "      <td>0.0</td>\n",
       "      <td>0.0</td>\n",
       "      <td>0.0</td>\n",
       "      <td>0.0</td>\n",
       "    </tr>\n",
       "    <tr>\n",
       "      <th>1</th>\n",
       "      <td>-0.091434</td>\n",
       "      <td>-0.667386</td>\n",
       "      <td>-0.115657</td>\n",
       "      <td>0.250952</td>\n",
       "      <td>5</td>\n",
       "      <td>1</td>\n",
       "      <td>2</td>\n",
       "      <td>0.0</td>\n",
       "      <td>0.0</td>\n",
       "      <td>0.0</td>\n",
       "      <td>...</td>\n",
       "      <td>0.0</td>\n",
       "      <td>0.0</td>\n",
       "      <td>0.0</td>\n",
       "      <td>0.0</td>\n",
       "      <td>0.0</td>\n",
       "      <td>0.174751</td>\n",
       "      <td>0.0</td>\n",
       "      <td>0.0</td>\n",
       "      <td>0.0</td>\n",
       "      <td>0.0</td>\n",
       "    </tr>\n",
       "    <tr>\n",
       "      <th>2</th>\n",
       "      <td>-0.291625</td>\n",
       "      <td>-0.667386</td>\n",
       "      <td>-0.298567</td>\n",
       "      <td>0.040804</td>\n",
       "      <td>4</td>\n",
       "      <td>1</td>\n",
       "      <td>2</td>\n",
       "      <td>0.0</td>\n",
       "      <td>0.0</td>\n",
       "      <td>0.0</td>\n",
       "      <td>...</td>\n",
       "      <td>0.0</td>\n",
       "      <td>0.0</td>\n",
       "      <td>0.0</td>\n",
       "      <td>0.0</td>\n",
       "      <td>0.0</td>\n",
       "      <td>0.000000</td>\n",
       "      <td>0.0</td>\n",
       "      <td>0.0</td>\n",
       "      <td>0.0</td>\n",
       "      <td>0.0</td>\n",
       "    </tr>\n",
       "    <tr>\n",
       "      <th>3</th>\n",
       "      <td>-0.534715</td>\n",
       "      <td>-0.667386</td>\n",
       "      <td>-0.546804</td>\n",
       "      <td>-0.060239</td>\n",
       "      <td>3</td>\n",
       "      <td>0</td>\n",
       "      <td>2</td>\n",
       "      <td>0.0</td>\n",
       "      <td>0.0</td>\n",
       "      <td>0.0</td>\n",
       "      <td>...</td>\n",
       "      <td>0.0</td>\n",
       "      <td>0.0</td>\n",
       "      <td>0.0</td>\n",
       "      <td>0.0</td>\n",
       "      <td>0.0</td>\n",
       "      <td>0.000000</td>\n",
       "      <td>0.0</td>\n",
       "      <td>0.0</td>\n",
       "      <td>0.0</td>\n",
       "      <td>0.0</td>\n",
       "    </tr>\n",
       "    <tr>\n",
       "      <th>4</th>\n",
       "      <td>-0.382188</td>\n",
       "      <td>-0.667386</td>\n",
       "      <td>-0.442283</td>\n",
       "      <td>1.273779</td>\n",
       "      <td>5</td>\n",
       "      <td>1</td>\n",
       "      <td>2</td>\n",
       "      <td>0.0</td>\n",
       "      <td>0.0</td>\n",
       "      <td>0.0</td>\n",
       "      <td>...</td>\n",
       "      <td>0.0</td>\n",
       "      <td>0.0</td>\n",
       "      <td>0.0</td>\n",
       "      <td>0.0</td>\n",
       "      <td>0.0</td>\n",
       "      <td>0.000000</td>\n",
       "      <td>0.0</td>\n",
       "      <td>0.0</td>\n",
       "      <td>0.0</td>\n",
       "      <td>0.0</td>\n",
       "    </tr>\n",
       "  </tbody>\n",
       "</table>\n",
       "<p>5 rows × 2007 columns</p>\n",
       "</div>"
      ],
      "text/plain": [
       "   reviewLength  helpfulRatio  wordCount  avgWordLength  overall  class  \\\n",
       "0      1.586360      1.672334   1.817972      -0.693623        2      0   \n",
       "1     -0.091434     -0.667386  -0.115657       0.250952        5      1   \n",
       "2     -0.291625     -0.667386  -0.298567       0.040804        4      1   \n",
       "3     -0.534715     -0.667386  -0.546804      -0.060239        3      0   \n",
       "4     -0.382188     -0.667386  -0.442283       1.273779        5      1   \n",
       "\n",
       "   encoded_sentimentLabel    0    1    2  ...  1990  1991  1992  1993  1994  \\\n",
       "0                       2  0.0  0.0  0.0  ...   0.0   0.0   0.0   0.0   0.0   \n",
       "1                       2  0.0  0.0  0.0  ...   0.0   0.0   0.0   0.0   0.0   \n",
       "2                       2  0.0  0.0  0.0  ...   0.0   0.0   0.0   0.0   0.0   \n",
       "3                       2  0.0  0.0  0.0  ...   0.0   0.0   0.0   0.0   0.0   \n",
       "4                       2  0.0  0.0  0.0  ...   0.0   0.0   0.0   0.0   0.0   \n",
       "\n",
       "       1995  1996  1997  1998  1999  \n",
       "0  0.000000   0.0   0.0   0.0   0.0  \n",
       "1  0.174751   0.0   0.0   0.0   0.0  \n",
       "2  0.000000   0.0   0.0   0.0   0.0  \n",
       "3  0.000000   0.0   0.0   0.0   0.0  \n",
       "4  0.000000   0.0   0.0   0.0   0.0  \n",
       "\n",
       "[5 rows x 2007 columns]"
      ]
     },
     "execution_count": 56,
     "metadata": {},
     "output_type": "execute_result"
    }
   ],
   "source": [
    "columns_to_drop = ['review_year', 'review_month', 'review_day_of_week']\n",
    "df_combined.drop(columns=columns_to_drop, inplace=True)\n",
    "df_combined.head()"
   ]
  },
  {
   "cell_type": "markdown",
   "id": "6610684d",
   "metadata": {
    "papermill": {
     "duration": 0.037773,
     "end_time": "2024-12-18T20:02:00.529780",
     "exception": false,
     "start_time": "2024-12-18T20:02:00.492007",
     "status": "completed"
    },
    "tags": []
   },
   "source": [
    "# Splitting Training and Testing data"
   ]
  },
  {
   "cell_type": "markdown",
   "id": "634c3307",
   "metadata": {
    "papermill": {
     "duration": 0.037477,
     "end_time": "2024-12-18T20:02:00.605027",
     "exception": false,
     "start_time": "2024-12-18T20:02:00.567550",
     "status": "completed"
    },
    "tags": []
   },
   "source": [
    "**As we are having some categorical atrributes so there arises need for a stratified shuffle split. Thus we will use the scikit-learn's StratifiedShuffleSplit function for splitting our training and testing data.**"
   ]
  },
  {
   "cell_type": "markdown",
   "id": "5edb29bb",
   "metadata": {
    "papermill": {
     "duration": 0.037559,
     "end_time": "2024-12-18T20:02:00.680915",
     "exception": false,
     "start_time": "2024-12-18T20:02:00.643356",
     "status": "completed"
    },
    "tags": []
   },
   "source": [
    "**Stratified shuffle split works only taking one column into consideration. So we will combine various categorical attributes into one and then after splitting, drop it.**"
   ]
  },
  {
   "cell_type": "markdown",
   "id": "83da0aa1",
   "metadata": {
    "papermill": {
     "duration": 0.037971,
     "end_time": "2024-12-18T20:02:00.757912",
     "exception": false,
     "start_time": "2024-12-18T20:02:00.719941",
     "status": "completed"
    },
    "tags": []
   },
   "source": [
    "## Applying Stratified Shuffle Split"
   ]
  },
  {
   "cell_type": "code",
   "execution_count": 57,
   "id": "7cbe1e03",
   "metadata": {
    "execution": {
     "iopub.execute_input": "2024-12-18T20:02:00.835307Z",
     "iopub.status.busy": "2024-12-18T20:02:00.834891Z",
     "iopub.status.idle": "2024-12-18T20:02:08.951567Z",
     "shell.execute_reply": "2024-12-18T20:02:08.950323Z"
    },
    "papermill": {
     "duration": 8.158544,
     "end_time": "2024-12-18T20:02:08.954047",
     "exception": false,
     "start_time": "2024-12-18T20:02:00.795503",
     "status": "completed"
    },
    "tags": []
   },
   "outputs": [
    {
     "name": "stdout",
     "output_type": "stream",
     "text": [
      "overall\n",
      "5    81855\n",
      "4    24595\n",
      "3     8362\n",
      "1     8248\n",
      "2     4932\n",
      "Name: count, dtype: int64\n",
      "overall\n",
      "5    20464\n",
      "4     6149\n",
      "3     2090\n",
      "1     2062\n",
      "2     1233\n",
      "Name: count, dtype: int64\n",
      "class\n",
      "1    106450\n",
      "0     21542\n",
      "Name: count, dtype: int64\n",
      "class\n",
      "1    26613\n",
      "0     5385\n",
      "Name: count, dtype: int64\n",
      "encoded_sentimentLabel\n",
      "2    113654\n",
      "0     11360\n",
      "1      2978\n",
      "Name: count, dtype: int64\n",
      "encoded_sentimentLabel\n",
      "2    28414\n",
      "0     2839\n",
      "1      745\n",
      "Name: count, dtype: int64\n"
     ]
    }
   ],
   "source": [
    "from sklearn.model_selection import StratifiedShuffleSplit\n",
    "\n",
    "# Example categorical columns to stratify by\n",
    "df_combined['stratify_col'] = df_combined[['overall', 'class', 'encoded_sentimentLabel']].astype(str).agg('_'.join, axis=1)\n",
    "\n",
    "# Initialize the split object\n",
    "split = StratifiedShuffleSplit(n_splits=1, test_size=0.2, random_state=42)\n",
    "\n",
    "# Perform the split using the combined column\n",
    "for strat_train_index, strat_test_index in split.split(df_combined, df_combined['stratify_col']):\n",
    "    strat_train_set = df_combined.loc[strat_train_index].drop(columns=['stratify_col']).reset_index(drop=True)\n",
    "    strat_test_set = df_combined.loc[strat_test_index].drop(columns=['stratify_col']).reset_index(drop=True)\n",
    "\n",
    "# Optional: Verify the distribution\n",
    "print(strat_train_set['overall'].value_counts())\n",
    "print(strat_test_set['overall'].value_counts())\n",
    "\n",
    "print(strat_train_set['class'].value_counts())\n",
    "print(strat_test_set['class'].value_counts())\n",
    "\n",
    "print(strat_train_set['encoded_sentimentLabel'].value_counts())\n",
    "print(strat_test_set['encoded_sentimentLabel'].value_counts())"
   ]
  },
  {
   "cell_type": "markdown",
   "id": "6f836df3",
   "metadata": {
    "papermill": {
     "duration": 0.0376,
     "end_time": "2024-12-18T20:02:09.031612",
     "exception": false,
     "start_time": "2024-12-18T20:02:08.994012",
     "status": "completed"
    },
    "tags": []
   },
   "source": [
    "## Taking out a validation set"
   ]
  },
  {
   "cell_type": "code",
   "execution_count": 58,
   "id": "b0b1eb0c",
   "metadata": {
    "execution": {
     "iopub.execute_input": "2024-12-18T20:02:09.109594Z",
     "iopub.status.busy": "2024-12-18T20:02:09.108813Z",
     "iopub.status.idle": "2024-12-18T20:02:09.114529Z",
     "shell.execute_reply": "2024-12-18T20:02:09.113346Z"
    },
    "papermill": {
     "duration": 0.047434,
     "end_time": "2024-12-18T20:02:09.116909",
     "exception": false,
     "start_time": "2024-12-18T20:02:09.069475",
     "status": "completed"
    },
    "tags": []
   },
   "outputs": [],
   "source": [
    "# strat_train_set['stratify_col'] = strat_train_set[['overall', 'class', 'encoded_sentimentLabel']].astype(str).agg('_'.join, axis=1)\n",
    "\n",
    "# # Initialize the split object for the train-validation split\n",
    "# split = StratifiedShuffleSplit(n_splits=1, test_size=0.05, random_state=42)\n",
    "\n",
    "# # Perform the train-validation split\n",
    "# for train_index, strat_val_index in split.split(strat_train_set, strat_train_set['stratify_col']):\n",
    "#     train_set = strat_train_set.loc[train_index].drop(columns=['stratify_col']).reset_index(drop=True)\n",
    "#     strat_val_set = strat_train_set.loc[strat_val_index].drop(columns=['stratify_col']).reset_index(drop=True)\n",
    "\n",
    "# # dropping out 'stratify_col' from strat_train_set\n",
    "# strat_train_set = strat_train_set.drop(columns=['stratify_col'])\n",
    "\n",
    "# # Optional: Verify the distribution\n",
    "# print(train_set['overall'].value_counts())\n",
    "# print(strat_val_set['overall'].value_counts())\n",
    "\n",
    "# print(train_set['class'].value_counts())\n",
    "# print(strat_val_set['class'].value_counts())\n",
    "\n",
    "# print(train_set['encoded_sentimentLabel'].value_counts())\n",
    "# print(strat_val_set['encoded_sentimentLabel'].value_counts())"
   ]
  },
  {
   "cell_type": "markdown",
   "id": "d9bf76d2",
   "metadata": {
    "papermill": {
     "duration": 0.037973,
     "end_time": "2024-12-18T20:02:09.193290",
     "exception": false,
     "start_time": "2024-12-18T20:02:09.155317",
     "status": "completed"
    },
    "tags": []
   },
   "source": [
    "**Now what we have is:**\n",
    "* ****strat_train_set****\n",
    "<!-- * **strat_val_set** -->\n",
    "* **strat_test_set**"
   ]
  },
  {
   "cell_type": "markdown",
   "id": "80e00600",
   "metadata": {
    "papermill": {
     "duration": 0.038885,
     "end_time": "2024-12-18T20:02:09.270831",
     "exception": false,
     "start_time": "2024-12-18T20:02:09.231946",
     "status": "completed"
    },
    "tags": []
   },
   "source": [
    "# Separating Feature(s) and Label(s)"
   ]
  },
  {
   "cell_type": "code",
   "execution_count": 59,
   "id": "2f712f6c",
   "metadata": {
    "execution": {
     "iopub.execute_input": "2024-12-18T20:02:09.349481Z",
     "iopub.status.busy": "2024-12-18T20:02:09.348904Z",
     "iopub.status.idle": "2024-12-18T20:02:10.157864Z",
     "shell.execute_reply": "2024-12-18T20:02:10.156691Z"
    },
    "papermill": {
     "duration": 0.85261,
     "end_time": "2024-12-18T20:02:10.161350",
     "exception": false,
     "start_time": "2024-12-18T20:02:09.308740",
     "status": "completed"
    },
    "tags": []
   },
   "outputs": [
    {
     "name": "stdout",
     "output_type": "stream",
     "text": [
      "X_train shape: (127992, 2006)\n",
      "y_train shape: (127992,)\n",
      "\n",
      "------------------------------------------------------------\n",
      "\n",
      "X_test shape: (31998, 2006)\n",
      "y_test shape: (31998,)\n"
     ]
    }
   ],
   "source": [
    "#The label column is the second column in both DataFrames i.e. named as 'class'\n",
    "label_column = strat_train_set.columns[5]\n",
    "\n",
    "# Separating features and labels for the training set\n",
    "X_train = strat_train_set.drop(columns=[label_column])\n",
    "y_train = strat_train_set[label_column]\n",
    "\n",
    "# Separating features and labels for the validation set\n",
    "# X_val = strat_val_set.drop(columns=[label_column])\n",
    "# y_val = strat_val_set[label_column]\n",
    "\n",
    "# Separating features and labels for the test set\n",
    "X_test = strat_test_set.drop(columns=[label_column])\n",
    "y_test = strat_test_set[label_column]\n",
    "\n",
    "# Display the shapes of the resulting sets\n",
    "print(\"X_train shape:\", X_train.shape)\n",
    "print(\"y_train shape:\", y_train.shape)\n",
    "print(\"\\n\" + \"-\"*60 + \"\\n\")\n",
    "# print(\"X_val shape:\", X_val.shape)\n",
    "# print(\"y_val shape:\", y_val.shape)\n",
    "# print(\"\\n\" + \"-\"*60 + \"\\n\")\n",
    "print(\"X_test shape:\", X_test.shape)\n",
    "print(\"y_test shape:\", y_test.shape)"
   ]
  },
  {
   "cell_type": "code",
   "execution_count": 60,
   "id": "4e9a90e3",
   "metadata": {
    "execution": {
     "iopub.execute_input": "2024-12-18T20:02:10.266772Z",
     "iopub.status.busy": "2024-12-18T20:02:10.266383Z",
     "iopub.status.idle": "2024-12-18T20:02:10.319477Z",
     "shell.execute_reply": "2024-12-18T20:02:10.317823Z"
    },
    "papermill": {
     "duration": 0.105863,
     "end_time": "2024-12-18T20:02:10.322525",
     "exception": false,
     "start_time": "2024-12-18T20:02:10.216662",
     "status": "completed"
    },
    "tags": []
   },
   "outputs": [
    {
     "data": {
      "text/html": [
       "<div>\n",
       "<style scoped>\n",
       "    .dataframe tbody tr th:only-of-type {\n",
       "        vertical-align: middle;\n",
       "    }\n",
       "\n",
       "    .dataframe tbody tr th {\n",
       "        vertical-align: top;\n",
       "    }\n",
       "\n",
       "    .dataframe thead th {\n",
       "        text-align: right;\n",
       "    }\n",
       "</style>\n",
       "<table border=\"1\" class=\"dataframe\">\n",
       "  <thead>\n",
       "    <tr style=\"text-align: right;\">\n",
       "      <th></th>\n",
       "      <th>reviewLength</th>\n",
       "      <th>helpfulRatio</th>\n",
       "      <th>wordCount</th>\n",
       "      <th>avgWordLength</th>\n",
       "      <th>overall</th>\n",
       "      <th>encoded_sentimentLabel</th>\n",
       "      <th>0</th>\n",
       "      <th>1</th>\n",
       "      <th>2</th>\n",
       "      <th>3</th>\n",
       "      <th>...</th>\n",
       "      <th>1990</th>\n",
       "      <th>1991</th>\n",
       "      <th>1992</th>\n",
       "      <th>1993</th>\n",
       "      <th>1994</th>\n",
       "      <th>1995</th>\n",
       "      <th>1996</th>\n",
       "      <th>1997</th>\n",
       "      <th>1998</th>\n",
       "      <th>1999</th>\n",
       "    </tr>\n",
       "  </thead>\n",
       "  <tbody>\n",
       "    <tr>\n",
       "      <th>0</th>\n",
       "      <td>-0.170081</td>\n",
       "      <td>-0.667386</td>\n",
       "      <td>-0.115657</td>\n",
       "      <td>-0.824511</td>\n",
       "      <td>4</td>\n",
       "      <td>2</td>\n",
       "      <td>0.0</td>\n",
       "      <td>0.0</td>\n",
       "      <td>0.0</td>\n",
       "      <td>0.0</td>\n",
       "      <td>...</td>\n",
       "      <td>0.0</td>\n",
       "      <td>0.0</td>\n",
       "      <td>0.0</td>\n",
       "      <td>0.0</td>\n",
       "      <td>0.0</td>\n",
       "      <td>0.000000</td>\n",
       "      <td>0.0</td>\n",
       "      <td>0.0</td>\n",
       "      <td>0.0</td>\n",
       "      <td>0.0</td>\n",
       "    </tr>\n",
       "    <tr>\n",
       "      <th>1</th>\n",
       "      <td>-0.437002</td>\n",
       "      <td>-0.667386</td>\n",
       "      <td>-0.376958</td>\n",
       "      <td>-1.755756</td>\n",
       "      <td>5</td>\n",
       "      <td>2</td>\n",
       "      <td>0.0</td>\n",
       "      <td>0.0</td>\n",
       "      <td>0.0</td>\n",
       "      <td>0.0</td>\n",
       "      <td>...</td>\n",
       "      <td>0.0</td>\n",
       "      <td>0.0</td>\n",
       "      <td>0.0</td>\n",
       "      <td>0.0</td>\n",
       "      <td>0.0</td>\n",
       "      <td>0.257572</td>\n",
       "      <td>0.0</td>\n",
       "      <td>0.0</td>\n",
       "      <td>0.0</td>\n",
       "      <td>0.0</td>\n",
       "    </tr>\n",
       "    <tr>\n",
       "      <th>2</th>\n",
       "      <td>-0.139099</td>\n",
       "      <td>1.672334</td>\n",
       "      <td>-0.076461</td>\n",
       "      <td>-1.024393</td>\n",
       "      <td>5</td>\n",
       "      <td>2</td>\n",
       "      <td>0.0</td>\n",
       "      <td>0.0</td>\n",
       "      <td>0.0</td>\n",
       "      <td>0.0</td>\n",
       "      <td>...</td>\n",
       "      <td>0.0</td>\n",
       "      <td>0.0</td>\n",
       "      <td>0.0</td>\n",
       "      <td>0.0</td>\n",
       "      <td>0.0</td>\n",
       "      <td>0.000000</td>\n",
       "      <td>0.0</td>\n",
       "      <td>0.0</td>\n",
       "      <td>0.0</td>\n",
       "      <td>0.0</td>\n",
       "    </tr>\n",
       "    <tr>\n",
       "      <th>3</th>\n",
       "      <td>0.742696</td>\n",
       "      <td>1.672334</td>\n",
       "      <td>0.563726</td>\n",
       "      <td>1.647819</td>\n",
       "      <td>5</td>\n",
       "      <td>2</td>\n",
       "      <td>0.0</td>\n",
       "      <td>0.0</td>\n",
       "      <td>0.0</td>\n",
       "      <td>0.0</td>\n",
       "      <td>...</td>\n",
       "      <td>0.0</td>\n",
       "      <td>0.0</td>\n",
       "      <td>0.0</td>\n",
       "      <td>0.0</td>\n",
       "      <td>0.0</td>\n",
       "      <td>0.000000</td>\n",
       "      <td>0.0</td>\n",
       "      <td>0.0</td>\n",
       "      <td>0.0</td>\n",
       "      <td>0.0</td>\n",
       "    </tr>\n",
       "    <tr>\n",
       "      <th>4</th>\n",
       "      <td>0.206470</td>\n",
       "      <td>-0.667386</td>\n",
       "      <td>0.263230</td>\n",
       "      <td>-0.553137</td>\n",
       "      <td>5</td>\n",
       "      <td>2</td>\n",
       "      <td>0.0</td>\n",
       "      <td>0.0</td>\n",
       "      <td>0.0</td>\n",
       "      <td>0.0</td>\n",
       "      <td>...</td>\n",
       "      <td>0.0</td>\n",
       "      <td>0.0</td>\n",
       "      <td>0.0</td>\n",
       "      <td>0.0</td>\n",
       "      <td>0.0</td>\n",
       "      <td>0.000000</td>\n",
       "      <td>0.0</td>\n",
       "      <td>0.0</td>\n",
       "      <td>0.0</td>\n",
       "      <td>0.0</td>\n",
       "    </tr>\n",
       "    <tr>\n",
       "      <th>...</th>\n",
       "      <td>...</td>\n",
       "      <td>...</td>\n",
       "      <td>...</td>\n",
       "      <td>...</td>\n",
       "      <td>...</td>\n",
       "      <td>...</td>\n",
       "      <td>...</td>\n",
       "      <td>...</td>\n",
       "      <td>...</td>\n",
       "      <td>...</td>\n",
       "      <td>...</td>\n",
       "      <td>...</td>\n",
       "      <td>...</td>\n",
       "      <td>...</td>\n",
       "      <td>...</td>\n",
       "      <td>...</td>\n",
       "      <td>...</td>\n",
       "      <td>...</td>\n",
       "      <td>...</td>\n",
       "      <td>...</td>\n",
       "      <td>...</td>\n",
       "    </tr>\n",
       "    <tr>\n",
       "      <th>127987</th>\n",
       "      <td>-0.546631</td>\n",
       "      <td>-0.667386</td>\n",
       "      <td>-0.585999</td>\n",
       "      <td>0.851728</td>\n",
       "      <td>5</td>\n",
       "      <td>2</td>\n",
       "      <td>0.0</td>\n",
       "      <td>0.0</td>\n",
       "      <td>0.0</td>\n",
       "      <td>0.0</td>\n",
       "      <td>...</td>\n",
       "      <td>0.0</td>\n",
       "      <td>0.0</td>\n",
       "      <td>0.0</td>\n",
       "      <td>0.0</td>\n",
       "      <td>0.0</td>\n",
       "      <td>0.000000</td>\n",
       "      <td>0.0</td>\n",
       "      <td>0.0</td>\n",
       "      <td>0.0</td>\n",
       "      <td>0.0</td>\n",
       "    </tr>\n",
       "    <tr>\n",
       "      <th>127988</th>\n",
       "      <td>-0.489433</td>\n",
       "      <td>-0.667386</td>\n",
       "      <td>-0.481478</td>\n",
       "      <td>-0.676172</td>\n",
       "      <td>3</td>\n",
       "      <td>2</td>\n",
       "      <td>0.0</td>\n",
       "      <td>0.0</td>\n",
       "      <td>0.0</td>\n",
       "      <td>0.0</td>\n",
       "      <td>...</td>\n",
       "      <td>0.0</td>\n",
       "      <td>0.0</td>\n",
       "      <td>0.0</td>\n",
       "      <td>0.0</td>\n",
       "      <td>0.0</td>\n",
       "      <td>0.000000</td>\n",
       "      <td>0.0</td>\n",
       "      <td>0.0</td>\n",
       "      <td>0.0</td>\n",
       "      <td>0.0</td>\n",
       "    </tr>\n",
       "    <tr>\n",
       "      <th>127989</th>\n",
       "      <td>-0.472751</td>\n",
       "      <td>-0.667386</td>\n",
       "      <td>-0.468413</td>\n",
       "      <td>-0.458777</td>\n",
       "      <td>5</td>\n",
       "      <td>2</td>\n",
       "      <td>0.0</td>\n",
       "      <td>0.0</td>\n",
       "      <td>0.0</td>\n",
       "      <td>0.0</td>\n",
       "      <td>...</td>\n",
       "      <td>0.0</td>\n",
       "      <td>0.0</td>\n",
       "      <td>0.0</td>\n",
       "      <td>0.0</td>\n",
       "      <td>0.0</td>\n",
       "      <td>0.000000</td>\n",
       "      <td>0.0</td>\n",
       "      <td>0.0</td>\n",
       "      <td>0.0</td>\n",
       "      <td>0.0</td>\n",
       "    </tr>\n",
       "    <tr>\n",
       "      <th>127990</th>\n",
       "      <td>1.333737</td>\n",
       "      <td>1.468880</td>\n",
       "      <td>1.465215</td>\n",
       "      <td>-0.426005</td>\n",
       "      <td>5</td>\n",
       "      <td>2</td>\n",
       "      <td>0.0</td>\n",
       "      <td>0.0</td>\n",
       "      <td>0.0</td>\n",
       "      <td>0.0</td>\n",
       "      <td>...</td>\n",
       "      <td>0.0</td>\n",
       "      <td>0.0</td>\n",
       "      <td>0.0</td>\n",
       "      <td>0.0</td>\n",
       "      <td>0.0</td>\n",
       "      <td>0.000000</td>\n",
       "      <td>0.0</td>\n",
       "      <td>0.0</td>\n",
       "      <td>0.0</td>\n",
       "      <td>0.0</td>\n",
       "    </tr>\n",
       "    <tr>\n",
       "      <th>127991</th>\n",
       "      <td>0.532972</td>\n",
       "      <td>-0.667386</td>\n",
       "      <td>0.524531</td>\n",
       "      <td>0.268259</td>\n",
       "      <td>5</td>\n",
       "      <td>2</td>\n",
       "      <td>0.0</td>\n",
       "      <td>0.0</td>\n",
       "      <td>0.0</td>\n",
       "      <td>0.0</td>\n",
       "      <td>...</td>\n",
       "      <td>0.0</td>\n",
       "      <td>0.0</td>\n",
       "      <td>0.0</td>\n",
       "      <td>0.0</td>\n",
       "      <td>0.0</td>\n",
       "      <td>0.000000</td>\n",
       "      <td>0.0</td>\n",
       "      <td>0.0</td>\n",
       "      <td>0.0</td>\n",
       "      <td>0.0</td>\n",
       "    </tr>\n",
       "  </tbody>\n",
       "</table>\n",
       "<p>127992 rows × 2006 columns</p>\n",
       "</div>"
      ],
      "text/plain": [
       "        reviewLength  helpfulRatio  wordCount  avgWordLength  overall  \\\n",
       "0          -0.170081     -0.667386  -0.115657      -0.824511        4   \n",
       "1          -0.437002     -0.667386  -0.376958      -1.755756        5   \n",
       "2          -0.139099      1.672334  -0.076461      -1.024393        5   \n",
       "3           0.742696      1.672334   0.563726       1.647819        5   \n",
       "4           0.206470     -0.667386   0.263230      -0.553137        5   \n",
       "...              ...           ...        ...            ...      ...   \n",
       "127987     -0.546631     -0.667386  -0.585999       0.851728        5   \n",
       "127988     -0.489433     -0.667386  -0.481478      -0.676172        3   \n",
       "127989     -0.472751     -0.667386  -0.468413      -0.458777        5   \n",
       "127990      1.333737      1.468880   1.465215      -0.426005        5   \n",
       "127991      0.532972     -0.667386   0.524531       0.268259        5   \n",
       "\n",
       "        encoded_sentimentLabel    0    1    2    3  ...  1990  1991  1992  \\\n",
       "0                            2  0.0  0.0  0.0  0.0  ...   0.0   0.0   0.0   \n",
       "1                            2  0.0  0.0  0.0  0.0  ...   0.0   0.0   0.0   \n",
       "2                            2  0.0  0.0  0.0  0.0  ...   0.0   0.0   0.0   \n",
       "3                            2  0.0  0.0  0.0  0.0  ...   0.0   0.0   0.0   \n",
       "4                            2  0.0  0.0  0.0  0.0  ...   0.0   0.0   0.0   \n",
       "...                        ...  ...  ...  ...  ...  ...   ...   ...   ...   \n",
       "127987                       2  0.0  0.0  0.0  0.0  ...   0.0   0.0   0.0   \n",
       "127988                       2  0.0  0.0  0.0  0.0  ...   0.0   0.0   0.0   \n",
       "127989                       2  0.0  0.0  0.0  0.0  ...   0.0   0.0   0.0   \n",
       "127990                       2  0.0  0.0  0.0  0.0  ...   0.0   0.0   0.0   \n",
       "127991                       2  0.0  0.0  0.0  0.0  ...   0.0   0.0   0.0   \n",
       "\n",
       "        1993  1994      1995  1996  1997  1998  1999  \n",
       "0        0.0   0.0  0.000000   0.0   0.0   0.0   0.0  \n",
       "1        0.0   0.0  0.257572   0.0   0.0   0.0   0.0  \n",
       "2        0.0   0.0  0.000000   0.0   0.0   0.0   0.0  \n",
       "3        0.0   0.0  0.000000   0.0   0.0   0.0   0.0  \n",
       "4        0.0   0.0  0.000000   0.0   0.0   0.0   0.0  \n",
       "...      ...   ...       ...   ...   ...   ...   ...  \n",
       "127987   0.0   0.0  0.000000   0.0   0.0   0.0   0.0  \n",
       "127988   0.0   0.0  0.000000   0.0   0.0   0.0   0.0  \n",
       "127989   0.0   0.0  0.000000   0.0   0.0   0.0   0.0  \n",
       "127990   0.0   0.0  0.000000   0.0   0.0   0.0   0.0  \n",
       "127991   0.0   0.0  0.000000   0.0   0.0   0.0   0.0  \n",
       "\n",
       "[127992 rows x 2006 columns]"
      ]
     },
     "execution_count": 60,
     "metadata": {},
     "output_type": "execute_result"
    }
   ],
   "source": [
    "X_train"
   ]
  },
  {
   "cell_type": "markdown",
   "id": "604b4679",
   "metadata": {
    "papermill": {
     "duration": 0.03802,
     "end_time": "2024-12-18T20:02:10.405686",
     "exception": false,
     "start_time": "2024-12-18T20:02:10.367666",
     "status": "completed"
    },
    "tags": []
   },
   "source": [
    "# Trying out different ML models for training"
   ]
  },
  {
   "cell_type": "markdown",
   "id": "348ceb73",
   "metadata": {
    "papermill": {
     "duration": 0.039345,
     "end_time": "2024-12-18T20:02:10.483624",
     "exception": false,
     "start_time": "2024-12-18T20:02:10.444279",
     "status": "completed"
    },
    "tags": []
   },
   "source": [
    "## Importing various Classifiers"
   ]
  },
  {
   "cell_type": "code",
   "execution_count": 61,
   "id": "d32f72f1",
   "metadata": {
    "execution": {
     "iopub.execute_input": "2024-12-18T20:02:10.565871Z",
     "iopub.status.busy": "2024-12-18T20:02:10.565466Z",
     "iopub.status.idle": "2024-12-18T20:02:10.571701Z",
     "shell.execute_reply": "2024-12-18T20:02:10.570539Z"
    },
    "papermill": {
     "duration": 0.050673,
     "end_time": "2024-12-18T20:02:10.574646",
     "exception": false,
     "start_time": "2024-12-18T20:02:10.523973",
     "status": "completed"
    },
    "tags": []
   },
   "outputs": [],
   "source": [
    "from sklearn.linear_model import LogisticRegression\n",
    "# from sklearn.svm import SVC\n",
    "# from sklearn.ensemble import RandomForestClassifier, GradientBoostingClassifier\n",
    "# from sklearn.neighbors import KNeighborsClassifier\n",
    "\n",
    "\n",
    "# Define the classifiers\n",
    "classifiers = {\n",
    "    # \"Logistic Regression 1\": LogisticRegression(max_iter=1000, C=0.0001, penalty=\"l2\", solver=\"saga\"),\n",
    "    # \"Logistic Regression 2\": LogisticRegression(max_iter=1000, C=0.0002, penalty=\"l2\", solver=\"saga\"),\n",
    "    \"Logistic Regression 3\": LogisticRegression(max_iter=1000, C=0.0003, penalty=\"l2\", solver=\"saga\"),\n",
    "    # \"Logistic Regression 4\": LogisticRegression(max_iter=1000, C=0.0004, penalty=\"l2\", solver=\"saga\"),\n",
    "    # \"Logistic Regression 5\": LogisticRegression(max_iter=1000, C=0.0005, penalty=\"l2\", solver=\"saga\"),\n",
    "    # \"Support Vector Machine 1\": SVC(C=0.001, kernel=\"poly\"),\n",
    "    # \"Support Vector Machine 2\": SVC(C=0.001, kernel=\"rbf\"),\n",
    "    # \"Support Vector Machine 3\": SVC(C=0.001, kernel=\"sigmoid\"),\n",
    "\n",
    "    # \"Support Vector Machine 1\": SVC(C=0.0001, kernel=\"poly\"),\n",
    "    # \"Support Vector Machine 2\": SVC(C=0.0001, kernel=\"rbf\"),\n",
    "    # \"Support Vector Machine 3\": SVC(C=0.0001, kernel=\"sigmoid\"),\n",
    "}"
   ]
  },
  {
   "cell_type": "markdown",
   "id": "9937bcf7",
   "metadata": {
    "papermill": {
     "duration": 0.03956,
     "end_time": "2024-12-18T20:02:10.653881",
     "exception": false,
     "start_time": "2024-12-18T20:02:10.614321",
     "status": "completed"
    },
    "tags": []
   },
   "source": [
    "## Performing cross validation"
   ]
  },
  {
   "cell_type": "code",
   "execution_count": 62,
   "id": "f3e38807",
   "metadata": {
    "execution": {
     "iopub.execute_input": "2024-12-18T20:02:10.735796Z",
     "iopub.status.busy": "2024-12-18T20:02:10.735408Z",
     "iopub.status.idle": "2024-12-18T20:12:08.270305Z",
     "shell.execute_reply": "2024-12-18T20:12:08.265599Z"
    },
    "papermill": {
     "duration": 597.662307,
     "end_time": "2024-12-18T20:12:08.355719",
     "exception": false,
     "start_time": "2024-12-18T20:02:10.693412",
     "status": "completed"
    },
    "tags": []
   },
   "outputs": [
    {
     "name": "stdout",
     "output_type": "stream",
     "text": [
      "Evaluating Logistic Regression 3...\n",
      "Cross-validation scores for Logistic Regression 3: [0.95421696 0.95367007 0.9545277  0.95417611 0.95151965]\n",
      "Mean cross-validation score for Logistic Regression 3: 0.95\n",
      "\n",
      "------------------------------------------------------------\n",
      "\n"
     ]
    }
   ],
   "source": [
    "from sklearn.model_selection import cross_val_score\n",
    "\n",
    "n_folds = 5\n",
    "\n",
    "# Evaluate each classifier using cross-validation\n",
    "for name, clf in classifiers.items():\n",
    "    print(f\"Evaluating {name}...\")\n",
    "    cv_scores = cross_val_score(clf, X_train, y_train, cv=n_folds)\n",
    "    print(f\"Cross-validation scores for {name}: {cv_scores}\")\n",
    "    print(f\"Mean cross-validation score for {name}: {cv_scores.mean():.2f}\")\n",
    "    print(\"\\n\" + \"-\"*60 + \"\\n\")"
   ]
  },
  {
   "cell_type": "markdown",
   "id": "2cc375be",
   "metadata": {
    "papermill": {
     "duration": 0.03986,
     "end_time": "2024-12-18T20:12:08.438450",
     "exception": false,
     "start_time": "2024-12-18T20:12:08.398590",
     "status": "completed"
    },
    "tags": []
   },
   "source": [
    "## Analysis of Cross Validation results"
   ]
  },
  {
   "cell_type": "markdown",
   "id": "f2c74991",
   "metadata": {
    "papermill": {
     "duration": 0.04016,
     "end_time": "2024-12-18T20:12:08.519025",
     "exception": false,
     "start_time": "2024-12-18T20:12:08.478865",
     "status": "completed"
    },
    "tags": []
   },
   "source": [
    "Evaluating Logistic Regression 1...\r\n",
    "Cross-validation scores for Logistic Regression 1: [0.93554436 0.93499746 0.93530745 0.93687007 0.93304164]\r\n",
    "Mean cross-validation score for Logistic Regression 1: 0.94\r\n",
    "\r\n",
    "------------------------------------------------------------\r\n",
    "\r\n",
    "Evaluating Logistic Regression 2...\r\n",
    "Cross-validation scores for Logistic Regression 2: [0.94878706 0.94808391 0.94952731 0.94933198 0.94640206]\r\n",
    "Mean cross-validation score for Logistic Regression 2: 0.95\r\n",
    "\r\n",
    "------------------------------------------------------------\r\n",
    "\r\n",
    "Evaluating Logistic Regression 3...\r\n",
    "Cross-validation scores for Logistic Regression 3: [0.95421696 0.95367007 0.9545277  0.95417611 0.95151965]\r\n",
    "Mean cross-validation score for Logistic Regression 3: 0.95\r\n",
    "\r\n",
    "--------------------------------------------\n",
    "\n",
    "Evaluating Logistic Regression 4...\r\n",
    "Cross-validation scores for Logistic Regression 4: [0.98531193 0.98722606 0.98929604 0.98745996 0.98538948]\r\n",
    "Mean cross-validation score for Logistic Regression 4: 0.99\r\n",
    "\r\n",
    "------------------------------------------------------------\r\n",
    "\r\n",
    "Evaluating Logistic Regression 5...\r\n",
    "Cross-validation scores for Logistic Regression 5: [0.99992187 0.99992187 0.9998828  0.99996093 0.99976561]\r\n",
    "Mean cross-validation score for Logistic Regression 5: 1.00\r\n",
    "\r\n",
    "----------------------------------------------------------------------------\n"
   ]
  },
  {
   "cell_type": "markdown",
   "id": "44b42387",
   "metadata": {
    "papermill": {
     "duration": 0.039243,
     "end_time": "2024-12-18T20:12:08.598286",
     "exception": false,
     "start_time": "2024-12-18T20:12:08.559043",
     "status": "completed"
    },
    "tags": []
   },
   "source": [
    "## Calculating accuaracy, confusion matrix and classification report and model dumping"
   ]
  },
  {
   "cell_type": "code",
   "execution_count": 63,
   "id": "9030cf3d",
   "metadata": {
    "execution": {
     "iopub.execute_input": "2024-12-18T20:12:08.680001Z",
     "iopub.status.busy": "2024-12-18T20:12:08.679567Z",
     "iopub.status.idle": "2024-12-18T20:14:31.001742Z",
     "shell.execute_reply": "2024-12-18T20:14:31.000427Z"
    },
    "papermill": {
     "duration": 142.365961,
     "end_time": "2024-12-18T20:14:31.004020",
     "exception": false,
     "start_time": "2024-12-18T20:12:08.638059",
     "status": "completed"
    },
    "tags": []
   },
   "outputs": [
    {
     "name": "stdout",
     "output_type": "stream",
     "text": [
      "Training Logistic Regression 3...\n",
      "Evaluating Logistic Regression 3...\n",
      "Accuracy for Logistic Regression 3: 0.97\n"
     ]
    },
    {
     "data": {
      "image/png": "[encoded data removed]",
      "text/plain": [
       "<Figure size 800x600 with 2 Axes>"
      ]
     },
     "metadata": {},
     "output_type": "display_data"
    },
    {
     "name": "stdout",
     "output_type": "stream",
     "text": [
      "Classification Report for Logistic Regression 3:\n",
      "              precision    recall  f1-score   support\n",
      "\n",
      "           0       1.00      0.83      0.91      5385\n",
      "           1       0.97      1.00      0.98     26613\n",
      "\n",
      "    accuracy                           0.97     31998\n",
      "   macro avg       0.98      0.92      0.95     31998\n",
      "weighted avg       0.97      0.97      0.97     31998\n",
      "\n"
     ]
    }
   ],
   "source": [
    "from sklearn.metrics import accuracy_score, confusion_matrix, classification_report\n",
    "import joblib\n",
    "\n",
    "for name, clf in classifiers.items():\n",
    "    print(f\"Training {name}...\")\n",
    "    clf.fit(X_train, y_train)  # Train the classifier on the strat_train_set\n",
    "    y_pred = clf.predict(X_test)  # Predict on the test set\n",
    "    \n",
    "    print(f\"Evaluating {name}...\")\n",
    "    \n",
    "    # Accuracy\n",
    "    accuracy = accuracy_score(y_test, y_pred)\n",
    "    print(f\"Accuracy for {name}: {accuracy:.2f}\")\n",
    "    \n",
    "    # Confusion Matrix\n",
    "    cm = confusion_matrix(y_test, y_pred)\n",
    "\n",
    "    # Plot the heatmap\n",
    "    plt.figure(figsize=(8, 6))\n",
    "    sns.heatmap(cm, annot=True, fmt='d', cmap='Blues', xticklabels=['Class 0', 'Class 1'], yticklabels=['Class 0', 'Class 1'])\n",
    "    plt.xlabel('Predicted')\n",
    "    plt.ylabel('Actual')\n",
    "    plt.title('Confusion Matrix Heatmap')\n",
    "    plt.show()\n",
    "    \n",
    "    # Classification Report\n",
    "    cr = classification_report(y_test, y_pred)\n",
    "    print(f\"Classification Report for {name}:\\n{cr}\")\n",
    "\n",
    "    # dumping the created model\n",
    "    joblib.dump(clf, 'Review_classifier_LG.pkl')"
   ]
  },
  {
   "attachments": {
    "123aa154-93c4-4136-b834-708ad42faabe.png": {
     "image/png": "[encoded data removed]"
    },
    "e0e5952e-e723-470b-bd94-432aec5e03f8.png": {
     "image/png": "[encoded data removed]"
    }
   },
   "cell_type": "markdown",
   "id": "5e9ab67a",
   "metadata": {
    "papermill": {
     "duration": 0.042661,
     "end_time": "2024-12-18T20:14:31.086834",
     "exception": false,
     "start_time": "2024-12-18T20:14:31.044173",
     "status": "completed"
    },
    "tags": []
   },
   "source": [
    "## Best Performing Model:\n",
    "\n",
    "Training Logistic Regression 3...\n",
    "\r\n",
    "Evaluating Logistic Regression 3..\n",
    "\n",
    "Accuracy for Logistic Regression 3: 0.97\n",
    "\n",
    "\n",
    "![image.png](attachment:123aa154-93c4-4136-b834-708ad42faabe.png)\n",
    "\n",
    "![image.png](attachment:e0e5952e-e723-470b-bd94-432aec5e03f8.png)"
   ]
  },
  {
   "cell_type": "markdown",
   "id": "c921c83a",
   "metadata": {
    "papermill": {
     "duration": 0.039994,
     "end_time": "2024-12-18T20:14:31.166731",
     "exception": false,
     "start_time": "2024-12-18T20:14:31.126737",
     "status": "completed"
    },
    "tags": []
   },
   "source": [
    "## Grid search CV for finding out best hyperparams"
   ]
  },
  {
   "cell_type": "code",
   "execution_count": 64,
   "id": "085ddfd7",
   "metadata": {
    "execution": {
     "iopub.execute_input": "2024-12-18T20:14:31.250532Z",
     "iopub.status.busy": "2024-12-18T20:14:31.250078Z",
     "iopub.status.idle": "2024-12-18T20:14:31.257767Z",
     "shell.execute_reply": "2024-12-18T20:14:31.256461Z"
    },
    "papermill": {
     "duration": 0.052831,
     "end_time": "2024-12-18T20:14:31.260217",
     "exception": false,
     "start_time": "2024-12-18T20:14:31.207386",
     "status": "completed"
    },
    "tags": []
   },
   "outputs": [],
   "source": [
    "# from sklearn.linear_model import LogisticRegression\n",
    "# from sklearn.svm import SVC\n",
    "# from sklearn.ensemble import RandomForestClassifier, GradientBoostingClassifier\n",
    "# from sklearn.neighbors import KNeighborsClassifier\n",
    "# from sklearn.model_selection import GridSearchCV, cross_val_score\n",
    "# from sklearn.metrics import accuracy_score, confusion_matrix, classification_report\n",
    "# import matplotlib.pyplot as plt\n",
    "# import seaborn as sns\n",
    "# import pandas as pd\n",
    "\n",
    "# # Define the classifiers and their respective parameter grids\n",
    "# param_grids = {\n",
    "#     \"Logistic Regression\": {\n",
    "#         \"classifier\": LogisticRegression(max_iter=1000),\n",
    "#         \"params\": {\n",
    "#             \"C\": [0.0001, 0.001, 0.01, 0.1, 1, 10],\n",
    "#             \"penalty\": [\"l1\", \"l2\"],\n",
    "#             \"solver\": [\"liblinear\", \"saga\"]\n",
    "#         }\n",
    "#     },\n",
    "#     \"Support Vector Machine\": {\n",
    "#         \"classifier\": SVC(),\n",
    "#         \"params\": {\n",
    "#             \"C\": [0.001, 0.01, 0.1, 1, 10],\n",
    "#             \"kernel\": [\"linear\", \"poly\", \"rbf\", \"sigmoid\"]\n",
    "#         }\n",
    "#     },\n",
    "#     \"Random Forest\": {\n",
    "#         \"classifier\": RandomForestClassifier(),\n",
    "#         \"params\": {\n",
    "#             \"n_estimators\": [30, 40, 50, 100, 200],\n",
    "#             \"max_depth\": [None, 10, 20, 30],\n",
    "#             \"min_samples_split\": [2, 5, 10],\n",
    "#             \"min_samples_leaf\": [1, 2, 4]\n",
    "#         }\n",
    "#     },\n",
    "#     \"Gradient Boosting\": {\n",
    "#         \"classifier\": GradientBoostingClassifier(),\n",
    "#         \"params\": {\n",
    "#             \"learning_rate\": [0.01, 0.1, 0.2],\n",
    "#             \"n_estimators\": [30, 40, 50, 100, 200],\n",
    "#             \"max_depth\": [3, 4, 5]\n",
    "#         }\n",
    "#     },\n",
    "#     \"K-Nearest Neighbors\": {\n",
    "#         \"classifier\": KNeighborsClassifier(),\n",
    "#         \"params\": {\n",
    "#             \"n_neighbors\": [1, 2, 3, 5, 7, 9],\n",
    "#             \"weights\": [\"uniform\", \"distance\"]\n",
    "#         }\n",
    "#     }\n",
    "# }\n",
    "\n",
    "# n_folds = 5\n",
    "\n",
    "# # Perform Grid Search with Cross-Validation\n",
    "# best_classifiers = {}\n",
    "# all_cv_results = {}\n",
    "# for name, clf_dict in param_grids.items():\n",
    "#     clf = clf_dict[\"classifier\"]\n",
    "#     param_grid = clf_dict[\"params\"]\n",
    "#     print(f\"Performing Grid Search for {name}...\")\n",
    "#     grid_search = GridSearchCV(estimator=clf, param_grid=param_grid, cv=n_folds, n_jobs=-1, scoring='accuracy', return_train_score=True)\n",
    "#     grid_search.fit(X_train, y_train)\n",
    "#     best_classifiers[name] = grid_search.best_estimator_\n",
    "#     all_cv_results[name] = pd.DataFrame(grid_search.cv_results_)\n",
    "#     print(f\"Best parameters for {name}: {grid_search.best_params_}\")\n",
    "#     print(f\"Best cross-validation score for {name}: {grid_search.best_score_:.2f}\")\n",
    "#     print(\"\\n\" + \"-\"*60 + \"\\n\")\n",
    "\n",
    "# # Display all hyperparameter results\n",
    "# for name, cv_results in all_cv_results.items():\n",
    "#     print(f\"All hyperparameter results for {name}:\")\n",
    "#     display(cv_results)"
   ]
  },
  {
   "cell_type": "markdown",
   "id": "de7f56c7",
   "metadata": {
    "papermill": {
     "duration": 0.039112,
     "end_time": "2024-12-18T20:14:31.338651",
     "exception": false,
     "start_time": "2024-12-18T20:14:31.299539",
     "status": "completed"
    },
    "tags": []
   },
   "source": [
    "## Best Hyperparams "
   ]
  },
  {
   "cell_type": "markdown",
   "id": "266f1dcd",
   "metadata": {
    "papermill": {
     "duration": 0.039167,
     "end_time": "2024-12-18T20:14:31.417086",
     "exception": false,
     "start_time": "2024-12-18T20:14:31.377919",
     "status": "completed"
    },
    "tags": []
   },
   "source": [
    "    \"Logistic Regression 1\": LogisticRegression(max_iter=1000, C=0.0001, penalty=\"l2\", solver=\"saga\"),\n",
    "    \"Logistic Regression 2\": LogisticRegression(max_iter=1000, C=0.0002, penalty=\"l2\", solver=\"saga\"),\n",
    "    \"Logistic Regression 3\": LogisticRegression(max_iter=1000, C=0.0003, penalty=\"l2\", solver=\"saga\"),\n",
    "    \"Logistic Regression 4\": LogisticRegression(max_iter=1000, C=0.0004, penalty=\"l2\", solver=\"saga\"),\n",
    "    \"Logistic Regression 5\": LogisticRegression(max_iter=1000, C=0.0005, penalty=\"l2\", solver=\"saga\"),\n",
    "    \"Support Vector Machine 1\": SVC(C=0.001, kernel=\"poly\"),\n",
    "    \"Support Vector Machine 2\": SVC(C=0.001, kernel=\"rbf\"),\n",
    "    \"Support Vector Machine 3\": SVC(C=0.001, kernel=\"sigmoid\"),\n",
    "    \"Support Vector Machine 1\": SVC(C=0.0001, kernel=\"poly\"),\n",
    "    \"Support Vector Machine 2\": SVC(C=0.0001, kernel=\"rbf\"),\n",
    "    \"Support Vector Machine 3\": SVC(C=0.0001, kernel=\"sigmoid\"),"
   ]
  },
  {
   "cell_type": "markdown",
   "id": "9a9b2499",
   "metadata": {
    "papermill": {
     "duration": 0.040531,
     "end_time": "2024-12-18T20:14:31.498356",
     "exception": false,
     "start_time": "2024-12-18T20:14:31.457825",
     "status": "completed"
    },
    "tags": []
   },
   "source": [
    "# Creating Pipelines for deployment purpose"
   ]
  },
  {
   "cell_type": "markdown",
   "id": "acce88bb",
   "metadata": {
    "papermill": {
     "duration": 0.042221,
     "end_time": "2024-12-18T20:14:31.580644",
     "exception": false,
     "start_time": "2024-12-18T20:14:31.538423",
     "status": "completed"
    },
    "tags": []
   },
   "source": [
    "## Numerical features scaling pipeline"
   ]
  },
  {
   "cell_type": "code",
   "execution_count": 65,
   "id": "f0bd7e8d",
   "metadata": {
    "execution": {
     "iopub.execute_input": "2024-12-18T20:14:31.660951Z",
     "iopub.status.busy": "2024-12-18T20:14:31.660522Z",
     "iopub.status.idle": "2024-12-18T20:14:31.685428Z",
     "shell.execute_reply": "2024-12-18T20:14:31.684224Z"
    },
    "papermill": {
     "duration": 0.067935,
     "end_time": "2024-12-18T20:14:31.687853",
     "exception": false,
     "start_time": "2024-12-18T20:14:31.619918",
     "status": "completed"
    },
    "tags": []
   },
   "outputs": [
    {
     "name": "stdout",
     "output_type": "stream",
     "text": [
      "[[ 0.73559508 -0.66735565  0.68136854  0.51034363]]\n"
     ]
    }
   ],
   "source": [
    "from sklearn.pipeline import Pipeline as PL\n",
    "from sklearn.preprocessing import StandardScaler\n",
    "\n",
    "scaling_pipeline = PL([ ('scalar', StandardScaler()) ])\n",
    "\n",
    "scaling_pipeline.fit(scaling_pipeline_fitting_data)\n",
    "\n",
    "input_data = {\n",
    "    'reviewLength': 653, \n",
    "    'helpfulRatio': 0.0, \n",
    "    'wordCount': 117,\n",
    "    'avgWordLength': 4.538462\n",
    "}\n",
    "\n",
    "# Convert the input dictionary to a Pandas DataFrame\n",
    "input_df = pd.DataFrame([input_data])\n",
    "\n",
    "ans = scaling_pipeline.transform(input_df)\n",
    "\n",
    "print(ans)"
   ]
  },
  {
   "cell_type": "markdown",
   "id": "8b92bb88",
   "metadata": {
    "papermill": {
     "duration": 0.039737,
     "end_time": "2024-12-18T20:14:31.767357",
     "exception": false,
     "start_time": "2024-12-18T20:14:31.727620",
     "status": "completed"
    },
    "tags": []
   },
   "source": [
    "## Text Vectorization Pipeline"
   ]
  },
  {
   "cell_type": "code",
   "execution_count": 66,
   "id": "23e29c3c",
   "metadata": {
    "execution": {
     "iopub.execute_input": "2024-12-18T20:14:31.849970Z",
     "iopub.status.busy": "2024-12-18T20:14:31.849444Z",
     "iopub.status.idle": "2024-12-18T20:14:36.411849Z",
     "shell.execute_reply": "2024-12-18T20:14:36.410522Z"
    },
    "papermill": {
     "duration": 4.607247,
     "end_time": "2024-12-18T20:14:36.414154",
     "exception": false,
     "start_time": "2024-12-18T20:14:31.806907",
     "status": "completed"
    },
    "tags": []
   },
   "outputs": [
    {
     "name": "stdout",
     "output_type": "stream",
     "text": [
      "   0     1     2     3     4     5     6     7     8     9     ...  1990  \\\n",
      "0   0.0   0.0   0.0   0.0   0.0   0.0   0.0   0.0   0.0   0.0  ...   0.0   \n",
      "\n",
      "   1991  1992  1993  1994  1995  1996  1997  1998  1999  \n",
      "0   0.0   0.0   0.0   0.0   0.0   0.0   0.0   0.0   0.0  \n",
      "\n",
      "[1 rows x 2000 columns]\n"
     ]
    }
   ],
   "source": [
    "from sklearn.pipeline import Pipeline as PL\n",
    "from sklearn.feature_extraction.text import TfidfVectorizer\n",
    "\n",
    "vectorization_pipeline = PL([ ('tfidf_vectorizer', TfidfVectorizer(max_features=2000, max_df=0.8)) ])\n",
    "\n",
    "vectorization_pipeline.fit(vectorization_pipeline_fitting_data)\n",
    "\n",
    "input_data = {\n",
    "    'cleaned_reviewText': \"product amazing cannot believe well work use week impress highly recommend\"\n",
    "}\n",
    "\n",
    "\n",
    "input_df = pd.DataFrame([input_data])\n",
    "\n",
    "ans = vectorization_pipeline.transform(input_df)\n",
    "\n",
    "dense_matrix = ans.toarray()\n",
    "\n",
    "df_dense = pd.DataFrame(dense_matrix)\n",
    "\n",
    "print(df_dense)"
   ]
  },
  {
   "cell_type": "markdown",
   "id": "90a680eb",
   "metadata": {
    "papermill": {
     "duration": 0.040716,
     "end_time": "2024-12-18T20:14:36.495624",
     "exception": false,
     "start_time": "2024-12-18T20:14:36.454908",
     "status": "completed"
    },
    "tags": []
   },
   "source": [
    "## Dumping Pipelines"
   ]
  },
  {
   "cell_type": "code",
   "execution_count": 67,
   "id": "e83ed789",
   "metadata": {
    "execution": {
     "iopub.execute_input": "2024-12-18T20:14:36.583195Z",
     "iopub.status.busy": "2024-12-18T20:14:36.582076Z",
     "iopub.status.idle": "2024-12-18T20:14:36.635075Z",
     "shell.execute_reply": "2024-12-18T20:14:36.633923Z"
    },
    "papermill": {
     "duration": 0.099603,
     "end_time": "2024-12-18T20:14:36.637586",
     "exception": false,
     "start_time": "2024-12-18T20:14:36.537983",
     "status": "completed"
    },
    "tags": []
   },
   "outputs": [
    {
     "name": "stdout",
     "output_type": "stream",
     "text": [
      "Scaling pipeline has been dumped successfully.\n",
      "Vectorization Pipeline has been dumped successfully.\n"
     ]
    }
   ],
   "source": [
    "import pickle\n",
    "\n",
    "with open('scaling_pipeline.pkl', 'wb') as file:\n",
    "    pickle.dump(scaling_pipeline, file)\n",
    "\n",
    "print(\"Scaling pipeline has been dumped successfully.\")\n",
    "\n",
    "with open('vectorization_pipeline.pkl', 'wb') as file:\n",
    "    pickle.dump(vectorization_pipeline, file)\n",
    "\n",
    "print(\"Vectorization Pipeline has been dumped successfully.\")"
   ]
  },
  {
   "cell_type": "markdown",
   "id": "ef7843e4",
   "metadata": {
    "papermill": {
     "duration": 0.039204,
     "end_time": "2024-12-18T20:14:36.717100",
     "exception": false,
     "start_time": "2024-12-18T20:14:36.677896",
     "status": "completed"
    },
    "tags": []
   },
   "source": [
    "## Freezing requirements.txt for deployment purpose"
   ]
  },
  {
   "cell_type": "code",
   "execution_count": 68,
   "id": "805b0614",
   "metadata": {
    "execution": {
     "iopub.execute_input": "2024-12-18T20:14:36.799115Z",
     "iopub.status.busy": "2024-12-18T20:14:36.798730Z",
     "iopub.status.idle": "2024-12-18T20:14:40.877933Z",
     "shell.execute_reply": "2024-12-18T20:14:40.876243Z"
    },
    "papermill": {
     "duration": 4.123339,
     "end_time": "2024-12-18T20:14:40.880887",
     "exception": false,
     "start_time": "2024-12-18T20:14:36.757548",
     "status": "completed"
    },
    "tags": []
   },
   "outputs": [],
   "source": [
    "!pip freeze > requirements.txt"
   ]
  }
 ],
 "metadata": {
  "kaggle": {
   "accelerator": "none",
   "dataSources": [
    {
     "datasetId": 1135527,
     "sourceId": 1904905,
     "sourceType": "datasetVersion"
    }
   ],
   "isGpuEnabled": false,
   "isInternetEnabled": true,
   "language": "python",
   "sourceType": "notebook"
  },
  "kernelspec": {
   "display_name": "Python 3",
   "language": "python",
   "name": "python3"
  },
  "language_info": {
   "codemirror_mode": {
    "name": "ipython",
    "version": 3
   },
   "file_extension": ".py",
   "mimetype": "text/x-python",
   "name": "python",
   "nbconvert_exporter": "python",
   "pygments_lexer": "ipython3",
   "version": "3.10.14"
  },
  "papermill": {
   "default_parameters": {},
   "duration": 2580.931588,
   "end_time": "2024-12-18T20:14:44.266200",
   "environment_variables": {},
   "exception": null,
   "input_path": "__notebook__.ipynb",
   "output_path": "__notebook__.ipynb",
   "parameters": {},
   "start_time": "2024-12-18T19:31:43.334612",
   "version": "2.6.0"
  }
 },
 "nbformat": 4,
 "nbformat_minor": 5
}
